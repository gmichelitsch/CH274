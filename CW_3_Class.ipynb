{
 "cells": [
  {
   "cell_type": "code",
   "execution_count": null,
   "metadata": {},
   "outputs": [],
   "source": [
    "from IPython.display import HTML\n",
    "from IPython.display import display\n",
    "\n",
    "# Taken from https://stackoverflow.com/questions/31517194/how-to-hide-one-specific-cell-input-or-output-in-ipython-notebook\n",
    "tag = HTML('''<script>\n",
    "code_show=true; \n",
    "function code_toggle() {\n",
    "    if (code_show){\n",
    "        $('div.cell.code_cell.rendered.selected div.input').hide();\n",
    "    } else {\n",
    "        $('div.cell.code_cell.rendered.selected div.input').show();\n",
    "    }\n",
    "    code_show = !code_show\n",
    "} \n",
    "$( document ).ready(code_toggle);\n",
    "</script>\n",
    "Some hidden code... to show/hide this cell's raw code input, click (or double click if stubborn!) <a href=\"javascript:code_toggle()\">here</a>.''')\n",
    "display(tag)\n",
    "\n",
    "############### Write code below ##################\n",
    "from IPython.core.display import HTML\n",
    "def css_styling():\n",
    "    styles = open(\"./STUFF/colors.css\", \"r\").read()\n",
    "    return HTML(styles)\n",
    "css_styling()"
   ]
  },
  {
   "cell_type": "markdown",
   "metadata": {},
   "source": [
    "<div class=warn>\n",
    "These blue boxes contain instructions for you to follow, or stuff for you to do\n",
    "<h2>How to access this Jupyter notebook</h2>\n",
    "\n",
    "* <b>Step 1</b>: Open a web browser, go to [this page](https://warwick.ac.uk/fac/sci/chemistry/research/maurer/maurergroup/software/iatl_strategic_project/), scroll down, download the Login App (the Windows exacutable if using ITS machines) and double click on the executable (usually ended up into the Download folder) <br>\n",
    "* <b>Step 2</b>: The Notebook Launcher pops up: select the CH274 module and fill in the boxes using your SCRTP username and password <br>\n",
    "* <b>Step 3</b>: Open the Jupyter notebook you are interested in, e.g. KS_3_Class.ipynb <br>\n",
    "* <b>Step 4</b>: Make a copy of the orginal notebook (which is read only). In the toolbar on top of the notebook: File - Make a Copy <br>\n",
    "* <b>Step 5</b>: You're all set! <br><br>\n",
    "<b> Remember: </b> You can access this notebook at home at any time by going through the same steps on e.g. your laptop - all the changes you have made will be saved and synced! At the moment, though, you'll have to tunnel through the campus network via VPN (see [here](https://warwick.ac.uk/services/its/servicessupport/networkservices/vpn/))<br>\n",
    "<div/>"
   ]
  },
  {
   "cell_type": "markdown",
   "metadata": {},
   "source": [
    "# CH274: Computational Workshop 3\n",
    "## Using a Hückel MO code to study Polyaromatic Hydrocarbons (PAHs)\n",
    "\n",
    "In this workshop, we are going to\n",
    "* see how a Huckel/tight-binding Python code works\n",
    "* apply this code to study the stability and reactivity of three different polyaromatic hydrocarbons, namely:\n",
    "<img src=\"STUFF/3mols.png\">\n",
    "\n",
    "These three molecules are PAH molecules, which are created from incomplete combustion in cars, industrial exhaust, and soot. They are known potent carcinogens. All three have the same number of sp2 hybridised carbon atoms (22) and we can compare them directly with Hückel theory.\n",
    "\n",
    "\n"
   ]
  },
  {
   "cell_type": "markdown",
   "metadata": {},
   "source": [
    "\n",
    "Based on the contents of this workshop, you will be given a homework assignment.\n"
   ]
  },
  {
   "cell_type": "markdown",
   "metadata": {},
   "source": [
    "## Part 1: Setting up the input data\n",
    "\n",
    "We will first set up our input data for the three molecules. The code will require the respective Hückel matrices as input. We can use the connectivity matrix that defines the molecule, which is almost the same as the Hückel matrix. The connectivity matrix tells us which carbon atoms are connected to each other. If atoms are bonded, the matrix element is -1, if they are non-bonded, the matrix element has a 0.\n",
    "\n",
    "The following cell reads the required information for the three molecules from a database of more than 500 PAHs and then prints the connectivity matrices and the Lewis formulas."
   ]
  },
  {
   "cell_type": "code",
   "execution_count": 1,
   "metadata": {},
   "outputs": [
    {
     "data": {
      "image/svg+xml": [
       "<svg baseProfile=\"full\" height=\"300px\" version=\"1.1\" width=\"900px\" xml:space=\"preserve\" xmlns=\"http://www.w3.org/2000/svg\" xmlns:rdkit=\"http://www.rdkit.org/xml\" xmlns:xlink=\"http://www.w3.org/1999/xlink\">\n",
       "<rect height=\"300\" style=\"opacity:1.0;fill:#FFFFFF;stroke:none\" width=\"900\" x=\"0\" y=\"0\"> </rect>\n",
       "<path d=\"M 33.5146,179.602 24.7564,174.484\" style=\"fill:none;fill-rule:evenodd;stroke:#000000;stroke-width:2px;stroke-linecap:butt;stroke-linejoin:miter;stroke-opacity:1\"/>\n",
       "<path d=\"M 36.1362,172.101 30.0054,168.518\" style=\"fill:none;fill-rule:evenodd;stroke:#000000;stroke-width:2px;stroke-linecap:butt;stroke-linejoin:miter;stroke-opacity:1\"/>\n",
       "<path d=\"M 56.2668,179.602 64.5442,174.977\" style=\"fill:none;fill-rule:evenodd;stroke:#000000;stroke-width:2px;stroke-linecap:butt;stroke-linejoin:miter;stroke-opacity:1\"/>\n",
       "<path d=\"M 13.6364,161.485 13.6364,138.517\" style=\"fill:none;fill-rule:evenodd;stroke:#000000;stroke-width:2px;stroke-linecap:butt;stroke-linejoin:miter;stroke-opacity:1\"/>\n",
       "<path d=\"M 24.7564,125.519 33.5146,120.4\" style=\"fill:none;fill-rule:evenodd;stroke:#000000;stroke-width:2px;stroke-linecap:butt;stroke-linejoin:miter;stroke-opacity:1\"/>\n",
       "<path d=\"M 30.0054,131.485 36.1362,127.901\" style=\"fill:none;fill-rule:evenodd;stroke:#000000;stroke-width:2px;stroke-linecap:butt;stroke-linejoin:miter;stroke-opacity:1\"/>\n",
       "<path d=\"M 56.2675,120.4 64.5408,125.023\" style=\"fill:none;fill-rule:evenodd;stroke:#000000;stroke-width:2px;stroke-linecap:butt;stroke-linejoin:miter;stroke-opacity:1\"/>\n",
       "<path d=\"M 76.1741,138.021 76.1758,161.979\" style=\"fill:none;fill-rule:evenodd;stroke:#000000;stroke-width:2px;stroke-linecap:butt;stroke-linejoin:miter;stroke-opacity:1\"/>\n",
       "<path d=\"M 68.3754,141.615 68.3766,158.386\" style=\"fill:none;fill-rule:evenodd;stroke:#000000;stroke-width:2px;stroke-linecap:butt;stroke-linejoin:miter;stroke-opacity:1\"/>\n",
       "<path d=\"M 88.3137,127.482 96.1064,124.89\" style=\"fill:none;fill-rule:evenodd;stroke:#000000;stroke-width:2px;stroke-linecap:butt;stroke-linejoin:miter;stroke-opacity:1\"/>\n",
       "<path d=\"M 88.3163,172.518 100.444,176.553\" style=\"fill:none;fill-rule:evenodd;stroke:#000000;stroke-width:2px;stroke-linecap:butt;stroke-linejoin:miter;stroke-opacity:1\"/>\n",
       "<path d=\"M 116.675,187.092 127.669,204.562\" style=\"fill:none;fill-rule:evenodd;stroke:#000000;stroke-width:2px;stroke-linecap:butt;stroke-linejoin:miter;stroke-opacity:1\"/>\n",
       "<path d=\"M 124.924,185.558 132.621,197.787\" style=\"fill:none;fill-rule:evenodd;stroke:#000000;stroke-width:2px;stroke-linecap:butt;stroke-linejoin:miter;stroke-opacity:1\"/>\n",
       "<path d=\"M 116.765,174.094 128.081,156.499\" style=\"fill:none;fill-rule:evenodd;stroke:#000000;stroke-width:2px;stroke-linecap:butt;stroke-linejoin:miter;stroke-opacity:1\"/>\n",
       "<path d=\"M 143.9,211.062 156.095,211.062\" style=\"fill:none;fill-rule:evenodd;stroke:#000000;stroke-width:2px;stroke-linecap:butt;stroke-linejoin:miter;stroke-opacity:1\"/>\n",
       "<path d=\"M 172.325,204.564 183.32,187.092\" style=\"fill:none;fill-rule:evenodd;stroke:#000000;stroke-width:2px;stroke-linecap:butt;stroke-linejoin:miter;stroke-opacity:1\"/>\n",
       "<path d=\"M 167.374,197.79 175.07,185.559\" style=\"fill:none;fill-rule:evenodd;stroke:#000000;stroke-width:2px;stroke-linecap:butt;stroke-linejoin:miter;stroke-opacity:1\"/>\n",
       "<path d=\"M 199.55,176.554 207.343,173.961\" style=\"fill:none;fill-rule:evenodd;stroke:#000000;stroke-width:2px;stroke-linecap:butt;stroke-linejoin:miter;stroke-opacity:1\"/>\n",
       "<path d=\"M 183.23,174.094 171.914,156.499\" style=\"fill:none;fill-rule:evenodd;stroke:#000000;stroke-width:2px;stroke-linecap:butt;stroke-linejoin:miter;stroke-opacity:1\"/>\n",
       "<path d=\"M 235.452,174.977 243.734,179.605\" style=\"fill:none;fill-rule:evenodd;stroke:#000000;stroke-width:2px;stroke-linecap:butt;stroke-linejoin:miter;stroke-opacity:1\"/>\n",
       "<path d=\"M 240.499,168.863 246.296,172.103\" style=\"fill:none;fill-rule:evenodd;stroke:#000000;stroke-width:2px;stroke-linecap:butt;stroke-linejoin:miter;stroke-opacity:1\"/>\n",
       "<path d=\"M 223.822,161.979 223.823,138.021\" style=\"fill:none;fill-rule:evenodd;stroke:#000000;stroke-width:2px;stroke-linecap:butt;stroke-linejoin:miter;stroke-opacity:1\"/>\n",
       "<path d=\"M 266.484,179.605 275.245,174.484\" style=\"fill:none;fill-rule:evenodd;stroke:#000000;stroke-width:2px;stroke-linecap:butt;stroke-linejoin:miter;stroke-opacity:1\"/>\n",
       "<path d=\"M 286.364,161.485 286.364,138.517\" style=\"fill:none;fill-rule:evenodd;stroke:#000000;stroke-width:2px;stroke-linecap:butt;stroke-linejoin:miter;stroke-opacity:1\"/>\n",
       "<path d=\"M 278.565,158.04 278.565,141.963\" style=\"fill:none;fill-rule:evenodd;stroke:#000000;stroke-width:2px;stroke-linecap:butt;stroke-linejoin:miter;stroke-opacity:1\"/>\n",
       "<path d=\"M 275.247,125.519 266.482,120.395\" style=\"fill:none;fill-rule:evenodd;stroke:#000000;stroke-width:2px;stroke-linecap:butt;stroke-linejoin:miter;stroke-opacity:1\"/>\n",
       "<path d=\"M 243.735,120.395 235.454,125.023\" style=\"fill:none;fill-rule:evenodd;stroke:#000000;stroke-width:2px;stroke-linecap:butt;stroke-linejoin:miter;stroke-opacity:1\"/>\n",
       "<path d=\"M 246.297,127.897 240.501,131.137\" style=\"fill:none;fill-rule:evenodd;stroke:#000000;stroke-width:2px;stroke-linecap:butt;stroke-linejoin:miter;stroke-opacity:1\"/>\n",
       "<path d=\"M 207.346,126.04 203.888,124.889\" style=\"fill:none;fill-rule:evenodd;stroke:#000000;stroke-width:2px;stroke-linecap:butt;stroke-linejoin:miter;stroke-opacity:1\"/>\n",
       "<path d=\"M 183.321,112.908 172.327,95.4358\" style=\"fill:none;fill-rule:evenodd;stroke:#000000;stroke-width:2px;stroke-linecap:butt;stroke-linejoin:miter;stroke-opacity:1\"/>\n",
       "<path d=\"M 175.071,114.441 167.375,102.21\" style=\"fill:none;fill-rule:evenodd;stroke:#000000;stroke-width:2px;stroke-linecap:butt;stroke-linejoin:miter;stroke-opacity:1\"/>\n",
       "<path d=\"M 183.23,125.906 171.914,143.501\" style=\"fill:none;fill-rule:evenodd;stroke:#000000;stroke-width:2px;stroke-linecap:butt;stroke-linejoin:miter;stroke-opacity:1\"/>\n",
       "<path d=\"M 151.76,88.9379 148.238,88.9381\" style=\"fill:none;fill-rule:evenodd;stroke:#000000;stroke-width:2px;stroke-linecap:butt;stroke-linejoin:miter;stroke-opacity:1\"/>\n",
       "<path d=\"M 127.669,95.4384 116.675,112.908\" style=\"fill:none;fill-rule:evenodd;stroke:#000000;stroke-width:2px;stroke-linecap:butt;stroke-linejoin:miter;stroke-opacity:1\"/>\n",
       "<path d=\"M 132.621,102.213 124.924,114.442\" style=\"fill:none;fill-rule:evenodd;stroke:#000000;stroke-width:2px;stroke-linecap:butt;stroke-linejoin:miter;stroke-opacity:1\"/>\n",
       "<path d=\"M 116.765,125.906 128.081,143.501\" style=\"fill:none;fill-rule:evenodd;stroke:#000000;stroke-width:2px;stroke-linecap:butt;stroke-linejoin:miter;stroke-opacity:1\"/>\n",
       "<path d=\"M 148.739,150 151.256,150\" style=\"fill:none;fill-rule:evenodd;stroke:#000000;stroke-width:2px;stroke-linecap:butt;stroke-linejoin:miter;stroke-opacity:1\"/>\n",
       "<path d=\"M 149.117,142.201 150.878,142.201\" style=\"fill:none;fill-rule:evenodd;stroke:#000000;stroke-width:2px;stroke-linecap:butt;stroke-linejoin:miter;stroke-opacity:1\"/>\n",
       "<text style=\"font-size:12px;font-style:normal;font-weight:normal;fill-opacity:1;stroke:none;font-family:sans-serif;text-anchor:start;fill:#000000\" x=\"32.4946\" y=\"192.601\"><tspan>C:0</tspan></text>\n",
       "<text style=\"font-size:12px;font-style:normal;font-weight:normal;fill-opacity:1;stroke:none;font-family:sans-serif;text-anchor:start;fill:#000000\" x=\"1.49632\" y=\"174.484\"><tspan>C:1</tspan></text>\n",
       "<text style=\"font-size:12px;font-style:normal;font-weight:normal;fill-opacity:1;stroke:none;font-family:sans-serif;text-anchor:start;fill:#000000\" x=\"1.49632\" y=\"138.517\"><tspan>C:2</tspan></text>\n",
       "<text style=\"font-size:12px;font-style:normal;font-weight:normal;fill-opacity:1;stroke:none;font-family:sans-serif;text-anchor:start;fill:#000000\" x=\"32.4946\" y=\"120.4\"><tspan>C:3</tspan></text>\n",
       "<text style=\"font-size:12px;font-style:normal;font-weight:normal;fill-opacity:1;stroke:none;font-family:sans-serif;text-anchor:start;fill:#000000\" x=\"64.0336\" y=\"138.021\"><tspan>C:4</tspan></text>\n",
       "<text style=\"font-size:12px;font-style:normal;font-weight:normal;fill-opacity:1;stroke:none;font-family:sans-serif;text-anchor:start;fill:#000000\" x=\"64.0362\" y=\"174.977\"><tspan>C:5</tspan></text>\n",
       "<text style=\"font-size:12px;font-style:normal;font-weight:normal;fill-opacity:1;stroke:none;font-family:sans-serif;text-anchor:start;fill:#000000\" x=\"100.444\" y=\"187.092\"><tspan>C:6</tspan></text>\n",
       "<text style=\"font-size:12px;font-style:normal;font-weight:normal;fill-opacity:1;stroke:none;font-family:sans-serif;text-anchor:start;fill:#000000\" x=\"119.619\" y=\"217.56\"><tspan>C:7</tspan></text>\n",
       "<text style=\"font-size:12px;font-style:normal;font-weight:normal;fill-opacity:1;stroke:none;font-family:sans-serif;text-anchor:start;fill:#000000\" x=\"156.095\" y=\"217.562\"><tspan>C:8</tspan></text>\n",
       "<text style=\"font-size:12px;font-style:normal;font-weight:normal;fill-opacity:1;stroke:none;font-family:sans-serif;text-anchor:start;fill:#000000\" x=\"175.27\" y=\"187.092\"><tspan>C:9</tspan></text>\n",
       "<text style=\"font-size:12px;font-style:normal;font-weight:normal;fill-opacity:1;stroke:none;font-family:sans-serif;text-anchor:start;fill:#000000\" x=\"207.343\" y=\"174.977\"><tspan>C:10</tspan></text>\n",
       "<text style=\"font-size:12px;font-style:normal;font-weight:normal;fill-opacity:1;stroke:none;font-family:sans-serif;text-anchor:start;fill:#000000\" x=\"238.887\" y=\"192.603\"><tspan>C:11</tspan></text>\n",
       "<text style=\"font-size:12px;font-style:normal;font-weight:normal;fill-opacity:1;stroke:none;font-family:sans-serif;text-anchor:start;fill:#000000\" x=\"269.886\" y=\"174.484\"><tspan>C:12</tspan></text>\n",
       "<text style=\"font-size:12px;font-style:normal;font-weight:normal;fill-opacity:1;stroke:none;font-family:sans-serif;text-anchor:start;fill:#000000\" x=\"269.886\" y=\"138.517\"><tspan>C:13</tspan></text>\n",
       "<text style=\"font-size:12px;font-style:normal;font-weight:normal;fill-opacity:1;stroke:none;font-family:sans-serif;text-anchor:start;fill:#000000\" x=\"238.887\" y=\"120.395\"><tspan>C:14</tspan></text>\n",
       "<text style=\"font-size:12px;font-style:normal;font-weight:normal;fill-opacity:1;stroke:none;font-family:sans-serif;text-anchor:start;fill:#000000\" x=\"207.346\" y=\"138.021\"><tspan>C:15</tspan></text>\n",
       "<text style=\"font-size:12px;font-style:normal;font-weight:normal;fill-opacity:1;stroke:none;font-family:sans-serif;text-anchor:start;fill:#000000\" x=\"170.932\" y=\"125.906\"><tspan>C:16</tspan></text>\n",
       "<text style=\"font-size:12px;font-style:normal;font-weight:normal;fill-opacity:1;stroke:none;font-family:sans-serif;text-anchor:start;fill:#000000\" x=\"151.76\" y=\"95.4358\"><tspan>C:17</tspan></text>\n",
       "<text style=\"font-size:12px;font-style:normal;font-weight:normal;fill-opacity:1;stroke:none;font-family:sans-serif;text-anchor:start;fill:#000000\" x=\"115.282\" y=\"95.4384\"><tspan>C:18</tspan></text>\n",
       "<text style=\"font-size:12px;font-style:normal;font-weight:normal;fill-opacity:1;stroke:none;font-family:sans-serif;text-anchor:start;fill:#000000\" x=\"96.1064\" y=\"125.906\"><tspan>C:19</tspan></text>\n",
       "<text style=\"font-size:12px;font-style:normal;font-weight:normal;fill-opacity:1;stroke:none;font-family:sans-serif;text-anchor:start;fill:#000000\" x=\"115.783\" y=\"156.499\"><tspan>C:20</tspan></text>\n",
       "<text style=\"font-size:12px;font-style:normal;font-weight:normal;fill-opacity:1;stroke:none;font-family:sans-serif;text-anchor:start;fill:#000000\" x=\"151.256\" y=\"156.499\"><tspan>C:21</tspan></text>\n",
       "<text style=\"font-size:12px;font-style:normal;font-weight:normal;fill-opacity:1;stroke:none;font-family:sans-serif;text-anchor:start;fill:#000000\" x=\"57.904\" y=\"288\"><tspan>Indeno[1,2,3-cd]fluoranthene</tspan></text>\n",
       "</svg>"
      ],
      "text/plain": [
       "<IPython.core.display.SVG object>"
      ]
     },
     "metadata": {},
     "output_type": "display_data"
    },
    {
     "name": "stdout",
     "output_type": "stream",
     "text": [
      " 0  -1   0   0   0  -1   0   0   0   0   0   0   0   0   0   0   0   0   0   0   0   0  \n",
      "-1   0  -1   0   0   0   0   0   0   0   0   0   0   0   0   0   0   0   0   0   0   0  \n",
      " 0  -1   0  -1   0   0   0   0   0   0   0   0   0   0   0   0   0   0   0   0   0   0  \n",
      " 0   0  -1   0  -1   0   0   0   0   0   0   0   0   0   0   0   0   0   0   0   0   0  \n",
      " 0   0   0  -1   0  -1   0   0   0   0   0   0   0   0   0   0   0   0   0  -1   0   0  \n",
      "-1   0   0   0  -1   0  -1   0   0   0   0   0   0   0   0   0   0   0   0   0   0   0  \n",
      " 0   0   0   0   0  -1   0  -1   0   0   0   0   0   0   0   0   0   0   0   0  -1   0  \n",
      " 0   0   0   0   0   0  -1   0  -1   0   0   0   0   0   0   0   0   0   0   0   0   0  \n",
      " 0   0   0   0   0   0   0  -1   0  -1   0   0   0   0   0   0   0   0   0   0   0   0  \n",
      " 0   0   0   0   0   0   0   0  -1   0  -1   0   0   0   0   0   0   0   0   0   0  -1  \n",
      " 0   0   0   0   0   0   0   0   0  -1   0  -1   0   0   0  -1   0   0   0   0   0   0  \n",
      " 0   0   0   0   0   0   0   0   0   0  -1   0  -1   0   0   0   0   0   0   0   0   0  \n",
      " 0   0   0   0   0   0   0   0   0   0   0  -1   0  -1   0   0   0   0   0   0   0   0  \n",
      " 0   0   0   0   0   0   0   0   0   0   0   0  -1   0  -1   0   0   0   0   0   0   0  \n",
      " 0   0   0   0   0   0   0   0   0   0   0   0   0  -1   0  -1   0   0   0   0   0   0  \n",
      " 0   0   0   0   0   0   0   0   0   0  -1   0   0   0  -1   0  -1   0   0   0   0   0  \n",
      " 0   0   0   0   0   0   0   0   0   0   0   0   0   0   0  -1   0  -1   0   0   0  -1  \n",
      " 0   0   0   0   0   0   0   0   0   0   0   0   0   0   0   0  -1   0  -1   0   0   0  \n",
      " 0   0   0   0   0   0   0   0   0   0   0   0   0   0   0   0   0  -1   0  -1   0   0  \n",
      " 0   0   0   0  -1   0   0   0   0   0   0   0   0   0   0   0   0   0  -1   0  -1   0  \n",
      " 0   0   0   0   0   0  -1   0   0   0   0   0   0   0   0   0   0   0   0  -1   0  -1  \n",
      " 0   0   0   0   0   0   0   0   0  -1   0   0   0   0   0   0  -1   0   0   0  -1   0  \n"
     ]
    },
    {
     "data": {
      "image/svg+xml": [
       "<svg baseProfile=\"full\" height=\"300px\" version=\"1.1\" width=\"900px\" xml:space=\"preserve\" xmlns=\"http://www.w3.org/2000/svg\" xmlns:rdkit=\"http://www.rdkit.org/xml\" xmlns:xlink=\"http://www.w3.org/1999/xlink\">\n",
       "<rect height=\"300\" style=\"opacity:1.0;fill:#FFFFFF;stroke:none\" width=\"900\" x=\"0\" y=\"0\"> </rect>\n",
       "<path d=\"M 36.1536,196.93 21.916,183.88\" style=\"fill:none;fill-rule:evenodd;stroke:#000000;stroke-width:2px;stroke-linecap:butt;stroke-linejoin:miter;stroke-opacity:1\"/>\n",
       "<path d=\"M 40.1716,188.259 30.2052,179.124\" style=\"fill:none;fill-rule:evenodd;stroke:#000000;stroke-width:2px;stroke-linecap:butt;stroke-linejoin:miter;stroke-opacity:1\"/>\n",
       "<path d=\"M 58.6094,200.093 65.9393,197.804\" style=\"fill:none;fill-rule:evenodd;stroke:#000000;stroke-width:2px;stroke-linecap:butt;stroke-linejoin:miter;stroke-opacity:1\"/>\n",
       "<path d=\"M 15.1115,168.701 20.1814,142.619\" style=\"fill:none;fill-rule:evenodd;stroke:#000000;stroke-width:2px;stroke-linecap:butt;stroke-linejoin:miter;stroke-opacity:1\"/>\n",
       "<path d=\"M 35.8328,130.057 47.4602,125.978\" style=\"fill:none;fill-rule:evenodd;stroke:#000000;stroke-width:2px;stroke-linecap:butt;stroke-linejoin:miter;stroke-opacity:1\"/>\n",
       "<path d=\"M 40.5915,138.038 48.7306,135.183\" style=\"fill:none;fill-rule:evenodd;stroke:#000000;stroke-width:2px;stroke-linecap:butt;stroke-linejoin:miter;stroke-opacity:1\"/>\n",
       "<path d=\"M 63.1903,113.416 68.9768,85.1567\" style=\"fill:none;fill-rule:evenodd;stroke:#000000;stroke-width:2px;stroke-linecap:butt;stroke-linejoin:miter;stroke-opacity:1\"/>\n",
       "<path d=\"M 70.137,128.594 85.1832,142.027\" style=\"fill:none;fill-rule:evenodd;stroke:#000000;stroke-width:2px;stroke-linecap:butt;stroke-linejoin:miter;stroke-opacity:1\"/>\n",
       "<path d=\"M 84.707,72.4615 94.9471,68.7732\" style=\"fill:none;fill-rule:evenodd;stroke:#000000;stroke-width:2px;stroke-linecap:butt;stroke-linejoin:miter;stroke-opacity:1\"/>\n",
       "<path d=\"M 89.3291,80.4764 96.4972,77.8946\" style=\"fill:none;fill-rule:evenodd;stroke:#000000;stroke-width:2px;stroke-linecap:butt;stroke-linejoin:miter;stroke-opacity:1\"/>\n",
       "<path d=\"M 118.076,71.2563 134.024,84.7742\" style=\"fill:none;fill-rule:evenodd;stroke:#000000;stroke-width:2px;stroke-linecap:butt;stroke-linejoin:miter;stroke-opacity:1\"/>\n",
       "<path d=\"M 157.153,87.8567 168.926,84.1141\" style=\"fill:none;fill-rule:evenodd;stroke:#000000;stroke-width:2px;stroke-linecap:butt;stroke-linejoin:miter;stroke-opacity:1\"/>\n",
       "<path d=\"M 161.678,95.9743 169.919,93.3545\" style=\"fill:none;fill-rule:evenodd;stroke:#000000;stroke-width:2px;stroke-linecap:butt;stroke-linejoin:miter;stroke-opacity:1\"/>\n",
       "<path d=\"M 141.414,99.9525 135.573,128.315\" style=\"fill:none;fill-rule:evenodd;stroke:#000000;stroke-width:2px;stroke-linecap:butt;stroke-linejoin:miter;stroke-opacity:1\"/>\n",
       "<path d=\"M 191.519,87.1966 206.403,100.617\" style=\"fill:none;fill-rule:evenodd;stroke:#000000;stroke-width:2px;stroke-linecap:butt;stroke-linejoin:miter;stroke-opacity:1\"/>\n",
       "<path d=\"M 213.29,115.796 207.848,142.798\" style=\"fill:none;fill-rule:evenodd;stroke:#000000;stroke-width:2px;stroke-linecap:butt;stroke-linejoin:miter;stroke-opacity:1\"/>\n",
       "<path d=\"M 228.995,103.775 236.319,101.486\" style=\"fill:none;fill-rule:evenodd;stroke:#000000;stroke-width:2px;stroke-linecap:butt;stroke-linejoin:miter;stroke-opacity:1\"/>\n",
       "<path d=\"M 232.811,112.124 237.937,110.522\" style=\"fill:none;fill-rule:evenodd;stroke:#000000;stroke-width:2px;stroke-linecap:butt;stroke-linejoin:miter;stroke-opacity:1\"/>\n",
       "<path d=\"M 214.824,157.976 229.868,171.4\" style=\"fill:none;fill-rule:evenodd;stroke:#000000;stroke-width:2px;stroke-linecap:butt;stroke-linejoin:miter;stroke-opacity:1\"/>\n",
       "<path d=\"M 192.143,155.21 185.235,157.56\" style=\"fill:none;fill-rule:evenodd;stroke:#000000;stroke-width:2px;stroke-linecap:butt;stroke-linejoin:miter;stroke-opacity:1\"/>\n",
       "<path d=\"M 188.174,146.94 183.338,148.585\" style=\"fill:none;fill-rule:evenodd;stroke:#000000;stroke-width:2px;stroke-linecap:butt;stroke-linejoin:miter;stroke-opacity:1\"/>\n",
       "<path d=\"M 236.819,186.578 231.032,214.837\" style=\"fill:none;fill-rule:evenodd;stroke:#000000;stroke-width:2px;stroke-linecap:butt;stroke-linejoin:miter;stroke-opacity:1\"/>\n",
       "<path d=\"M 227.029,188.99 222.978,208.772\" style=\"fill:none;fill-rule:evenodd;stroke:#000000;stroke-width:2px;stroke-linecap:butt;stroke-linejoin:miter;stroke-opacity:1\"/>\n",
       "<path d=\"M 257.614,172.234 259.108,171.71\" style=\"fill:none;fill-rule:evenodd;stroke:#000000;stroke-width:2px;stroke-linecap:butt;stroke-linejoin:miter;stroke-opacity:1\"/>\n",
       "<path d=\"M 210.237,229.36 210.128,229.399\" style=\"fill:none;fill-rule:evenodd;stroke:#000000;stroke-width:2px;stroke-linecap:butt;stroke-linejoin:miter;stroke-opacity:1\"/>\n",
       "<path d=\"M 181.928,228.744 165.984,215.235\" style=\"fill:none;fill-rule:evenodd;stroke:#000000;stroke-width:2px;stroke-linecap:butt;stroke-linejoin:miter;stroke-opacity:1\"/>\n",
       "<path d=\"M 185.424,219.769 174.262,210.313\" style=\"fill:none;fill-rule:evenodd;stroke:#000000;stroke-width:2px;stroke-linecap:butt;stroke-linejoin:miter;stroke-opacity:1\"/>\n",
       "<path d=\"M 137.784,213.759 136.139,214.282\" style=\"fill:none;fill-rule:evenodd;stroke:#000000;stroke-width:2px;stroke-linecap:butt;stroke-linejoin:miter;stroke-opacity:1\"/>\n",
       "<path d=\"M 158.589,200.057 164.43,171.694\" style=\"fill:none;fill-rule:evenodd;stroke:#000000;stroke-width:2px;stroke-linecap:butt;stroke-linejoin:miter;stroke-opacity:1\"/>\n",
       "<path d=\"M 108.481,212.806 93.5974,199.386\" style=\"fill:none;fill-rule:evenodd;stroke:#000000;stroke-width:2px;stroke-linecap:butt;stroke-linejoin:miter;stroke-opacity:1\"/>\n",
       "<path d=\"M 112.347,204.03 101.929,194.635\" style=\"fill:none;fill-rule:evenodd;stroke:#000000;stroke-width:2px;stroke-linecap:butt;stroke-linejoin:miter;stroke-opacity:1\"/>\n",
       "<path d=\"M 86.7108,184.207 92.154,157.205\" style=\"fill:none;fill-rule:evenodd;stroke:#000000;stroke-width:2px;stroke-linecap:butt;stroke-linejoin:miter;stroke-opacity:1\"/>\n",
       "<path d=\"M 112.926,143.073 114.768,142.447\" style=\"fill:none;fill-rule:evenodd;stroke:#000000;stroke-width:2px;stroke-linecap:butt;stroke-linejoin:miter;stroke-opacity:1\"/>\n",
       "<path d=\"M 116.134,151.601 117.423,151.163\" style=\"fill:none;fill-rule:evenodd;stroke:#000000;stroke-width:2px;stroke-linecap:butt;stroke-linejoin:miter;stroke-opacity:1\"/>\n",
       "<path d=\"M 142.617,143.493 157.386,156.516\" style=\"fill:none;fill-rule:evenodd;stroke:#000000;stroke-width:2px;stroke-linecap:butt;stroke-linejoin:miter;stroke-opacity:1\"/>\n",
       "<path d=\"M 279.823,157.366 284.89,131.281\" style=\"fill:none;fill-rule:evenodd;stroke:#000000;stroke-width:2px;stroke-linecap:butt;stroke-linejoin:miter;stroke-opacity:1\"/>\n",
       "<path d=\"M 271.643,151.717 275.19,133.457\" style=\"fill:none;fill-rule:evenodd;stroke:#000000;stroke-width:2px;stroke-linecap:butt;stroke-linejoin:miter;stroke-opacity:1\"/>\n",
       "<path d=\"M 278.08,116.102 263.845,103.061\" style=\"fill:none;fill-rule:evenodd;stroke:#000000;stroke-width:2px;stroke-linecap:butt;stroke-linejoin:miter;stroke-opacity:1\"/>\n",
       "<text style=\"font-size:15px;font-style:normal;font-weight:normal;fill-opacity:1;stroke:none;font-family:sans-serif;text-anchor:start;fill:#000000\" x=\"30.257\" y=\"212.108\"><tspan>C:0</tspan></text>\n",
       "<text style=\"font-size:15px;font-style:normal;font-weight:normal;fill-opacity:1;stroke:none;font-family:sans-serif;text-anchor:start;fill:#000000\" x=\"-0.539796\" y=\"183.88\"><tspan>C:1</tspan></text>\n",
       "<text style=\"font-size:15px;font-style:normal;font-weight:normal;fill-opacity:1;stroke:none;font-family:sans-serif;text-anchor:start;fill:#000000\" x=\"7.48043\" y=\"142.619\"><tspan>C:2</tspan></text>\n",
       "<text style=\"font-size:15px;font-style:normal;font-weight:normal;fill-opacity:1;stroke:none;font-family:sans-serif;text-anchor:start;fill:#000000\" x=\"47.4602\" y=\"128.594\"><tspan>C:3</tspan></text>\n",
       "<text style=\"font-size:15px;font-style:normal;font-weight:normal;fill-opacity:1;stroke:none;font-family:sans-serif;text-anchor:start;fill:#000000\" x=\"56.3547\" y=\"85.1567\"><tspan>C:4</tspan></text>\n",
       "<text style=\"font-size:15px;font-style:normal;font-weight:normal;fill-opacity:1;stroke:none;font-family:sans-serif;text-anchor:start;fill:#000000\" x=\"94.9471\" y=\"71.2563\"><tspan>C:5</tspan></text>\n",
       "<text style=\"font-size:15px;font-style:normal;font-weight:normal;fill-opacity:1;stroke:none;font-family:sans-serif;text-anchor:start;fill:#000000\" x=\"128.801\" y=\"99.9525\"><tspan>C:6</tspan></text>\n",
       "<text style=\"font-size:15px;font-style:normal;font-weight:normal;fill-opacity:1;stroke:none;font-family:sans-serif;text-anchor:start;fill:#000000\" x=\"168.926\" y=\"87.1966\"><tspan>C:7</tspan></text>\n",
       "<text style=\"font-size:15px;font-style:normal;font-weight:normal;fill-opacity:1;stroke:none;font-family:sans-serif;text-anchor:start;fill:#000000\" x=\"200.643\" y=\"115.796\"><tspan>C:8</tspan></text>\n",
       "<text style=\"font-size:15px;font-style:normal;font-weight:normal;fill-opacity:1;stroke:none;font-family:sans-serif;text-anchor:start;fill:#000000\" x=\"192.143\" y=\"157.976\"><tspan>C:9</tspan></text>\n",
       "<text style=\"font-size:15px;font-style:normal;font-weight:normal;fill-opacity:1;stroke:none;font-family:sans-serif;text-anchor:start;fill:#000000\" x=\"219.131\" y=\"186.578\"><tspan>C:10</tspan></text>\n",
       "<text style=\"font-size:15px;font-style:normal;font-weight:normal;fill-opacity:1;stroke:none;font-family:sans-serif;text-anchor:start;fill:#000000\" x=\"210.237\" y=\"230.016\"><tspan>C:11</tspan></text>\n",
       "<text style=\"font-size:15px;font-style:normal;font-weight:normal;fill-opacity:1;stroke:none;font-family:sans-serif;text-anchor:start;fill:#000000\" x=\"171.644\" y=\"243.922\"><tspan>C:12</tspan></text>\n",
       "<text style=\"font-size:15px;font-style:normal;font-weight:normal;fill-opacity:1;stroke:none;font-family:sans-serif;text-anchor:start;fill:#000000\" x=\"137.784\" y=\"215.235\"><tspan>C:13</tspan></text>\n",
       "<text style=\"font-size:15px;font-style:normal;font-weight:normal;fill-opacity:1;stroke:none;font-family:sans-serif;text-anchor:start;fill:#000000\" x=\"97.6559\" y=\"227.985\"><tspan>C:14</tspan></text>\n",
       "<text style=\"font-size:15px;font-style:normal;font-weight:normal;fill-opacity:1;stroke:none;font-family:sans-serif;text-anchor:start;fill:#000000\" x=\"65.9393\" y=\"199.386\"><tspan>C:15</tspan></text>\n",
       "<text style=\"font-size:15px;font-style:normal;font-weight:normal;fill-opacity:1;stroke:none;font-family:sans-serif;text-anchor:start;fill:#000000\" x=\"74.4422\" y=\"157.205\"><tspan>C:16</tspan></text>\n",
       "<text style=\"font-size:15px;font-style:normal;font-weight:normal;fill-opacity:1;stroke:none;font-family:sans-serif;text-anchor:start;fill:#000000\" x=\"114.768\" y=\"143.493\"><tspan>C:17</tspan></text>\n",
       "<text style=\"font-size:15px;font-style:normal;font-weight:normal;fill-opacity:1;stroke:none;font-family:sans-serif;text-anchor:start;fill:#000000\" x=\"146.752\" y=\"171.694\"><tspan>C:18</tspan></text>\n",
       "<text style=\"font-size:15px;font-style:normal;font-weight:normal;fill-opacity:1;stroke:none;font-family:sans-serif;text-anchor:start;fill:#000000\" x=\"259.108\" y=\"172.544\"><tspan>C:19</tspan></text>\n",
       "<text style=\"font-size:15px;font-style:normal;font-weight:normal;fill-opacity:1;stroke:none;font-family:sans-serif;text-anchor:start;fill:#000000\" x=\"267.122\" y=\"131.281\"><tspan>C:20</tspan></text>\n",
       "<text style=\"font-size:15px;font-style:normal;font-weight:normal;fill-opacity:1;stroke:none;font-family:sans-serif;text-anchor:start;fill:#000000\" x=\"236.319\" y=\"103.061\"><tspan>C:21</tspan></text>\n",
       "<text style=\"font-size:12px;font-style:normal;font-weight:normal;fill-opacity:1;stroke:none;font-family:sans-serif;text-anchor:start;fill:#000000\" x=\"82.7467\" y=\"288\"><tspan>Dibenzo[cd,jk]pyrene</tspan></text>\n",
       "</svg>"
      ],
      "text/plain": [
       "<IPython.core.display.SVG object>"
      ]
     },
     "metadata": {},
     "output_type": "display_data"
    },
    {
     "name": "stdout",
     "output_type": "stream",
     "text": [
      " 0  -1   0   0   0   0   0   0   0   0   0   0   0   0   0  -1   0   0   0   0   0   0  \n",
      "-1   0  -1   0   0   0   0   0   0   0   0   0   0   0   0   0   0   0   0   0   0   0  \n",
      " 0  -1   0  -1   0   0   0   0   0   0   0   0   0   0   0   0   0   0   0   0   0   0  \n",
      " 0   0  -1   0  -1   0   0   0   0   0   0   0   0   0   0   0  -1   0   0   0   0   0  \n",
      " 0   0   0  -1   0  -1   0   0   0   0   0   0   0   0   0   0   0   0   0   0   0   0  \n",
      " 0   0   0   0  -1   0  -1   0   0   0   0   0   0   0   0   0   0   0   0   0   0   0  \n",
      " 0   0   0   0   0  -1   0  -1   0   0   0   0   0   0   0   0   0  -1   0   0   0   0  \n",
      " 0   0   0   0   0   0  -1   0  -1   0   0   0   0   0   0   0   0   0   0   0   0   0  \n",
      " 0   0   0   0   0   0   0  -1   0  -1   0   0   0   0   0   0   0   0   0   0   0  -1  \n",
      " 0   0   0   0   0   0   0   0  -1   0  -1   0   0   0   0   0   0   0  -1   0   0   0  \n",
      " 0   0   0   0   0   0   0   0   0  -1   0  -1   0   0   0   0   0   0   0  -1   0   0  \n",
      " 0   0   0   0   0   0   0   0   0   0  -1   0  -1   0   0   0   0   0   0   0   0   0  \n",
      " 0   0   0   0   0   0   0   0   0   0   0  -1   0  -1   0   0   0   0   0   0   0   0  \n",
      " 0   0   0   0   0   0   0   0   0   0   0   0  -1   0  -1   0   0   0  -1   0   0   0  \n",
      " 0   0   0   0   0   0   0   0   0   0   0   0   0  -1   0  -1   0   0   0   0   0   0  \n",
      "-1   0   0   0   0   0   0   0   0   0   0   0   0   0  -1   0  -1   0   0   0   0   0  \n",
      " 0   0   0  -1   0   0   0   0   0   0   0   0   0   0   0  -1   0  -1   0   0   0   0  \n",
      " 0   0   0   0   0   0  -1   0   0   0   0   0   0   0   0   0  -1   0  -1   0   0   0  \n",
      " 0   0   0   0   0   0   0   0   0  -1   0   0   0  -1   0   0   0  -1   0   0   0   0  \n",
      " 0   0   0   0   0   0   0   0   0   0  -1   0   0   0   0   0   0   0   0   0  -1   0  \n",
      " 0   0   0   0   0   0   0   0   0   0   0   0   0   0   0   0   0   0   0  -1   0  -1  \n",
      " 0   0   0   0   0   0   0   0  -1   0   0   0   0   0   0   0   0   0   0   0  -1   0  \n"
     ]
    },
    {
     "data": {
      "image/svg+xml": [
       "<svg baseProfile=\"full\" height=\"300px\" version=\"1.1\" width=\"900px\" xml:space=\"preserve\" xmlns=\"http://www.w3.org/2000/svg\" xmlns:rdkit=\"http://www.rdkit.org/xml\" xmlns:xlink=\"http://www.w3.org/1999/xlink\">\n",
       "<rect height=\"300\" style=\"opacity:1.0;fill:#FFFFFF;stroke:none\" width=\"900\" x=\"0\" y=\"0\"> </rect>\n",
       "<path d=\"M 51.736,91.8145 38.1094,106.231\" style=\"fill:none;fill-rule:evenodd;stroke:#000000;stroke-width:2px;stroke-linecap:butt;stroke-linejoin:miter;stroke-opacity:1\"/>\n",
       "<path d=\"M 56.1463,100.077 46.6076,110.169\" style=\"fill:none;fill-rule:evenodd;stroke:#000000;stroke-width:2px;stroke-linecap:butt;stroke-linejoin:miter;stroke-opacity:1\"/>\n",
       "<path d=\"M 72.5556,87.5513 80.7398,89.4088\" style=\"fill:none;fill-rule:evenodd;stroke:#000000;stroke-width:2px;stroke-linecap:butt;stroke-linejoin:miter;stroke-opacity:1\"/>\n",
       "<path d=\"M 33.0207,121.033 39.6607,146.809\" style=\"fill:none;fill-rule:evenodd;stroke:#000000;stroke-width:2px;stroke-linecap:butt;stroke-linejoin:miter;stroke-opacity:1\"/>\n",
       "<path d=\"M 34.7957,161.61 20.4078,177.336\" style=\"fill:none;fill-rule:evenodd;stroke:#000000;stroke-width:2px;stroke-linecap:butt;stroke-linejoin:miter;stroke-opacity:1\"/>\n",
       "<path d=\"M 39.1898,169.964 29.1183,180.972\" style=\"fill:none;fill-rule:evenodd;stroke:#000000;stroke-width:2px;stroke-linecap:butt;stroke-linejoin:miter;stroke-opacity:1\"/>\n",
       "<path d=\"M 55.3916,157.795 63.256,159.835\" style=\"fill:none;fill-rule:evenodd;stroke:#000000;stroke-width:2px;stroke-linecap:butt;stroke-linejoin:miter;stroke-opacity:1\"/>\n",
       "<path d=\"M 16.01,192.137 23.7642,216.315\" style=\"fill:none;fill-rule:evenodd;stroke:#000000;stroke-width:2px;stroke-linecap:butt;stroke-linejoin:miter;stroke-opacity:1\"/>\n",
       "<path d=\"M 39.9623,227.325 51.8814,230.437\" style=\"fill:none;fill-rule:evenodd;stroke:#000000;stroke-width:2px;stroke-linecap:butt;stroke-linejoin:miter;stroke-opacity:1\"/>\n",
       "<path d=\"M 43.9938,219.199 52.3372,221.378\" style=\"fill:none;fill-rule:evenodd;stroke:#000000;stroke-width:2px;stroke-linecap:butt;stroke-linejoin:miter;stroke-opacity:1\"/>\n",
       "<path d=\"M 73.0346,226.646 87.5749,211.963\" style=\"fill:none;fill-rule:evenodd;stroke:#000000;stroke-width:2px;stroke-linecap:butt;stroke-linejoin:miter;stroke-opacity:1\"/>\n",
       "<path d=\"M 108.728,207.842 121.979,210.986\" style=\"fill:none;fill-rule:evenodd;stroke:#000000;stroke-width:2px;stroke-linecap:butt;stroke-linejoin:miter;stroke-opacity:1\"/>\n",
       "<path d=\"M 92.5116,197.161 84.4122,172.102\" style=\"fill:none;fill-rule:evenodd;stroke:#000000;stroke-width:2px;stroke-linecap:butt;stroke-linejoin:miter;stroke-opacity:1\"/>\n",
       "<path d=\"M 82.8461,196.134 77.1766,178.592\" style=\"fill:none;fill-rule:evenodd;stroke:#000000;stroke-width:2px;stroke-linecap:butt;stroke-linejoin:miter;stroke-opacity:1\"/>\n",
       "<path d=\"M 142.903,206.865 156.721,192.46\" style=\"fill:none;fill-rule:evenodd;stroke:#000000;stroke-width:2px;stroke-linecap:butt;stroke-linejoin:miter;stroke-opacity:1\"/>\n",
       "<path d=\"M 138.567,198.557 148.239,188.473\" style=\"fill:none;fill-rule:evenodd;stroke:#000000;stroke-width:2px;stroke-linecap:butt;stroke-linejoin:miter;stroke-opacity:1\"/>\n",
       "<path d=\"M 161.266,177.658 152.348,151.815\" style=\"fill:none;fill-rule:evenodd;stroke:#000000;stroke-width:2px;stroke-linecap:butt;stroke-linejoin:miter;stroke-opacity:1\"/>\n",
       "<path d=\"M 177.645,183.952 188.612,183.073\" style=\"fill:none;fill-rule:evenodd;stroke:#000000;stroke-width:2px;stroke-linecap:butt;stroke-linejoin:miter;stroke-opacity:1\"/>\n",
       "<path d=\"M 158.15,137.013 172.235,124.538\" style=\"fill:none;fill-rule:evenodd;stroke:#000000;stroke-width:2px;stroke-linecap:butt;stroke-linejoin:miter;stroke-opacity:1\"/>\n",
       "<path d=\"M 135.97,140.833 128.92,139.007\" style=\"fill:none;fill-rule:evenodd;stroke:#000000;stroke-width:2px;stroke-linecap:butt;stroke-linejoin:miter;stroke-opacity:1\"/>\n",
       "<path d=\"M 132.686,149.157 127.75,147.879\" style=\"fill:none;fill-rule:evenodd;stroke:#000000;stroke-width:2px;stroke-linecap:butt;stroke-linejoin:miter;stroke-opacity:1\"/>\n",
       "<path d=\"M 178.578,109.736 171.748,84.6238\" style=\"fill:none;fill-rule:evenodd;stroke:#000000;stroke-width:2px;stroke-linecap:butt;stroke-linejoin:miter;stroke-opacity:1\"/>\n",
       "<path d=\"M 168.984,108.3 164.203,90.7215\" style=\"fill:none;fill-rule:evenodd;stroke:#000000;stroke-width:2px;stroke-linecap:butt;stroke-linejoin:miter;stroke-opacity:1\"/>\n",
       "<path d=\"M 192.101,124.538 205.812,133.354\" style=\"fill:none;fill-rule:evenodd;stroke:#000000;stroke-width:2px;stroke-linecap:butt;stroke-linejoin:miter;stroke-opacity:1\"/>\n",
       "<path d=\"M 150.971,71.8612 149.059,71.3148\" style=\"fill:none;fill-rule:evenodd;stroke:#000000;stroke-width:2px;stroke-linecap:butt;stroke-linejoin:miter;stroke-opacity:1\"/>\n",
       "<path d=\"M 122.072,73.3538 107.726,86.2668\" style=\"fill:none;fill-rule:evenodd;stroke:#000000;stroke-width:2px;stroke-linecap:butt;stroke-linejoin:miter;stroke-opacity:1\"/>\n",
       "<path d=\"M 125.862,81.8916 115.82,90.9307\" style=\"fill:none;fill-rule:evenodd;stroke:#000000;stroke-width:2px;stroke-linecap:butt;stroke-linejoin:miter;stroke-opacity:1\"/>\n",
       "<path d=\"M 101.451,101.069 108.208,126.747\" style=\"fill:none;fill-rule:evenodd;stroke:#000000;stroke-width:2px;stroke-linecap:butt;stroke-linejoin:miter;stroke-opacity:1\"/>\n",
       "<path d=\"M 103.34,141.548 88.8352,157.3\" style=\"fill:none;fill-rule:evenodd;stroke:#000000;stroke-width:2px;stroke-linecap:butt;stroke-linejoin:miter;stroke-opacity:1\"/>\n",
       "<path d=\"M 236.087,135.588 238.336,134.968\" style=\"fill:none;fill-rule:evenodd;stroke:#000000;stroke-width:2px;stroke-linecap:butt;stroke-linejoin:miter;stroke-opacity:1\"/>\n",
       "<path d=\"M 238.782,144.057 240.357,143.624\" style=\"fill:none;fill-rule:evenodd;stroke:#000000;stroke-width:2px;stroke-linecap:butt;stroke-linejoin:miter;stroke-opacity:1\"/>\n",
       "<path d=\"M 215.519,148.156 209.179,174.168\" style=\"fill:none;fill-rule:evenodd;stroke:#000000;stroke-width:2px;stroke-linecap:butt;stroke-linejoin:miter;stroke-opacity:1\"/>\n",
       "<path d=\"M 264.713,137.202 278.752,150.853\" style=\"fill:none;fill-rule:evenodd;stroke:#000000;stroke-width:2px;stroke-linecap:butt;stroke-linejoin:miter;stroke-opacity:1\"/>\n",
       "<path d=\"M 284.549,165.654 278.415,190.675\" style=\"fill:none;fill-rule:evenodd;stroke:#000000;stroke-width:2px;stroke-linecap:butt;stroke-linejoin:miter;stroke-opacity:1\"/>\n",
       "<path d=\"M 275.003,167.293 270.709,184.807\" style=\"fill:none;fill-rule:evenodd;stroke:#000000;stroke-width:2px;stroke-linecap:butt;stroke-linejoin:miter;stroke-opacity:1\"/>\n",
       "<path d=\"M 257.836,203.653 256.223,204.133\" style=\"fill:none;fill-rule:evenodd;stroke:#000000;stroke-width:2px;stroke-linecap:butt;stroke-linejoin:miter;stroke-opacity:1\"/>\n",
       "<path d=\"M 229.547,202.309 215.287,188.97\" style=\"fill:none;fill-rule:evenodd;stroke:#000000;stroke-width:2px;stroke-linecap:butt;stroke-linejoin:miter;stroke-opacity:1\"/>\n",
       "<path d=\"M 233.475,193.823 223.493,184.485\" style=\"fill:none;fill-rule:evenodd;stroke:#000000;stroke-width:2px;stroke-linecap:butt;stroke-linejoin:miter;stroke-opacity:1\"/>\n",
       "<text style=\"font-size:14px;font-style:normal;font-weight:normal;fill-opacity:1;stroke:none;font-family:sans-serif;text-anchor:start;fill:#000000\" x=\"44.9068\" y=\"91.8145\"><tspan>C:0</tspan></text>\n",
       "<text style=\"font-size:14px;font-style:normal;font-weight:normal;fill-opacity:1;stroke:none;font-family:sans-serif;text-anchor:start;fill:#000000\" x=\"17.2898\" y=\"121.033\"><tspan>C:1</tspan></text>\n",
       "<text style=\"font-size:14px;font-style:normal;font-weight:normal;fill-opacity:1;stroke:none;font-family:sans-serif;text-anchor:start;fill:#000000\" x=\"27.7428\" y=\"161.61\"><tspan>C:2</tspan></text>\n",
       "<text style=\"font-size:14px;font-style:normal;font-weight:normal;fill-opacity:1;stroke:none;font-family:sans-serif;text-anchor:start;fill:#000000\" x=\"-0.188035\" y=\"192.137\"><tspan>C:3</tspan></text>\n",
       "<text style=\"font-size:14px;font-style:normal;font-weight:normal;fill-opacity:1;stroke:none;font-family:sans-serif;text-anchor:start;fill:#000000\" x=\"12.3135\" y=\"231.116\"><tspan>C:4</tspan></text>\n",
       "<text style=\"font-size:14px;font-style:normal;font-weight:normal;fill-opacity:1;stroke:none;font-family:sans-serif;text-anchor:start;fill:#000000\" x=\"51.8814\" y=\"241.448\"><tspan>C:5</tspan></text>\n",
       "<text style=\"font-size:14px;font-style:normal;font-weight:normal;fill-opacity:1;stroke:none;font-family:sans-serif;text-anchor:start;fill:#000000\" x=\"81.0792\" y=\"211.963\"><tspan>C:6</tspan></text>\n",
       "<text style=\"font-size:14px;font-style:normal;font-weight:normal;fill-opacity:1;stroke:none;font-family:sans-serif;text-anchor:start;fill:#000000\" x=\"121.979\" y=\"221.667\"><tspan>C:7</tspan></text>\n",
       "<text style=\"font-size:14px;font-style:normal;font-weight:normal;fill-opacity:1;stroke:none;font-family:sans-serif;text-anchor:start;fill:#000000\" x=\"149.996\" y=\"192.46\"><tspan>C:8</tspan></text>\n",
       "<text style=\"font-size:14px;font-style:normal;font-weight:normal;fill-opacity:1;stroke:none;font-family:sans-serif;text-anchor:start;fill:#000000\" x=\"135.97\" y=\"151.815\"><tspan>C:9</tspan></text>\n",
       "<text style=\"font-size:14px;font-style:normal;font-weight:normal;fill-opacity:1;stroke:none;font-family:sans-serif;text-anchor:start;fill:#000000\" x=\"161.826\" y=\"124.538\"><tspan>C:10</tspan></text>\n",
       "<text style=\"font-size:14px;font-style:normal;font-weight:normal;fill-opacity:1;stroke:none;font-family:sans-serif;text-anchor:start;fill:#000000\" x=\"150.971\" y=\"84.6238\"><tspan>C:11</tspan></text>\n",
       "<text style=\"font-size:14px;font-style:normal;font-weight:normal;fill-opacity:1;stroke:none;font-family:sans-serif;text-anchor:start;fill:#000000\" x=\"111.53\" y=\"73.3538\"><tspan>C:12</tspan></text>\n",
       "<text style=\"font-size:14px;font-style:normal;font-weight:normal;fill-opacity:1;stroke:none;font-family:sans-serif;text-anchor:start;fill:#000000\" x=\"80.7398\" y=\"101.069\"><tspan>C:13</tspan></text>\n",
       "<text style=\"font-size:14px;font-style:normal;font-weight:normal;fill-opacity:1;stroke:none;font-family:sans-serif;text-anchor:start;fill:#000000\" x=\"91.3911\" y=\"141.548\"><tspan>C:14</tspan></text>\n",
       "<text style=\"font-size:14px;font-style:normal;font-weight:normal;fill-opacity:1;stroke:none;font-family:sans-serif;text-anchor:start;fill:#000000\" x=\"63.256\" y=\"172.102\"><tspan>C:15</tspan></text>\n",
       "<text style=\"font-size:14px;font-style:normal;font-weight:normal;fill-opacity:1;stroke:none;font-family:sans-serif;text-anchor:start;fill:#000000\" x=\"198.558\" y=\"148.156\"><tspan>C:16</tspan></text>\n",
       "<text style=\"font-size:14px;font-style:normal;font-weight:normal;fill-opacity:1;stroke:none;font-family:sans-serif;text-anchor:start;fill:#000000\" x=\"238.336\" y=\"137.202\"><tspan>C:17</tspan></text>\n",
       "<text style=\"font-size:14px;font-style:normal;font-weight:normal;fill-opacity:1;stroke:none;font-family:sans-serif;text-anchor:start;fill:#000000\" x=\"267.599\" y=\"165.654\"><tspan>C:18</tspan></text>\n",
       "<text style=\"font-size:14px;font-style:normal;font-weight:normal;fill-opacity:1;stroke:none;font-family:sans-serif;text-anchor:start;fill:#000000\" x=\"257.836\" y=\"205.477\"><tspan>C:19</tspan></text>\n",
       "<text style=\"font-size:14px;font-style:normal;font-weight:normal;fill-opacity:1;stroke:none;font-family:sans-serif;text-anchor:start;fill:#000000\" x=\"218.695\" y=\"217.111\"><tspan>C:20</tspan></text>\n",
       "<text style=\"font-size:14px;font-style:normal;font-weight:normal;fill-opacity:1;stroke:none;font-family:sans-serif;text-anchor:start;fill:#000000\" x=\"188.612\" y=\"188.97\"><tspan>C:21</tspan></text>\n",
       "<text style=\"font-size:12px;font-style:normal;font-weight:normal;fill-opacity:1;stroke:none;font-family:sans-serif;text-anchor:start;fill:#000000\" x=\"75.9256\" y=\"288\"><tspan>Indeno[1,2,3-cd]pyrene</tspan></text>\n",
       "</svg>"
      ],
      "text/plain": [
       "<IPython.core.display.SVG object>"
      ]
     },
     "metadata": {},
     "output_type": "display_data"
    },
    {
     "name": "stdout",
     "output_type": "stream",
     "text": [
      " 0  -1   0   0   0   0   0   0   0   0   0   0   0  -1   0   0   0   0   0   0   0   0  \n",
      "-1   0  -1   0   0   0   0   0   0   0   0   0   0   0   0   0   0   0   0   0   0   0  \n",
      " 0  -1   0  -1   0   0   0   0   0   0   0   0   0   0   0  -1   0   0   0   0   0   0  \n",
      " 0   0  -1   0  -1   0   0   0   0   0   0   0   0   0   0   0   0   0   0   0   0   0  \n",
      " 0   0   0  -1   0  -1   0   0   0   0   0   0   0   0   0   0   0   0   0   0   0   0  \n",
      " 0   0   0   0  -1   0  -1   0   0   0   0   0   0   0   0   0   0   0   0   0   0   0  \n",
      " 0   0   0   0   0  -1   0  -1   0   0   0   0   0   0   0  -1   0   0   0   0   0   0  \n",
      " 0   0   0   0   0   0  -1   0  -1   0   0   0   0   0   0   0   0   0   0   0   0   0  \n",
      " 0   0   0   0   0   0   0  -1   0  -1   0   0   0   0   0   0   0   0   0   0   0  -1  \n",
      " 0   0   0   0   0   0   0   0  -1   0  -1   0   0   0  -1   0   0   0   0   0   0   0  \n",
      " 0   0   0   0   0   0   0   0   0  -1   0  -1   0   0   0   0  -1   0   0   0   0   0  \n",
      " 0   0   0   0   0   0   0   0   0   0  -1   0  -1   0   0   0   0   0   0   0   0   0  \n",
      " 0   0   0   0   0   0   0   0   0   0   0  -1   0  -1   0   0   0   0   0   0   0   0  \n",
      "-1   0   0   0   0   0   0   0   0   0   0   0  -1   0  -1   0   0   0   0   0   0   0  \n",
      " 0   0   0   0   0   0   0   0   0  -1   0   0   0  -1   0  -1   0   0   0   0   0   0  \n",
      " 0   0  -1   0   0   0  -1   0   0   0   0   0   0   0  -1   0   0   0   0   0   0   0  \n",
      " 0   0   0   0   0   0   0   0   0   0  -1   0   0   0   0   0   0  -1   0   0   0  -1  \n",
      " 0   0   0   0   0   0   0   0   0   0   0   0   0   0   0   0  -1   0  -1   0   0   0  \n",
      " 0   0   0   0   0   0   0   0   0   0   0   0   0   0   0   0   0  -1   0  -1   0   0  \n",
      " 0   0   0   0   0   0   0   0   0   0   0   0   0   0   0   0   0   0  -1   0  -1   0  \n",
      " 0   0   0   0   0   0   0   0   0   0   0   0   0   0   0   0   0   0   0  -1   0  -1  \n",
      " 0   0   0   0   0   0   0   0  -1   0   0   0   0   0   0   0  -1   0   0   0  -1   0  \n"
     ]
    }
   ],
   "source": [
    "from rdkit import Chem\n",
    "import rdkit.Chem.Draw\n",
    "from rdkit.Chem import AllChem\n",
    "from IPython.display import SVG, display\n",
    "from PAH_data import select_molecule, matprint, mol_with_atom_index\n",
    "import matplotlib.pyplot as plt\n",
    "\n",
    "#from rdkit.Chem.Draw import IPythonConsole\n",
    "#IPythonConsole.ipython_useSVG = True\n",
    "#TODO Pillow verison issue at the moment\n",
    "\n",
    "#######################\n",
    "\n",
    "#This function generates a set of 43 PAH molecules with 22 carbon atoms each\n",
    "#dataset, mols, legend = generate_dataset(myid=1673606, n_molecules=43, n_carbon_atoms=22)\n",
    "names = [\n",
    "    'Indeno[1,2,3-cd]fluoranthene',\n",
    "    'Dibenzo[cd,jk]pyrene',\n",
    "    'Indeno[1,2,3-cd]pyrene',\n",
    "]\n",
    "molecules = []\n",
    "rdkit_objects = []\n",
    "for i in range(3):\n",
    "    mol, mol_object = select_molecule(names[i])\n",
    "    molecules.append(mol)\n",
    "    rdkit_objects.append(mol_object)\n",
    "\n",
    "#########DATA\n",
    "#list of three connnectivity matrices\n",
    "conmats = [(molecules[0])['conmat'], molecules[1]['conmat'], molecules[2]['conmat']]\n",
    "#list of three molecule names\n",
    "names = names\n",
    "#list of three RDKIT molecuel objects\n",
    "molecules = rdkit_objects\n",
    "        \n",
    "#display(SVG(Chem.Draw.MolsToGridImage([molecules[0]], useSVG=True, legends=[leg[0]], subImgSize=(300,300))))\n",
    "display(SVG(Chem.Draw.MolsToGridImage([mol_with_atom_index(molecules[0])], useSVG=True, legends=[names[0]], subImgSize=(300,300))))\n",
    "matprint(conmats[0])\n",
    "\n",
    "display(SVG(Chem.Draw.MolsToGridImage([mol_with_atom_index(molecules[1])], useSVG=True, legends=[names[1]], subImgSize=(300,300))))\n",
    "matprint(conmats[1])\n",
    "\n",
    "display(SVG(Chem.Draw.MolsToGridImage([mol_with_atom_index(molecules[2])], useSVG=True, legends=[names[2]], subImgSize=(300,300))))\n",
    "matprint(conmats[2])\n",
    "#This line generates the picture of the three molecules\n",
    "\n"
   ]
  },
  {
   "cell_type": "markdown",
   "metadata": {},
   "source": [
    "<div class=warn>\n",
    "\n",
    "<b> Task 1: Use the following text cell to make notes and answer following questions:</b><br>\n",
    "\n",
    "<ul>\n",
    "<li> Verify that the connectivity matrices are correct and that they are consistent with the provided atom numbering.</li>\n",
    "<li> Are the three molecules alternant or non-alternant? </li>\n",
    "\n",
    "</ul>\n",
    "\n",
    "</div>"
   ]
  },
  {
   "cell_type": "markdown",
   "metadata": {},
   "source": [
    "#### Answers to Task 1:\n",
    "\n"
   ]
  },
  {
   "cell_type": "markdown",
   "metadata": {},
   "source": [
    "We can consider the connectivity matrices to be Hückel matrices, where we have set\n",
    "$$\\alpha=\\langle \\phi_i|H|\\phi_i\\rangle = 0 $$\n",
    "and \n",
    "$$\\beta=\\langle \\phi_i|H|\\phi_j\\rangle = -1 $$\n",
    "\n",
    "**NOTE**: Because we have set $\\beta=-1$, our energies will be numbers that already reflect the correct energy ordering. Therefore, we do not have to consider the implicit fact that $\\beta<0$ in $2\\beta$ ie. the lower the number, the more stable the energy level. We have to use actual numbers, as we cannot use variables $\\alpha,\\beta$ in a numerical code."
   ]
  },
  {
   "cell_type": "markdown",
   "metadata": {},
   "source": [
    "## Part 2: How to use the Hückel code\n",
    "\n",
    "\n",
    "The code we will use is called ```shmo``` and is documented here:\n",
    "https://github.com/randlet/SHMO\n",
    "\n",
    "Let's learn how to use the code with the example of benzene.\n",
    "We first pull the Hückel matrix of benzene from the database and then initialise the HuckelSolver with it."
   ]
  },
  {
   "cell_type": "markdown",
   "metadata": {},
   "source": [
    "<div class=warn>\n",
    "\n",
    "<b> Task 2:</b> Explore the Hückel SHMO module<br>\n",
    "\n",
    "</div>"
   ]
  },
  {
   "cell_type": "code",
   "execution_count": 2,
   "metadata": {
    "collapsed": true
   },
   "outputs": [],
   "source": [
    "import numpy as np\n",
    "import shmo"
   ]
  },
  {
   "cell_type": "code",
   "execution_count": 3,
   "metadata": {},
   "outputs": [
    {
     "data": {
      "image/svg+xml": [
       "<svg baseProfile=\"full\" height=\"200px\" version=\"1.1\" width=\"600px\" xml:space=\"preserve\" xmlns=\"http://www.w3.org/2000/svg\" xmlns:rdkit=\"http://www.rdkit.org/xml\" xmlns:xlink=\"http://www.w3.org/1999/xlink\">\n",
       "<rect height=\"200\" style=\"opacity:1.0;fill:#FFFFFF;stroke:none\" width=\"600\" x=\"0\" y=\"0\"> </rect>\n",
       "<path d=\"M 189.553,102.443 143.226,128.023\" style=\"fill:none;fill-rule:evenodd;stroke:#000000;stroke-width:2px;stroke-linecap:butt;stroke-linejoin:miter;stroke-opacity:1\"/>\n",
       "<path d=\"M 177.093,96.3012 144.665,114.207\" style=\"fill:none;fill-rule:evenodd;stroke:#000000;stroke-width:2px;stroke-linecap:butt;stroke-linejoin:miter;stroke-opacity:1\"/>\n",
       "<path d=\"M 189.553,102.443 190.909,49.4101\" style=\"fill:none;fill-rule:evenodd;stroke:#000000;stroke-width:2px;stroke-linecap:butt;stroke-linejoin:miter;stroke-opacity:1\"/>\n",
       "<path d=\"M 10.4474,102.443 56.774,128.023\" style=\"fill:none;fill-rule:evenodd;stroke:#000000;stroke-width:2px;stroke-linecap:butt;stroke-linejoin:miter;stroke-opacity:1\"/>\n",
       "<path d=\"M 10.4474,102.443 9.09091,49.4101\" style=\"fill:none;fill-rule:evenodd;stroke:#000000;stroke-width:2px;stroke-linecap:butt;stroke-linejoin:miter;stroke-opacity:1\"/>\n",
       "<path d=\"M 21.6395,94.1968 20.6899,57.0736\" style=\"fill:none;fill-rule:evenodd;stroke:#000000;stroke-width:2px;stroke-linecap:butt;stroke-linejoin:miter;stroke-opacity:1\"/>\n",
       "<path d=\"M 147.166,19.1223 100,43.0759\" style=\"fill:none;fill-rule:evenodd;stroke:#000000;stroke-width:2px;stroke-linecap:butt;stroke-linejoin:miter;stroke-opacity:1\"/>\n",
       "<path d=\"M 147.166,19.1223 190.909,49.4101\" style=\"fill:none;fill-rule:evenodd;stroke:#000000;stroke-width:2px;stroke-linecap:butt;stroke-linejoin:miter;stroke-opacity:1\"/>\n",
       "<path d=\"M 147.239,33.0374 177.858,54.2389\" style=\"fill:none;fill-rule:evenodd;stroke:#000000;stroke-width:2px;stroke-linecap:butt;stroke-linejoin:miter;stroke-opacity:1\"/>\n",
       "<path d=\"M 52.8337,19.1223 100,43.0759\" style=\"fill:none;fill-rule:evenodd;stroke:#000000;stroke-width:2px;stroke-linecap:butt;stroke-linejoin:miter;stroke-opacity:1\"/>\n",
       "<path d=\"M 54.7469,32.879 87.7634,49.6465\" style=\"fill:none;fill-rule:evenodd;stroke:#000000;stroke-width:2px;stroke-linecap:butt;stroke-linejoin:miter;stroke-opacity:1\"/>\n",
       "<path d=\"M 52.8337,19.1223 9.09091,49.4101\" style=\"fill:none;fill-rule:evenodd;stroke:#000000;stroke-width:2px;stroke-linecap:butt;stroke-linejoin:miter;stroke-opacity:1\"/>\n",
       "<path d=\"M 143.226,128.023 100,98.4573\" style=\"fill:none;fill-rule:evenodd;stroke:#000000;stroke-width:2px;stroke-linecap:butt;stroke-linejoin:miter;stroke-opacity:1\"/>\n",
       "<path d=\"M 143.226,128.023 125.246,180.878\" style=\"fill:none;fill-rule:evenodd;stroke:#000000;stroke-width:2px;stroke-linecap:butt;stroke-linejoin:miter;stroke-opacity:1\"/>\n",
       "<path d=\"M 56.774,128.023 100,98.4573\" style=\"fill:none;fill-rule:evenodd;stroke:#000000;stroke-width:2px;stroke-linecap:butt;stroke-linejoin:miter;stroke-opacity:1\"/>\n",
       "<path d=\"M 69.6934,132.997 99.9516,112.301\" style=\"fill:none;fill-rule:evenodd;stroke:#000000;stroke-width:2px;stroke-linecap:butt;stroke-linejoin:miter;stroke-opacity:1\"/>\n",
       "<path d=\"M 56.774,128.023 74.7544,180.878\" style=\"fill:none;fill-rule:evenodd;stroke:#000000;stroke-width:2px;stroke-linecap:butt;stroke-linejoin:miter;stroke-opacity:1\"/>\n",
       "<path d=\"M 125.246,180.878 74.7544,180.878\" style=\"fill:none;fill-rule:evenodd;stroke:#000000;stroke-width:2px;stroke-linecap:butt;stroke-linejoin:miter;stroke-opacity:1\"/>\n",
       "<path d=\"M 117.672,169.478 82.3281,169.478\" style=\"fill:none;fill-rule:evenodd;stroke:#000000;stroke-width:2px;stroke-linecap:butt;stroke-linejoin:miter;stroke-opacity:1\"/>\n",
       "<path d=\"M 100,43.0759 100,98.4573\" style=\"fill:none;fill-rule:evenodd;stroke:#000000;stroke-width:2px;stroke-linecap:butt;stroke-linejoin:miter;stroke-opacity:1\"/>\n",
       "<text style=\"font-size:12px;font-style:normal;font-weight:normal;fill-opacity:1;stroke:none;font-family:sans-serif;text-anchor:start;fill:#000000\" x=\"47.9448\" y=\"194\"><tspan>Acenaphthalene</tspan></text>\n",
       "</svg>"
      ],
      "text/plain": [
       "<IPython.core.display.SVG object>"
      ]
     },
     "metadata": {},
     "output_type": "display_data"
    },
    {
     "name": "stdout",
     "output_type": "stream",
     "text": [
      " 0   0   0   0  -1   0  -1   0   0   0   0   0  \n",
      " 0   0   0   0   0  -1   0  -1   0   0   0   0  \n",
      " 0   0   0   0  -1   0   0   0   0   0  -1   0  \n",
      " 0   0   0   0   0  -1   0   0   0   0  -1   0  \n",
      "-1   0  -1   0   0   0   0   0   0   0   0   0  \n",
      " 0  -1   0  -1   0   0   0   0   0   0   0   0  \n",
      "-1   0   0   0   0   0   0   0  -1   0   0  -1  \n",
      " 0  -1   0   0   0   0   0   0   0  -1   0  -1  \n",
      " 0   0   0   0   0   0  -1   0   0  -1   0   0  \n",
      " 0   0   0   0   0   0   0  -1  -1   0   0   0  \n",
      " 0   0  -1  -1   0   0   0   0   0   0   0  -1  \n",
      " 0   0   0   0   0   0  -1  -1   0   0  -1   0  \n"
     ]
    }
   ],
   "source": [
    "#select benzene\n",
    "mol, rdkit_mol = select_molecule('Acenaphthalene')\n",
    "\n",
    "#get huckel matrix\n",
    "huckel_matrix = mol['conmat']\n",
    "\n",
    "#draw molecule from rdkit mol object\n",
    "display(SVG(Chem.Draw.MolsToGridImage([rdkit_mol], useSVG=True, legends=['Acenaphthalene'], subImgSize=(200,200))))\n",
    "\n",
    "#print huckel matrix\n",
    "matprint(huckel_matrix)"
   ]
  },
  {
   "cell_type": "code",
   "execution_count": 4,
   "metadata": {
    "collapsed": true
   },
   "outputs": [],
   "source": [
    "#initialise huckel solver\n",
    "solver = shmo.HuckelSolver(data=huckel_matrix)"
   ]
  },
  {
   "cell_type": "markdown",
   "metadata": {},
   "source": [
    "Now that the Huckel solver is initialised, we can calculate a lot of different properties.\n",
    "If you want to find out about all the different properties you can calculate, try the following:\n",
    "\n",
    "Use the next code cell to type:\n",
    "```\n",
    "solver.\n",
    "```\n",
    "\n",
    "\n",
    "and then press the tab key. This will give you a drop-down list of all possible functions you can access with\n",
    "\n",
    "```\n",
    "solver.<functionname>\n",
    "```\n",
    "\n",
    "As usual, placing a question mark behind the function, will tell you what it does."
   ]
  },
  {
   "cell_type": "code",
   "execution_count": 5,
   "metadata": {
    "collapsed": true
   },
   "outputs": [],
   "source": [
    "solver.energies?"
   ]
  },
  {
   "cell_type": "code",
   "execution_count": 6,
   "metadata": {},
   "outputs": [
    {
     "name": "stdout",
     "output_type": "stream",
     "text": [
      "[-2.47083742 -1.68776669 -1.68250707 -1.         -0.83083003 -0.63751679\n",
      "  0.28462968  1.          1.30972147  1.43184618  1.91898595  2.36427472]\n"
     ]
    },
    {
     "data": {
      "image/png": "[encoded data removed]",
      "text/plain": [
       "<matplotlib.figure.Figure at 0x25abc5cceb8>"
      ]
     },
     "metadata": {},
     "output_type": "display_data"
    }
   ],
   "source": [
    "#eigenenergies\n",
    "print(solver.energies)\n",
    "\n",
    "#energy level diagram for benzene\n",
    "plt.plot(np.zeros(len(solver.energies)), solver.energies,lw=0.0,marker='_',ms=25,mew=3)\n",
    "plt.xlim(-2,2)\n",
    "plt.ylabel('energies')\n",
    "plt.show()"
   ]
  },
  {
   "cell_type": "code",
   "execution_count": 7,
   "metadata": {},
   "outputs": [
    {
     "name": "stdout",
     "output_type": "stream",
     "text": [
      " 0.224325   0.224325      0.216736      0.216736    0.178507    0.178507      0.375764     0.375764      0.255476      0.255476      0.357014       0.44865  \n",
      "0.0197581  0.0197581     -0.391395     -0.391395   -0.220194   -0.220194      0.253541     0.253541      0.368645      0.368645     -0.440389     0.0395162  \n",
      "-0.422061   0.422061      -0.23053       0.23053   -0.387868    0.387868     -0.322253     0.322253     -0.120131      0.120131   -9.4473e-15   1.11716e-15  \n",
      " 0.408248   0.408248  -3.88578e-16  -8.32667e-16    0.408248    0.408248  -1.11022e-16  7.77156e-16  -1.41553e-15  -9.02056e-16     -0.408248     -0.408248  \n",
      "-0.120131   0.120131      0.387868     -0.387868    0.322253   -0.322253     -0.422061     0.422061      -0.23053       0.23053   4.44089e-16   4.30211e-16  \n",
      " 0.210933   0.210933     -0.243987     -0.243987  -0.0518486  -0.0518486      0.186322     0.186322     -0.514015     -0.514015     -0.103697      0.421866  \n",
      "-0.387868   0.387868      0.422061     -0.422061   -0.120131    0.120131       0.23053     -0.23053      0.322253     -0.322253   1.04083e-16  -4.25007e-17  \n",
      " 0.408248   0.408248  -1.11022e-16     4.996e-16   -0.408248   -0.408248  -1.66533e-16  3.05311e-16   1.11022e-16  -4.51028e-16      0.408248     -0.408248  \n",
      " -0.23053    0.23053     -0.322253      0.322253    0.422061   -0.422061     -0.120131     0.120131      0.387868     -0.387868  -1.05471e-15  -2.22045e-16  \n",
      " 0.129327   0.129327      -0.40848      -0.40848     0.19496     0.19496     -0.380137    -0.380137      0.156316      0.156316      0.389921      0.258654  \n",
      " 0.322253  -0.322253      0.120131     -0.120131    -0.23053     0.23053     -0.387868     0.387868      0.422061     -0.422061  -4.11129e-16   1.64799e-16  \n",
      " 0.233958   0.233958      0.271016      0.271016   -0.213585   -0.213585     -0.339556    -0.339556       0.10093       0.10093      -0.42717      0.467916  \n"
     ]
    }
   ],
   "source": [
    "#eigenvectors\n",
    "eigenvecs = solver.eigen_vectors\n",
    "matprint(np.array(eigenvecs))"
   ]
  },
  {
   "cell_type": "markdown",
   "metadata": {
    "slideshow": {
     "slide_type": "slide"
    }
   },
   "source": [
    "For molecules fo this size, there is no way we can visually inspect the coefficients and understand the molecular orbitals. Below, you will find a function that allows you to visualise the orbitals."
   ]
  },
  {
   "cell_type": "code",
   "execution_count": 8,
   "metadata": {},
   "outputs": [
    {
     "data": {
      "application/vnd.jupyter.widget-view+json": {
       "model_id": "b6f47148aada4c449096df6052eda63b",
       "version_major": 2,
       "version_minor": 0
      },
      "text/plain": [
       "A Jupyter Widget"
      ]
     },
     "metadata": {},
     "output_type": "display_data"
    }
   ],
   "source": [
    "%matplotlib inline \n",
    "from ipywidgets import interact, interactive, fixed, interact_manual\n",
    "from PAH_data import draw_MO\n",
    "\n",
    "interactive(draw_MO, mol=fixed(rdkit_mol), eigenvecs=fixed(eigenvecs), n=range(len(eigenvecs)))\n"
   ]
  },
  {
   "cell_type": "code",
   "execution_count": 9,
   "metadata": {},
   "outputs": [
    {
     "name": "stdout",
     "output_type": "stream",
     "text": [
      "[-0.9088772  -0.9088772  -0.92656079 -0.92656079 -1.00798783 -1.00798783\n",
      " -1.04435983 -1.04435983 -1.06590794 -1.06590794 -0.99764181 -1.09497102]\n",
      "-1.0\n",
      "-1.0\n",
      "-1.0\n",
      "-1.0\n",
      "-1.0\n",
      "-1.0\n",
      "-1.0\n",
      "-1.0\n",
      "-1.0\n",
      "-1.0\n",
      "-1.0\n",
      "-1.0\n"
     ]
    },
    {
     "data": {
      "image/svg+xml": [
       "<svg baseProfile=\"full\" height=\"200px\" version=\"1.1\" width=\"400px\" xml:space=\"preserve\" xmlns=\"http://www.w3.org/2000/svg\" xmlns:rdkit=\"http://www.rdkit.org/xml\" xmlns:xlink=\"http://www.w3.org/1999/xlink\">\n",
       "<rect height=\"200\" style=\"opacity:1.0;fill:#FFFFFF;stroke:none\" width=\"400\" x=\"0\" y=\"0\"> </rect>\n",
       "<ellipse cx=\"300.66\" cy=\"102.746\" rx=\"38.8185\" ry=\"38.8185\" style=\"fill:#0000FF;fill-rule:evenodd;stroke:#0000FF;stroke-width:1px;stroke-linecap:butt;stroke-linejoin:miter;stroke-opacity:1\"/>\n",
       "<ellipse cx=\"99.3401\" cy=\"102.746\" rx=\"38.8185\" ry=\"38.8185\" style=\"fill:#0000FF;fill-rule:evenodd;stroke:#0000FF;stroke-width:1px;stroke-linecap:butt;stroke-linejoin:miter;stroke-opacity:1\"/>\n",
       "<ellipse cx=\"253.016\" cy=\"9.09091\" rx=\"39.5738\" ry=\"39.5738\" style=\"fill:#0000FF;fill-rule:evenodd;stroke:#0000FF;stroke-width:1px;stroke-linecap:butt;stroke-linejoin:miter;stroke-opacity:1\"/>\n",
       "<ellipse cx=\"146.984\" cy=\"9.09091\" rx=\"39.5738\" ry=\"39.5738\" style=\"fill:#0000FF;fill-rule:evenodd;stroke:#0000FF;stroke-width:1px;stroke-linecap:butt;stroke-linejoin:miter;stroke-opacity:1\"/>\n",
       "<ellipse cx=\"302.185\" cy=\"43.1354\" rx=\"43.0516\" ry=\"43.0516\" style=\"fill:#0000FF;fill-rule:evenodd;stroke:#0000FF;stroke-width:1px;stroke-linecap:butt;stroke-linejoin:miter;stroke-opacity:1\"/>\n",
       "<ellipse cx=\"97.8154\" cy=\"43.1354\" rx=\"43.0516\" ry=\"43.0516\" style=\"fill:#0000FF;fill-rule:evenodd;stroke:#0000FF;stroke-width:1px;stroke-linecap:butt;stroke-linejoin:miter;stroke-opacity:1\"/>\n",
       "<ellipse cx=\"248.587\" cy=\"131.499\" rx=\"44.605\" ry=\"44.605\" style=\"fill:#0000FF;fill-rule:evenodd;stroke:#0000FF;stroke-width:1px;stroke-linecap:butt;stroke-linejoin:miter;stroke-opacity:1\"/>\n",
       "<ellipse cx=\"151.413\" cy=\"131.499\" rx=\"44.605\" ry=\"44.605\" style=\"fill:#0000FF;fill-rule:evenodd;stroke:#0000FF;stroke-width:1px;stroke-linecap:butt;stroke-linejoin:miter;stroke-opacity:1\"/>\n",
       "<ellipse cx=\"228.377\" cy=\"190.909\" rx=\"45.5254\" ry=\"45.5254\" style=\"fill:#0000FF;fill-rule:evenodd;stroke:#0000FF;stroke-width:1px;stroke-linecap:butt;stroke-linejoin:miter;stroke-opacity:1\"/>\n",
       "<ellipse cx=\"171.623\" cy=\"190.909\" rx=\"45.5254\" ry=\"45.5254\" style=\"fill:#0000FF;fill-rule:evenodd;stroke:#0000FF;stroke-width:1px;stroke-linecap:butt;stroke-linejoin:miter;stroke-opacity:1\"/>\n",
       "<ellipse cx=\"200\" cy=\"36.0155\" rx=\"42.6097\" ry=\"42.6097\" style=\"fill:#0000FF;fill-rule:evenodd;stroke:#0000FF;stroke-width:1px;stroke-linecap:butt;stroke-linejoin:miter;stroke-opacity:1\"/>\n",
       "<ellipse cx=\"200\" cy=\"98.266\" rx=\"46.7667\" ry=\"46.7667\" style=\"fill:#0000FF;fill-rule:evenodd;stroke:#0000FF;stroke-width:1px;stroke-linecap:butt;stroke-linejoin:miter;stroke-opacity:1\"/>\n",
       "<path d=\"M 300.66,102.746 248.587,131.499\" style=\"fill:none;fill-rule:evenodd;stroke:#000000;stroke-width:2px;stroke-linecap:butt;stroke-linejoin:miter;stroke-opacity:1\"/>\n",
       "<path d=\"M 286.655,95.8424 250.205,115.969\" style=\"fill:none;fill-rule:evenodd;stroke:#000000;stroke-width:2px;stroke-linecap:butt;stroke-linejoin:miter;stroke-opacity:1;stroke-dasharray:6,6\"/>\n",
       "<path d=\"M 300.66,102.746 302.185,43.1354\" style=\"fill:none;fill-rule:evenodd;stroke:#000000;stroke-width:2px;stroke-linecap:butt;stroke-linejoin:miter;stroke-opacity:1\"/>\n",
       "<path d=\"M 288.08,93.477 289.147,51.7494\" style=\"fill:none;fill-rule:evenodd;stroke:#000000;stroke-width:2px;stroke-linecap:butt;stroke-linejoin:miter;stroke-opacity:1;stroke-dasharray:6,6\"/>\n",
       "<path d=\"M 99.3401,102.746 151.413,131.499\" style=\"fill:none;fill-rule:evenodd;stroke:#000000;stroke-width:2px;stroke-linecap:butt;stroke-linejoin:miter;stroke-opacity:1\"/>\n",
       "<path d=\"M 113.345,95.8424 149.795,115.969\" style=\"fill:none;fill-rule:evenodd;stroke:#000000;stroke-width:2px;stroke-linecap:butt;stroke-linejoin:miter;stroke-opacity:1;stroke-dasharray:6,6\"/>\n",
       "<path d=\"M 99.3401,102.746 97.8154,43.1354\" style=\"fill:none;fill-rule:evenodd;stroke:#000000;stroke-width:2px;stroke-linecap:butt;stroke-linejoin:miter;stroke-opacity:1\"/>\n",
       "<path d=\"M 111.92,93.477 110.853,51.7494\" style=\"fill:none;fill-rule:evenodd;stroke:#000000;stroke-width:2px;stroke-linecap:butt;stroke-linejoin:miter;stroke-opacity:1;stroke-dasharray:6,6\"/>\n",
       "<path d=\"M 253.016,9.09091 200,36.0155\" style=\"fill:none;fill-rule:evenodd;stroke:#000000;stroke-width:2px;stroke-linecap:butt;stroke-linejoin:miter;stroke-opacity:1\"/>\n",
       "<path d=\"M 250.866,24.5539 213.754,43.4011\" style=\"fill:none;fill-rule:evenodd;stroke:#000000;stroke-width:2px;stroke-linecap:butt;stroke-linejoin:miter;stroke-opacity:1;stroke-dasharray:6,6\"/>\n",
       "<path d=\"M 253.016,9.09091 302.185,43.1354\" style=\"fill:none;fill-rule:evenodd;stroke:#000000;stroke-width:2px;stroke-linecap:butt;stroke-linejoin:miter;stroke-opacity:1\"/>\n",
       "<path d=\"M 253.098,24.7319 287.515,48.5631\" style=\"fill:none;fill-rule:evenodd;stroke:#000000;stroke-width:2px;stroke-linecap:butt;stroke-linejoin:miter;stroke-opacity:1;stroke-dasharray:6,6\"/>\n",
       "<path d=\"M 146.984,9.09091 200,36.0155\" style=\"fill:none;fill-rule:evenodd;stroke:#000000;stroke-width:2px;stroke-linecap:butt;stroke-linejoin:miter;stroke-opacity:1\"/>\n",
       "<path d=\"M 149.134,24.5539 186.246,43.4011\" style=\"fill:none;fill-rule:evenodd;stroke:#000000;stroke-width:2px;stroke-linecap:butt;stroke-linejoin:miter;stroke-opacity:1;stroke-dasharray:6,6\"/>\n",
       "<path d=\"M 146.984,9.09091 97.8154,43.1354\" style=\"fill:none;fill-rule:evenodd;stroke:#000000;stroke-width:2px;stroke-linecap:butt;stroke-linejoin:miter;stroke-opacity:1\"/>\n",
       "<path d=\"M 146.902,24.7319 112.485,48.5631\" style=\"fill:none;fill-rule:evenodd;stroke:#000000;stroke-width:2px;stroke-linecap:butt;stroke-linejoin:miter;stroke-opacity:1;stroke-dasharray:6,6\"/>\n",
       "<path d=\"M 248.587,131.499 200,98.266\" style=\"fill:none;fill-rule:evenodd;stroke:#000000;stroke-width:2px;stroke-linecap:butt;stroke-linejoin:miter;stroke-opacity:1\"/>\n",
       "<path d=\"M 234.066,137.09 200.054,113.827\" style=\"fill:none;fill-rule:evenodd;stroke:#000000;stroke-width:2px;stroke-linecap:butt;stroke-linejoin:miter;stroke-opacity:1;stroke-dasharray:6,6\"/>\n",
       "<path d=\"M 248.587,131.499 228.377,190.909\" style=\"fill:none;fill-rule:evenodd;stroke:#000000;stroke-width:2px;stroke-linecap:butt;stroke-linejoin:miter;stroke-opacity:1\"/>\n",
       "<path d=\"M 151.413,131.499 200,98.266\" style=\"fill:none;fill-rule:evenodd;stroke:#000000;stroke-width:2px;stroke-linecap:butt;stroke-linejoin:miter;stroke-opacity:1\"/>\n",
       "<path d=\"M 165.934,137.09 199.946,113.827\" style=\"fill:none;fill-rule:evenodd;stroke:#000000;stroke-width:2px;stroke-linecap:butt;stroke-linejoin:miter;stroke-opacity:1;stroke-dasharray:6,6\"/>\n",
       "<path d=\"M 151.413,131.499 171.623,190.909\" style=\"fill:none;fill-rule:evenodd;stroke:#000000;stroke-width:2px;stroke-linecap:butt;stroke-linejoin:miter;stroke-opacity:1\"/>\n",
       "<path d=\"M 228.377,190.909 171.623,190.909\" style=\"fill:none;fill-rule:evenodd;stroke:#000000;stroke-width:2px;stroke-linecap:butt;stroke-linejoin:miter;stroke-opacity:1\"/>\n",
       "<path d=\"M 219.864,178.096 180.136,178.096\" style=\"fill:none;fill-rule:evenodd;stroke:#000000;stroke-width:2px;stroke-linecap:butt;stroke-linejoin:miter;stroke-opacity:1\"/>\n",
       "<path d=\"M 200,36.0155 200,98.266\" style=\"fill:none;fill-rule:evenodd;stroke:#000000;stroke-width:2px;stroke-linecap:butt;stroke-linejoin:miter;stroke-opacity:1\"/>\n",
       "<path d=\"M 212.813,45.3531 212.813,88.9284\" style=\"fill:none;fill-rule:evenodd;stroke:#000000;stroke-width:2px;stroke-linecap:butt;stroke-linejoin:miter;stroke-opacity:1;stroke-dasharray:6,6\"/>\n",
       "</svg>"
      ],
      "text/plain": [
       "<IPython.core.display.SVG object>"
      ]
     },
     "metadata": {},
     "output_type": "display_data"
    }
   ],
   "source": [
    "#charge populations\n",
    "print(solver.charge_densities)\n",
    "draw_MO(rdkit_mol, solver.charge_densities)"
   ]
  },
  {
   "cell_type": "code",
   "execution_count": 10,
   "metadata": {},
   "outputs": [
    {
     "name": "stdout",
     "output_type": "stream",
     "text": [
      "[ 0.0911228   0.0911228   0.07343921  0.07343921 -0.00798783 -0.00798783\n",
      " -0.04435983 -0.04435983 -0.06590794 -0.06590794  0.00235819 -0.09497102]\n",
      "1.0\n",
      "1.0\n",
      "1.0\n",
      "1.0\n",
      "-1.0\n",
      "-1.0\n",
      "-1.0\n",
      "-1.0\n",
      "-1.0\n",
      "-1.0\n",
      "1.0\n",
      "-1.0\n"
     ]
    },
    {
     "data": {
      "image/svg+xml": [
       "<svg baseProfile=\"full\" height=\"200px\" version=\"1.1\" width=\"400px\" xml:space=\"preserve\" xmlns=\"http://www.w3.org/2000/svg\" xmlns:rdkit=\"http://www.rdkit.org/xml\" xmlns:xlink=\"http://www.w3.org/1999/xlink\">\n",
       "<rect height=\"200\" style=\"opacity:1.0;fill:#FFFFFF;stroke:none\" width=\"400\" x=\"0\" y=\"0\"> </rect>\n",
       "<ellipse cx=\"300.66\" cy=\"102.746\" rx=\"7.78378\" ry=\"7.78378\" style=\"fill:#FF0000;fill-rule:evenodd;stroke:#FF0000;stroke-width:1px;stroke-linecap:butt;stroke-linejoin:miter;stroke-opacity:1\"/>\n",
       "<ellipse cx=\"99.3401\" cy=\"102.746\" rx=\"7.78378\" ry=\"7.78378\" style=\"fill:#FF0000;fill-rule:evenodd;stroke:#FF0000;stroke-width:1px;stroke-linecap:butt;stroke-linejoin:miter;stroke-opacity:1\"/>\n",
       "<ellipse cx=\"253.016\" cy=\"9.09091\" rx=\"6.27324\" ry=\"6.27324\" style=\"fill:#FF0000;fill-rule:evenodd;stroke:#FF0000;stroke-width:1px;stroke-linecap:butt;stroke-linejoin:miter;stroke-opacity:1\"/>\n",
       "<ellipse cx=\"146.984\" cy=\"9.09091\" rx=\"6.27324\" ry=\"6.27324\" style=\"fill:#FF0000;fill-rule:evenodd;stroke:#FF0000;stroke-width:1px;stroke-linecap:butt;stroke-linejoin:miter;stroke-opacity:1\"/>\n",
       "<ellipse cx=\"302.185\" cy=\"43.1354\" rx=\"0.682327\" ry=\"0.682327\" style=\"fill:#0000FF;fill-rule:evenodd;stroke:#0000FF;stroke-width:1px;stroke-linecap:butt;stroke-linejoin:miter;stroke-opacity:1\"/>\n",
       "<ellipse cx=\"97.8154\" cy=\"43.1354\" rx=\"0.682327\" ry=\"0.682327\" style=\"fill:#0000FF;fill-rule:evenodd;stroke:#0000FF;stroke-width:1px;stroke-linecap:butt;stroke-linejoin:miter;stroke-opacity:1\"/>\n",
       "<ellipse cx=\"248.587\" cy=\"131.499\" rx=\"3.78925\" ry=\"3.78925\" style=\"fill:#0000FF;fill-rule:evenodd;stroke:#0000FF;stroke-width:1px;stroke-linecap:butt;stroke-linejoin:miter;stroke-opacity:1\"/>\n",
       "<ellipse cx=\"151.413\" cy=\"131.499\" rx=\"3.78925\" ry=\"3.78925\" style=\"fill:#0000FF;fill-rule:evenodd;stroke:#0000FF;stroke-width:1px;stroke-linecap:butt;stroke-linejoin:miter;stroke-opacity:1\"/>\n",
       "<ellipse cx=\"228.377\" cy=\"190.909\" rx=\"5.62991\" ry=\"5.62991\" style=\"fill:#0000FF;fill-rule:evenodd;stroke:#0000FF;stroke-width:1px;stroke-linecap:butt;stroke-linejoin:miter;stroke-opacity:1\"/>\n",
       "<ellipse cx=\"171.623\" cy=\"190.909\" rx=\"5.62991\" ry=\"5.62991\" style=\"fill:#0000FF;fill-rule:evenodd;stroke:#0000FF;stroke-width:1px;stroke-linecap:butt;stroke-linejoin:miter;stroke-opacity:1\"/>\n",
       "<ellipse cx=\"200\" cy=\"36.0155\" rx=\"0.201438\" ry=\"0.201438\" style=\"fill:#FF0000;fill-rule:evenodd;stroke:#FF0000;stroke-width:1px;stroke-linecap:butt;stroke-linejoin:miter;stroke-opacity:1\"/>\n",
       "<ellipse cx=\"200\" cy=\"98.266\" rx=\"8.1125\" ry=\"8.1125\" style=\"fill:#0000FF;fill-rule:evenodd;stroke:#0000FF;stroke-width:1px;stroke-linecap:butt;stroke-linejoin:miter;stroke-opacity:1\"/>\n",
       "<path d=\"M 300.66,102.746 248.587,131.499\" style=\"fill:none;fill-rule:evenodd;stroke:#000000;stroke-width:2px;stroke-linecap:butt;stroke-linejoin:miter;stroke-opacity:1\"/>\n",
       "<path d=\"M 286.655,95.8424 250.205,115.969\" style=\"fill:none;fill-rule:evenodd;stroke:#000000;stroke-width:2px;stroke-linecap:butt;stroke-linejoin:miter;stroke-opacity:1;stroke-dasharray:6,6\"/>\n",
       "<path d=\"M 300.66,102.746 302.185,43.1354\" style=\"fill:none;fill-rule:evenodd;stroke:#000000;stroke-width:2px;stroke-linecap:butt;stroke-linejoin:miter;stroke-opacity:1\"/>\n",
       "<path d=\"M 288.08,93.477 289.147,51.7494\" style=\"fill:none;fill-rule:evenodd;stroke:#000000;stroke-width:2px;stroke-linecap:butt;stroke-linejoin:miter;stroke-opacity:1;stroke-dasharray:6,6\"/>\n",
       "<path d=\"M 99.3401,102.746 151.413,131.499\" style=\"fill:none;fill-rule:evenodd;stroke:#000000;stroke-width:2px;stroke-linecap:butt;stroke-linejoin:miter;stroke-opacity:1\"/>\n",
       "<path d=\"M 113.345,95.8424 149.795,115.969\" style=\"fill:none;fill-rule:evenodd;stroke:#000000;stroke-width:2px;stroke-linecap:butt;stroke-linejoin:miter;stroke-opacity:1;stroke-dasharray:6,6\"/>\n",
       "<path d=\"M 99.3401,102.746 97.8154,43.1354\" style=\"fill:none;fill-rule:evenodd;stroke:#000000;stroke-width:2px;stroke-linecap:butt;stroke-linejoin:miter;stroke-opacity:1\"/>\n",
       "<path d=\"M 111.92,93.477 110.853,51.7494\" style=\"fill:none;fill-rule:evenodd;stroke:#000000;stroke-width:2px;stroke-linecap:butt;stroke-linejoin:miter;stroke-opacity:1;stroke-dasharray:6,6\"/>\n",
       "<path d=\"M 253.016,9.09091 200,36.0155\" style=\"fill:none;fill-rule:evenodd;stroke:#000000;stroke-width:2px;stroke-linecap:butt;stroke-linejoin:miter;stroke-opacity:1\"/>\n",
       "<path d=\"M 250.866,24.5539 213.754,43.4011\" style=\"fill:none;fill-rule:evenodd;stroke:#000000;stroke-width:2px;stroke-linecap:butt;stroke-linejoin:miter;stroke-opacity:1;stroke-dasharray:6,6\"/>\n",
       "<path d=\"M 253.016,9.09091 302.185,43.1354\" style=\"fill:none;fill-rule:evenodd;stroke:#000000;stroke-width:2px;stroke-linecap:butt;stroke-linejoin:miter;stroke-opacity:1\"/>\n",
       "<path d=\"M 253.098,24.7319 287.515,48.5631\" style=\"fill:none;fill-rule:evenodd;stroke:#000000;stroke-width:2px;stroke-linecap:butt;stroke-linejoin:miter;stroke-opacity:1;stroke-dasharray:6,6\"/>\n",
       "<path d=\"M 146.984,9.09091 200,36.0155\" style=\"fill:none;fill-rule:evenodd;stroke:#000000;stroke-width:2px;stroke-linecap:butt;stroke-linejoin:miter;stroke-opacity:1\"/>\n",
       "<path d=\"M 149.134,24.5539 186.246,43.4011\" style=\"fill:none;fill-rule:evenodd;stroke:#000000;stroke-width:2px;stroke-linecap:butt;stroke-linejoin:miter;stroke-opacity:1;stroke-dasharray:6,6\"/>\n",
       "<path d=\"M 146.984,9.09091 97.8154,43.1354\" style=\"fill:none;fill-rule:evenodd;stroke:#000000;stroke-width:2px;stroke-linecap:butt;stroke-linejoin:miter;stroke-opacity:1\"/>\n",
       "<path d=\"M 146.902,24.7319 112.485,48.5631\" style=\"fill:none;fill-rule:evenodd;stroke:#000000;stroke-width:2px;stroke-linecap:butt;stroke-linejoin:miter;stroke-opacity:1;stroke-dasharray:6,6\"/>\n",
       "<path d=\"M 248.587,131.499 200,98.266\" style=\"fill:none;fill-rule:evenodd;stroke:#000000;stroke-width:2px;stroke-linecap:butt;stroke-linejoin:miter;stroke-opacity:1\"/>\n",
       "<path d=\"M 234.066,137.09 200.054,113.827\" style=\"fill:none;fill-rule:evenodd;stroke:#000000;stroke-width:2px;stroke-linecap:butt;stroke-linejoin:miter;stroke-opacity:1;stroke-dasharray:6,6\"/>\n",
       "<path d=\"M 248.587,131.499 228.377,190.909\" style=\"fill:none;fill-rule:evenodd;stroke:#000000;stroke-width:2px;stroke-linecap:butt;stroke-linejoin:miter;stroke-opacity:1\"/>\n",
       "<path d=\"M 151.413,131.499 200,98.266\" style=\"fill:none;fill-rule:evenodd;stroke:#000000;stroke-width:2px;stroke-linecap:butt;stroke-linejoin:miter;stroke-opacity:1\"/>\n",
       "<path d=\"M 165.934,137.09 199.946,113.827\" style=\"fill:none;fill-rule:evenodd;stroke:#000000;stroke-width:2px;stroke-linecap:butt;stroke-linejoin:miter;stroke-opacity:1;stroke-dasharray:6,6\"/>\n",
       "<path d=\"M 151.413,131.499 171.623,190.909\" style=\"fill:none;fill-rule:evenodd;stroke:#000000;stroke-width:2px;stroke-linecap:butt;stroke-linejoin:miter;stroke-opacity:1\"/>\n",
       "<path d=\"M 228.377,190.909 171.623,190.909\" style=\"fill:none;fill-rule:evenodd;stroke:#000000;stroke-width:2px;stroke-linecap:butt;stroke-linejoin:miter;stroke-opacity:1\"/>\n",
       "<path d=\"M 219.864,178.096 180.136,178.096\" style=\"fill:none;fill-rule:evenodd;stroke:#000000;stroke-width:2px;stroke-linecap:butt;stroke-linejoin:miter;stroke-opacity:1\"/>\n",
       "<path d=\"M 200,36.0155 200,98.266\" style=\"fill:none;fill-rule:evenodd;stroke:#000000;stroke-width:2px;stroke-linecap:butt;stroke-linejoin:miter;stroke-opacity:1\"/>\n",
       "<path d=\"M 212.813,45.3531 212.813,88.9284\" style=\"fill:none;fill-rule:evenodd;stroke:#000000;stroke-width:2px;stroke-linecap:butt;stroke-linejoin:miter;stroke-opacity:1;stroke-dasharray:6,6\"/>\n",
       "</svg>"
      ],
      "text/plain": [
       "<IPython.core.display.SVG object>"
      ]
     },
     "metadata": {},
     "output_type": "display_data"
    }
   ],
   "source": [
    "#net charges (charge populations - atomic charge)\n",
    "print(solver.net_charges)\n",
    "draw_MO(rdkit_mol, solver.net_charges*2.)"
   ]
  },
  {
   "cell_type": "code",
   "execution_count": 11,
   "metadata": {},
   "outputs": [
    {
     "name": "stdout",
     "output_type": "stream",
     "text": [
      "[-0.44724084 -0.44724084 -0.46617458 -0.46617458 -0.39737396 -0.39737396\n",
      " -0.34777783 -0.34777783 -0.47263324 -0.47263324 -0.32797971 -0.3544591 ]\n",
      "-1.0\n",
      "-1.0\n",
      "-1.0\n",
      "-1.0\n",
      "-1.0\n",
      "-1.0\n",
      "-1.0\n",
      "-1.0\n",
      "-1.0\n",
      "-1.0\n",
      "-1.0\n",
      "-1.0\n"
     ]
    },
    {
     "data": {
      "image/svg+xml": [
       "<svg baseProfile=\"full\" height=\"200px\" version=\"1.1\" width=\"400px\" xml:space=\"preserve\" xmlns=\"http://www.w3.org/2000/svg\" xmlns:rdkit=\"http://www.rdkit.org/xml\" xmlns:xlink=\"http://www.w3.org/1999/xlink\">\n",
       "<rect height=\"200\" style=\"opacity:1.0;fill:#FFFFFF;stroke:none\" width=\"400\" x=\"0\" y=\"0\"> </rect>\n",
       "<ellipse cx=\"300.66\" cy=\"102.746\" rx=\"19.1018\" ry=\"19.1018\" style=\"fill:#0000FF;fill-rule:evenodd;stroke:#0000FF;stroke-width:1px;stroke-linecap:butt;stroke-linejoin:miter;stroke-opacity:1\"/>\n",
       "<ellipse cx=\"99.3401\" cy=\"102.746\" rx=\"19.1018\" ry=\"19.1018\" style=\"fill:#0000FF;fill-rule:evenodd;stroke:#0000FF;stroke-width:1px;stroke-linecap:butt;stroke-linejoin:miter;stroke-opacity:1\"/>\n",
       "<ellipse cx=\"253.016\" cy=\"9.09091\" rx=\"19.9105\" ry=\"19.9105\" style=\"fill:#0000FF;fill-rule:evenodd;stroke:#0000FF;stroke-width:1px;stroke-linecap:butt;stroke-linejoin:miter;stroke-opacity:1\"/>\n",
       "<ellipse cx=\"146.984\" cy=\"9.09091\" rx=\"19.9105\" ry=\"19.9105\" style=\"fill:#0000FF;fill-rule:evenodd;stroke:#0000FF;stroke-width:1px;stroke-linecap:butt;stroke-linejoin:miter;stroke-opacity:1\"/>\n",
       "<ellipse cx=\"302.185\" cy=\"43.1354\" rx=\"16.972\" ry=\"16.972\" style=\"fill:#0000FF;fill-rule:evenodd;stroke:#0000FF;stroke-width:1px;stroke-linecap:butt;stroke-linejoin:miter;stroke-opacity:1\"/>\n",
       "<ellipse cx=\"97.8154\" cy=\"43.1354\" rx=\"16.972\" ry=\"16.972\" style=\"fill:#0000FF;fill-rule:evenodd;stroke:#0000FF;stroke-width:1px;stroke-linecap:butt;stroke-linejoin:miter;stroke-opacity:1\"/>\n",
       "<ellipse cx=\"248.587\" cy=\"131.499\" rx=\"14.8537\" ry=\"14.8537\" style=\"fill:#0000FF;fill-rule:evenodd;stroke:#0000FF;stroke-width:1px;stroke-linecap:butt;stroke-linejoin:miter;stroke-opacity:1\"/>\n",
       "<ellipse cx=\"151.413\" cy=\"131.499\" rx=\"14.8537\" ry=\"14.8537\" style=\"fill:#0000FF;fill-rule:evenodd;stroke:#0000FF;stroke-width:1px;stroke-linecap:butt;stroke-linejoin:miter;stroke-opacity:1\"/>\n",
       "<ellipse cx=\"228.377\" cy=\"190.909\" rx=\"20.1864\" ry=\"20.1864\" style=\"fill:#0000FF;fill-rule:evenodd;stroke:#0000FF;stroke-width:1px;stroke-linecap:butt;stroke-linejoin:miter;stroke-opacity:1\"/>\n",
       "<ellipse cx=\"171.623\" cy=\"190.909\" rx=\"20.1864\" ry=\"20.1864\" style=\"fill:#0000FF;fill-rule:evenodd;stroke:#0000FF;stroke-width:1px;stroke-linecap:butt;stroke-linejoin:miter;stroke-opacity:1\"/>\n",
       "<ellipse cx=\"200\" cy=\"36.0155\" rx=\"14.0081\" ry=\"14.0081\" style=\"fill:#0000FF;fill-rule:evenodd;stroke:#0000FF;stroke-width:1px;stroke-linecap:butt;stroke-linejoin:miter;stroke-opacity:1\"/>\n",
       "<ellipse cx=\"200\" cy=\"98.266\" rx=\"15.1391\" ry=\"15.1391\" style=\"fill:#0000FF;fill-rule:evenodd;stroke:#0000FF;stroke-width:1px;stroke-linecap:butt;stroke-linejoin:miter;stroke-opacity:1\"/>\n",
       "<path d=\"M 300.66,102.746 248.587,131.499\" style=\"fill:none;fill-rule:evenodd;stroke:#000000;stroke-width:2px;stroke-linecap:butt;stroke-linejoin:miter;stroke-opacity:1\"/>\n",
       "<path d=\"M 286.655,95.8424 250.205,115.969\" style=\"fill:none;fill-rule:evenodd;stroke:#000000;stroke-width:2px;stroke-linecap:butt;stroke-linejoin:miter;stroke-opacity:1;stroke-dasharray:6,6\"/>\n",
       "<path d=\"M 300.66,102.746 302.185,43.1354\" style=\"fill:none;fill-rule:evenodd;stroke:#000000;stroke-width:2px;stroke-linecap:butt;stroke-linejoin:miter;stroke-opacity:1\"/>\n",
       "<path d=\"M 288.08,93.477 289.147,51.7494\" style=\"fill:none;fill-rule:evenodd;stroke:#000000;stroke-width:2px;stroke-linecap:butt;stroke-linejoin:miter;stroke-opacity:1;stroke-dasharray:6,6\"/>\n",
       "<path d=\"M 99.3401,102.746 151.413,131.499\" style=\"fill:none;fill-rule:evenodd;stroke:#000000;stroke-width:2px;stroke-linecap:butt;stroke-linejoin:miter;stroke-opacity:1\"/>\n",
       "<path d=\"M 113.345,95.8424 149.795,115.969\" style=\"fill:none;fill-rule:evenodd;stroke:#000000;stroke-width:2px;stroke-linecap:butt;stroke-linejoin:miter;stroke-opacity:1;stroke-dasharray:6,6\"/>\n",
       "<path d=\"M 99.3401,102.746 97.8154,43.1354\" style=\"fill:none;fill-rule:evenodd;stroke:#000000;stroke-width:2px;stroke-linecap:butt;stroke-linejoin:miter;stroke-opacity:1\"/>\n",
       "<path d=\"M 111.92,93.477 110.853,51.7494\" style=\"fill:none;fill-rule:evenodd;stroke:#000000;stroke-width:2px;stroke-linecap:butt;stroke-linejoin:miter;stroke-opacity:1;stroke-dasharray:6,6\"/>\n",
       "<path d=\"M 253.016,9.09091 200,36.0155\" style=\"fill:none;fill-rule:evenodd;stroke:#000000;stroke-width:2px;stroke-linecap:butt;stroke-linejoin:miter;stroke-opacity:1\"/>\n",
       "<path d=\"M 250.866,24.5539 213.754,43.4011\" style=\"fill:none;fill-rule:evenodd;stroke:#000000;stroke-width:2px;stroke-linecap:butt;stroke-linejoin:miter;stroke-opacity:1;stroke-dasharray:6,6\"/>\n",
       "<path d=\"M 253.016,9.09091 302.185,43.1354\" style=\"fill:none;fill-rule:evenodd;stroke:#000000;stroke-width:2px;stroke-linecap:butt;stroke-linejoin:miter;stroke-opacity:1\"/>\n",
       "<path d=\"M 253.098,24.7319 287.515,48.5631\" style=\"fill:none;fill-rule:evenodd;stroke:#000000;stroke-width:2px;stroke-linecap:butt;stroke-linejoin:miter;stroke-opacity:1;stroke-dasharray:6,6\"/>\n",
       "<path d=\"M 146.984,9.09091 200,36.0155\" style=\"fill:none;fill-rule:evenodd;stroke:#000000;stroke-width:2px;stroke-linecap:butt;stroke-linejoin:miter;stroke-opacity:1\"/>\n",
       "<path d=\"M 149.134,24.5539 186.246,43.4011\" style=\"fill:none;fill-rule:evenodd;stroke:#000000;stroke-width:2px;stroke-linecap:butt;stroke-linejoin:miter;stroke-opacity:1;stroke-dasharray:6,6\"/>\n",
       "<path d=\"M 146.984,9.09091 97.8154,43.1354\" style=\"fill:none;fill-rule:evenodd;stroke:#000000;stroke-width:2px;stroke-linecap:butt;stroke-linejoin:miter;stroke-opacity:1\"/>\n",
       "<path d=\"M 146.902,24.7319 112.485,48.5631\" style=\"fill:none;fill-rule:evenodd;stroke:#000000;stroke-width:2px;stroke-linecap:butt;stroke-linejoin:miter;stroke-opacity:1;stroke-dasharray:6,6\"/>\n",
       "<path d=\"M 248.587,131.499 200,98.266\" style=\"fill:none;fill-rule:evenodd;stroke:#000000;stroke-width:2px;stroke-linecap:butt;stroke-linejoin:miter;stroke-opacity:1\"/>\n",
       "<path d=\"M 234.066,137.09 200.054,113.827\" style=\"fill:none;fill-rule:evenodd;stroke:#000000;stroke-width:2px;stroke-linecap:butt;stroke-linejoin:miter;stroke-opacity:1;stroke-dasharray:6,6\"/>\n",
       "<path d=\"M 248.587,131.499 228.377,190.909\" style=\"fill:none;fill-rule:evenodd;stroke:#000000;stroke-width:2px;stroke-linecap:butt;stroke-linejoin:miter;stroke-opacity:1\"/>\n",
       "<path d=\"M 151.413,131.499 200,98.266\" style=\"fill:none;fill-rule:evenodd;stroke:#000000;stroke-width:2px;stroke-linecap:butt;stroke-linejoin:miter;stroke-opacity:1\"/>\n",
       "<path d=\"M 165.934,137.09 199.946,113.827\" style=\"fill:none;fill-rule:evenodd;stroke:#000000;stroke-width:2px;stroke-linecap:butt;stroke-linejoin:miter;stroke-opacity:1;stroke-dasharray:6,6\"/>\n",
       "<path d=\"M 151.413,131.499 171.623,190.909\" style=\"fill:none;fill-rule:evenodd;stroke:#000000;stroke-width:2px;stroke-linecap:butt;stroke-linejoin:miter;stroke-opacity:1\"/>\n",
       "<path d=\"M 228.377,190.909 171.623,190.909\" style=\"fill:none;fill-rule:evenodd;stroke:#000000;stroke-width:2px;stroke-linecap:butt;stroke-linejoin:miter;stroke-opacity:1\"/>\n",
       "<path d=\"M 219.864,178.096 180.136,178.096\" style=\"fill:none;fill-rule:evenodd;stroke:#000000;stroke-width:2px;stroke-linecap:butt;stroke-linejoin:miter;stroke-opacity:1\"/>\n",
       "<path d=\"M 200,36.0155 200,98.266\" style=\"fill:none;fill-rule:evenodd;stroke:#000000;stroke-width:2px;stroke-linecap:butt;stroke-linejoin:miter;stroke-opacity:1\"/>\n",
       "<path d=\"M 212.813,45.3531 212.813,88.9284\" style=\"fill:none;fill-rule:evenodd;stroke:#000000;stroke-width:2px;stroke-linecap:butt;stroke-linejoin:miter;stroke-opacity:1;stroke-dasharray:6,6\"/>\n",
       "</svg>"
      ],
      "text/plain": [
       "<IPython.core.display.SVG object>"
      ]
     },
     "metadata": {},
     "output_type": "display_data"
    }
   ],
   "source": [
    "#atomic self-polarisabilities\n",
    "self_polarisabilities = np.diag(solver.aa_polar)\n",
    "print(self_polarisabilities)\n",
    "draw_MO(rdkit_mol, self_polarisabilities)"
   ]
  },
  {
   "cell_type": "markdown",
   "metadata": {},
   "source": [
    "We can also calculate the **total energy** and the **bond order**:"
   ]
  },
  {
   "cell_type": "code",
   "execution_count": 12,
   "metadata": {},
   "outputs": [
    {
     "name": "stdout",
     "output_type": "stream",
     "text": [
      "neutral molecule\n",
      "-16.6189159718\n",
      "cation\n",
      "-15.9813991821\n",
      "anion\n",
      "-16.3342862953\n"
     ]
    }
   ],
   "source": [
    "#total energy\n",
    "def calculate_total_energy(solver):\n",
    "    \"\"\"\n",
    "    This function calculates the total energy\n",
    "    \"\"\"\n",
    "    total_energy = 0.0\n",
    "    for state in solver.populated_levels:\n",
    "        total_energy += state[0]*state[2]\n",
    "    return total_energy\n",
    "\n",
    "#neutral molecule energy\n",
    "print('neutral molecule')\n",
    "solver.set_num_electrons(12)\n",
    "print(calculate_total_energy(solver))\n",
    "\n",
    "#make cation\n",
    "print('cation')\n",
    "solver.set_num_electrons(solver.num_electrons-1)\n",
    "print(calculate_total_energy(solver))\n",
    "\n",
    "#make anion\n",
    "print('anion')\n",
    "solver.set_num_electrons(solver.num_electrons+2)\n",
    "print(calculate_total_energy(solver))\n",
    "\n",
    "solver.set_num_electrons(12)"
   ]
  },
  {
   "cell_type": "code",
   "execution_count": 13,
   "metadata": {},
   "outputs": [
    {
     "name": "stdout",
     "output_type": "stream",
     "text": [
      "atom i    atom j    bond order\n",
      "    1        5         0.633\n",
      "    1        7         0.631\n",
      "    2        6         0.633\n",
      "    2        8         0.631\n",
      "    3        5         0.704\n",
      "    3       11         0.550\n",
      "    4        6         0.704\n",
      "    4       11         0.550\n",
      "    7        9         0.459\n",
      "    7       12         0.514\n",
      "    8       10         0.459\n",
      "    8       12         0.514\n",
      "    9       10         0.796\n",
      "   11       12         0.531\n"
     ]
    }
   ],
   "source": [
    "def print_bond_orders(solver):\n",
    "    \"\"\"\n",
    "    print bond orders to screen\n",
    "    \"\"\"\n",
    "\n",
    "    bond_orders=np.multiply(-huckel_matrix,solver.bond_orders)\n",
    "\n",
    "    print('atom i    atom j    bond order')\n",
    "    atom_pairs = []\n",
    "    borders = []\n",
    "    for pair in solver.bond_pairs():\n",
    "        i, j = pair\n",
    "        print(\"  {0:3d}      {1:3d}      {2:8.3f}\".format(i+1, j+1, bond_orders[i,j]))\n",
    "        atom_pairs.append([i+1,j+1])\n",
    "        borders.append(bond_orders[i,j])\n",
    "\n",
    "    return atom_pairs, borders\n",
    "        \n",
    "atom_pairs, bond_orders = print_bond_orders(solver)"
   ]
  },
  {
   "cell_type": "markdown",
   "metadata": {},
   "source": [
    "<div class=warn>\n",
    "\n",
    "<b> Task 3</b><br>\n",
    "\n",
    "<ul>\n",
    "<li> Write a function that calculates the bond number based on the bond orders</li>\n",
    "\n",
    "</ul>\n",
    "\n",
    "</div>\n",
    "\n"
   ]
  },
  {
   "cell_type": "code",
   "execution_count": 14,
   "metadata": {
    "collapsed": true
   },
   "outputs": [],
   "source": [
    "def calculate_bond_number(atom_pairs, bond_orders):\n",
    "    \"\"\"\n",
    "    ...\n",
    "    \"\"\"\n",
    "    \n",
    "    #<insert code to calculate bond_number for each atom\n",
    "    \n",
    "    #return bond_number\n",
    "    \n",
    "    \n",
    "#plot bond number \n",
    "#draw_MO(rdkit_mol, bond_number)"
   ]
  },
  {
   "cell_type": "markdown",
   "metadata": {},
   "source": [
    "## Part 3: Hückel calculation and analysis of the three molecules"
   ]
  },
  {
   "cell_type": "markdown",
   "metadata": {
    "collapsed": true
   },
   "source": [
    "<div class=warn>\n",
    "\n",
    "<b> Task 4</b><br>\n",
    "\n",
    "<ol>\n",
    "<li> Calculate the total energies of Indeno[1,2,3-cd]fluoranthene, Dibenzo[cd,jk]pyrene, Indeno[1,2,3-cd]pyrene. Which molecule is more stable? </li>\n",
    "<li> Calculate the cations and anions of the three molecules. Which cation and which anion is more stable? Use the energy levels and wave functions to explain the stability trend.</li>\n",
    "<li> For the three molecules, find out which carbon atom is most easily attacked by (A) a nucleophililic reaction agent and (B) an electrophilic reaction agent.</li>\n",
    "\n",
    "</ol>\n",
    "\n",
    "</div>"
   ]
  },
  {
   "cell_type": "code",
   "execution_count": null,
   "metadata": {
    "collapsed": true
   },
   "outputs": [],
   "source": []
  },
  {
   "cell_type": "code",
   "execution_count": null,
   "metadata": {
    "collapsed": true
   },
   "outputs": [],
   "source": []
  },
  {
   "cell_type": "code",
   "execution_count": null,
   "metadata": {
    "collapsed": true
   },
   "outputs": [],
   "source": []
  },
  {
   "cell_type": "code",
   "execution_count": null,
   "metadata": {
    "collapsed": true
   },
   "outputs": [],
   "source": []
  },
  {
   "cell_type": "code",
   "execution_count": null,
   "metadata": {
    "collapsed": true
   },
   "outputs": [],
   "source": []
  },
  {
   "cell_type": "code",
   "execution_count": null,
   "metadata": {
    "collapsed": true
   },
   "outputs": [],
   "source": []
  }
 ],
 "metadata": {
  "kernelspec": {
   "display_name": "Python 3",
   "language": "python",
   "name": "python3"
  },
  "language_info": {
   "codemirror_mode": {
    "name": "ipython",
    "version": 3
   },
   "file_extension": ".py",
   "mimetype": "text/x-python",
   "name": "python",
   "nbconvert_exporter": "python",
   "pygments_lexer": "ipython3",
   "version": "3.6.3"
  }
 },
 "nbformat": 4,
 "nbformat_minor": 2
}
