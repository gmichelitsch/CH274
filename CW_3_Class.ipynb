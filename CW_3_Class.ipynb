{
 "cells": [
  {
   "cell_type": "code",
   "execution_count": 1,
   "metadata": {},
   "outputs": [
    {
     "data": {
      "text/html": [
       "<script>\n",
       "code_show=true; \n",
       "function code_toggle() {\n",
       "    if (code_show){\n",
       "        $('div.cell.code_cell.rendered.selected div.input').hide();\n",
       "    } else {\n",
       "        $('div.cell.code_cell.rendered.selected div.input').show();\n",
       "    }\n",
       "    code_show = !code_show\n",
       "} \n",
       "$( document ).ready(code_toggle);\n",
       "</script>\n",
       "Some hidden code... to show/hide this cell's raw code input, click (or double click if stubborn!) <a href=\"javascript:code_toggle()\">here</a>."
      ],
      "text/plain": [
       "<IPython.core.display.HTML object>"
      ]
     },
     "metadata": {},
     "output_type": "display_data"
    },
    {
     "data": {
      "text/html": [
       "<style>\n",
       "div.warn {    \n",
       "    background-color: #b3b3ff;\n",
       "    border-color: #0000b3;\n",
       "    border-left: 5px solid #0000b3;\n",
       "    padding: 0.5em;\n",
       "    }\n",
       " </style>\n"
      ],
      "text/plain": [
       "<IPython.core.display.HTML object>"
      ]
     },
     "execution_count": 1,
     "metadata": {},
     "output_type": "execute_result"
    }
   ],
   "source": [
    "from IPython.display import HTML\n",
    "from IPython.display import display\n",
    "\n",
    "# Taken from https://stackoverflow.com/questions/31517194/how-to-hide-one-specific-cell-input-or-output-in-ipython-notebook\n",
    "tag = HTML('''<script>\n",
    "code_show=true; \n",
    "function code_toggle() {\n",
    "    if (code_show){\n",
    "        $('div.cell.code_cell.rendered.selected div.input').hide();\n",
    "    } else {\n",
    "        $('div.cell.code_cell.rendered.selected div.input').show();\n",
    "    }\n",
    "    code_show = !code_show\n",
    "} \n",
    "$( document ).ready(code_toggle);\n",
    "</script>\n",
    "Some hidden code... to show/hide this cell's raw code input, click (or double click if stubborn!) <a href=\"javascript:code_toggle()\">here</a>.''')\n",
    "display(tag)\n",
    "\n",
    "############### Write code below ##################\n",
    "from IPython.core.display import HTML\n",
    "def css_styling():\n",
    "    styles = open(\"./STUFF/colors.css\", \"r\").read()\n",
    "    return HTML(styles)\n",
    "css_styling()"
   ]
  },
  {
   "cell_type": "markdown",
   "metadata": {},
   "source": [
    "<div class=warn>\n",
    "These blue boxes contain instructions for you to follow, or stuff for you to do\n",
    "<h2>How to access this Jupyter notebook</h2>\n",
    "\n",
    "* <b>Step 1</b>: Open a web browser, go to [this page](https://warwick.ac.uk/fac/sci/chemistry/research/maurer/maurergroup/software/iatl_strategic_project/), scroll down, download the Login App (the Windows exacutable if using ITS machines) and double click on the executable (usually ended up into the Download folder) <br>\n",
    "* <b>Step 2</b>: The Notebook Launcher pops up: select the CH274 module and fill in the boxes using your SCRTP username and password <br>\n",
    "* <b>Step 3</b>: Open the Jupyter notebook you are interested in, e.g. KS_3_Class.ipynb <br>\n",
    "* <b>Step 4</b>: Make a copy of the orginal notebook (which is read only). In the toolbar on top of the notebook: File - Make a Copy <br>\n",
    "* <b>Step 5</b>: You're all set! <br><br>\n",
    "<b> Remember: </b> You can access this notebook at home at any time by going through the same steps on e.g. your laptop - all the changes you have made will be saved and synced! At the moment, though, you'll have to tunnel through the campus network via VPN (see [here](https://warwick.ac.uk/services/its/servicessupport/networkservices/vpn/))<br>\n",
    "<div/>"
   ]
  },
  {
   "cell_type": "markdown",
   "metadata": {},
   "source": [
    "# CH274: Computational Workshop 3\n",
    "## Using a Hückel MO code to study Polyaromatic Hydrocarbons (PAHs)\n",
    "\n",
    "In this workshop, we are going to\n",
    "* see how a Huckel/tight-binding Python code works\n",
    "* apply this code to study the stability and reactivity of three different polyaromatic hydrocarbons, namely:\n",
    "<img src=\"STUFF/3mols.png\">\n",
    "\n",
    "These three molecules are PAH molecules, which are created from incomplete combustion in cars, industrial exhaust, and soot. They are known potent carcinogens. All three have the same number of sp2 hybridised carbon atoms (22) and we can compare them directly with Hückel theory.\n",
    "\n",
    "\n"
   ]
  },
  {
   "cell_type": "markdown",
   "metadata": {},
   "source": [
    "\n",
    "Based on the contents of this workshop, you will be given a homework assignment.\n"
   ]
  },
  {
   "cell_type": "markdown",
   "metadata": {},
   "source": [
    "## Part 1: Setting up the input data\n",
    "\n",
    "We will first set up our input data for the three molecules. The code will require the respective Hückel matrices as input. We can use the connectivity matrix that defines the molecule, which is almost the same as the Hückel matrix. The connectivity matrix tells us which carbon atoms are connected to each other. If atoms are bonded, the matrix element is -1, if they are non-bonded, the matrix element has a 0.\n",
    "\n",
    "The following cell reads the required information for the three molecules from a database of more than 500 PAHs and then prints the connectivity matrices and the Lewis formulas."
   ]
  },
  {
   "cell_type": "code",
   "execution_count": null,
   "metadata": {
    "collapsed": true
   },
   "outputs": [],
   "source": [
    "from rdkit import Chem\n",
    "import rdkit.Chem.Draw\n",
    "from rdkit.Chem import AllChem\n",
    "from IPython.display import SVG, display\n",
    "from PAH_data import select_molecule, matprint, mol_with_atom_index\n",
    "import matplotlib.pyplot as plt\n",
    "\n",
    "#######################\n",
    "names = [\n",
    "    'Indeno[1,2,3-cd]fluoranthene',\n",
    "    'Dibenzo[cd,jk]pyrene',\n",
    "    'Indeno[1,2,3-cd]pyrene',\n",
    "]\n",
    "molecules = []\n",
    "rdkit_objects = []\n",
    "for i in range(3):\n",
    "    mol, mol_object = select_molecule(names[i])\n",
    "    molecules.append(mol)\n",
    "    rdkit_objects.append(mol_object)\n",
    "\n",
    "#########DATA\n",
    "#list of three connnectivity matrices\n",
    "conmats = [(molecules[0])['conmat'], molecules[1]['conmat'], molecules[2]['conmat']]\n",
    "#list of three molecule names\n",
    "names = names\n",
    "#list of three RDKIT molecuel objects\n",
    "molecules = rdkit_objects\n",
    "        \n",
    "#display(SVG(Chem.Draw.MolsToGridImage([molecules[0]], useSVG=True, legends=[leg[0]], subImgSize=(300,300))))\n",
    "display(SVG(Chem.Draw.MolsToGridImage([mol_with_atom_index(molecules[0])], useSVG=True, legends=[names[0]], subImgSize=(300,300))))\n",
    "matprint(conmats[0])\n",
    "\n",
    "display(SVG(Chem.Draw.MolsToGridImage([mol_with_atom_index(molecules[1])], useSVG=True, legends=[names[1]], subImgSize=(300,300))))\n",
    "matprint(conmats[1])\n",
    "\n",
    "display(SVG(Chem.Draw.MolsToGridImage([mol_with_atom_index(molecules[2])], useSVG=True, legends=[names[2]], subImgSize=(300,300))))\n",
    "matprint(conmats[2])\n",
    "#This line generates the picture of the three molecules\n",
    "\n"
   ]
  },
  {
   "cell_type": "markdown",
   "metadata": {},
   "source": [
    "<div class=warn>\n",
    "\n",
    "<b> Task 1: Use the following text cell to make notes and answer following questions:</b><br>\n",
    "\n",
    "<ul>\n",
    "<li> Verify that the connectivity matrices are correct and that they are consistent with the provided atom numbering.</li>\n",
    "<li> Are the three molecules alternant or non-alternant? </li>\n",
    "\n",
    "</ul>\n",
    "\n",
    "</div>"
   ]
  },
  {
   "cell_type": "markdown",
   "metadata": {},
   "source": [
    "#### Answers to Task 1:\n",
    "\n"
   ]
  },
  {
   "cell_type": "markdown",
   "metadata": {},
   "source": [
    "We can consider the connectivity matrices to be Hückel matrices, where we have set\n",
    "$$\\alpha=\\langle \\phi_i|H|\\phi_i\\rangle = 0 $$\n",
    "and \n",
    "$$\\beta=\\langle \\phi_i|H|\\phi_j\\rangle = -1 $$\n",
    "\n",
    "**NOTE**: Because we have set $\\beta=-1$, our energies will be numbers that already reflect the correct energy ordering. Therefore, we do not have to consider the implicit fact that $\\beta<0$ in $2\\beta$ ie. the lower the number, the more stable the energy level. We have to use actual numbers, as we cannot use variables $\\alpha,\\beta$ in a numerical code."
   ]
  },
  {
   "cell_type": "markdown",
   "metadata": {},
   "source": [
    "## Part 2: How to use the Hückel code\n",
    "\n",
    "\n",
    "The code we will use is called ```shmo``` and is documented here:\n",
    "https://github.com/randlet/SHMO\n",
    "\n",
    "Let's learn how to use the code with the example of benzene.\n",
    "We first pull the Hückel matrix of benzene from the database and then initialise the HuckelSolver with it."
   ]
  },
  {
   "cell_type": "markdown",
   "metadata": {},
   "source": [
    "<div class=warn>\n",
    "\n",
    "<b> Task 2:</b> Explore the Hückel SHMO module<br>\n",
    "\n",
    "</div>"
   ]
  },
  {
   "cell_type": "code",
   "execution_count": null,
   "metadata": {
    "collapsed": true
   },
   "outputs": [],
   "source": [
    "import numpy as np\n",
    "import shmo"
   ]
  },
  {
   "cell_type": "code",
   "execution_count": null,
   "metadata": {
    "collapsed": true
   },
   "outputs": [],
   "source": [
    "#select Acenaphthalene\n",
    "mol, rdkit_mol = select_molecule('Acenaphthalene')\n",
    "\n",
    "#get hueckel matrix\n",
    "huckel_matrix = mol['conmat']\n",
    "\n",
    "#draw molecule from rdkit mol object\n",
    "display(SVG(Chem.Draw.MolsToGridImage([rdkit_mol], useSVG=True, legends=['Acenaphthalene'], subImgSize=(200,200))))\n",
    "\n",
    "#print hueckel matrix\n",
    "matprint(huckel_matrix)"
   ]
  },
  {
   "cell_type": "code",
   "execution_count": null,
   "metadata": {
    "collapsed": true
   },
   "outputs": [],
   "source": [
    "#initialise hueckel solver\n",
    "solver = shmo.HuckelSolver(data=huckel_matrix)"
   ]
  },
  {
   "cell_type": "markdown",
   "metadata": {},
   "source": [
    "Now that the Hückel solver is initialised, we can calculate a lot of different properties.\n",
    "If you want to find out about all the different properties you can calculate, try the following:\n",
    "\n",
    "Use the next code cell to type:\n",
    "```\n",
    "solver.\n",
    "```\n",
    "\n",
    "\n",
    "and then press the tab key. This will give you a drop-down list of all possible functions you can access with\n",
    "\n",
    "```\n",
    "solver.<functionname>\n",
    "```\n",
    "\n",
    "As usual, placing a question mark behind the function, will tell you what it does."
   ]
  },
  {
   "cell_type": "code",
   "execution_count": null,
   "metadata": {
    "collapsed": true
   },
   "outputs": [],
   "source": [
    "solver.energies?"
   ]
  },
  {
   "cell_type": "code",
   "execution_count": null,
   "metadata": {
    "collapsed": true
   },
   "outputs": [],
   "source": [
    "#eigenenergies\n",
    "print(solver.energies)\n",
    "\n",
    "#energy level diagram for benzene\n",
    "plt.plot(np.zeros(len(solver.energies)), solver.energies,lw=0.0,marker='_',ms=25,mew=3)\n",
    "plt.xlim(-2,2)\n",
    "plt.ylabel('energies')\n",
    "plt.show()"
   ]
  },
  {
   "cell_type": "code",
   "execution_count": null,
   "metadata": {
    "collapsed": true
   },
   "outputs": [],
   "source": [
    "#eigenvectors\n",
    "eigenvecs = solver.eigen_vectors\n",
    "matprint(np.array(eigenvecs))"
   ]
  },
  {
   "cell_type": "markdown",
   "metadata": {
    "slideshow": {
     "slide_type": "slide"
    }
   },
   "source": [
    "For molecules of this size, there is no way we can visually inspect the coefficients and understand the molecular orbitals. Below, you will find a function that allows you to visualise the orbitals."
   ]
  },
  {
   "cell_type": "code",
   "execution_count": null,
   "metadata": {
    "collapsed": true
   },
   "outputs": [],
   "source": [
    "%matplotlib inline \n",
    "from ipywidgets import interact, interactive, fixed, interact_manual\n",
    "from PAH_data import draw_MO\n",
    "\n",
    "interactive(draw_MO, mol=fixed(rdkit_mol), eigenvecs=fixed(eigenvecs), n=range(len(eigenvecs)))\n"
   ]
  },
  {
   "cell_type": "code",
   "execution_count": null,
   "metadata": {
    "collapsed": true
   },
   "outputs": [],
   "source": [
    "#charge populations\n",
    "print(solver.charge_densities)\n",
    "draw_MO(rdkit_mol, solver.charge_densities)"
   ]
  },
  {
   "cell_type": "code",
   "execution_count": null,
   "metadata": {
    "collapsed": true
   },
   "outputs": [],
   "source": [
    "#net charges (charge populations - atomic charge)\n",
    "print(solver.net_charges)\n",
    "draw_MO(rdkit_mol, solver.net_charges)"
   ]
  },
  {
   "cell_type": "code",
   "execution_count": null,
   "metadata": {
    "collapsed": true
   },
   "outputs": [],
   "source": [
    "#atomic self-polarisabilities\n",
    "self_polarisabilities = np.diag(solver.aa_polar)\n",
    "print(self_polarisabilities)\n",
    "draw_MO(rdkit_mol, self_polarisabilities)"
   ]
  },
  {
   "cell_type": "markdown",
   "metadata": {},
   "source": [
    "We can also calculate the **total energy** and the **bond order**:"
   ]
  },
  {
   "cell_type": "code",
   "execution_count": null,
   "metadata": {
    "collapsed": true
   },
   "outputs": [],
   "source": [
    "#total energy\n",
    "def calculate_total_energy(solver):\n",
    "    \"\"\"\n",
    "    This function calculates the total energy\n",
    "    \"\"\"\n",
    "    total_energy = 0.0\n",
    "    for state in solver.populated_levels:\n",
    "        total_energy += state[0]*state[2]\n",
    "    return total_energy\n",
    "\n",
    "#neutral molecule energy\n",
    "print('neutral molecule')\n",
    "solver.set_num_electrons(12)\n",
    "print(calculate_total_energy(solver))\n",
    "\n",
    "n = calculate_total_energy(solver)\n",
    "\n",
    "#make cation\n",
    "print('cation')\n",
    "solver.set_num_electrons(solver.num_electrons-1)\n",
    "print(calculate_total_energy(solver))\n",
    "\n",
    "c = calculate_total_energy(solver)\n",
    "\n",
    "#make anion\n",
    "print('anion')\n",
    "solver.set_num_electrons(solver.num_electrons+2)\n",
    "print(calculate_total_energy(solver))\n",
    "\n",
    "solver.set_num_electrons(12)"
   ]
  },
  {
   "cell_type": "code",
   "execution_count": null,
   "metadata": {
    "collapsed": true
   },
   "outputs": [],
   "source": [
    "def print_bond_orders(mat, solver):\n",
    "    \"\"\"\n",
    "    print bond orders to screen\n",
    "    \"\"\"\n",
    "\n",
    "    bond_orders=np.multiply(-mat,solver.bond_orders)\n",
    "\n",
    "    print('atom i    atom j    bond order')\n",
    "    atom_pairs = []\n",
    "    borders = []\n",
    "    for pair in solver.bond_pairs():\n",
    "        i, j = pair\n",
    "        print(\"  {0:3d}      {1:3d}      {2:8.3f}\".format(i+1, j+1, bond_orders[i,j]))\n",
    "        atom_pairs.append([i+1,j+1])\n",
    "        borders.append(bond_orders[i,j])\n",
    "\n",
    "    return atom_pairs, borders\n",
    "        \n",
    "atom_pairs, bond_orders = print_bond_orders(huckel_matrix, solver)"
   ]
  },
  {
   "cell_type": "markdown",
   "metadata": {},
   "source": [
    "<div class=warn>\n",
    "\n",
    "<b> Task 3</b><br>\n",
    "\n",
    "<ul>\n",
    "<li> Write a function that calculates the bond number based on the bond orders</li>\n",
    "\n",
    "</ul>\n",
    "\n",
    "</div>\n",
    "\n"
   ]
  },
  {
   "cell_type": "code",
   "execution_count": null,
   "metadata": {
    "collapsed": true
   },
   "outputs": [],
   "source": [
    "def calculate_bond_number(n_atoms, atom_pairs, bond_orders):\n",
    "    \"\"\"\n",
    "    ...\n",
    "    \"\"\"\n",
    "    \n",
    "    #<insert code to calculate bond_number for each atom\n",
    "    \n",
    "    #return bond_number\n",
    "    \n",
    "    \n",
    "#plot bond number \n",
    "#draw_MO(rdkit_mol, bond_number)"
   ]
  },
  {
   "cell_type": "markdown",
   "metadata": {},
   "source": [
    "## Part 3: Hückel calculation and analysis of the three molecules"
   ]
  },
  {
   "cell_type": "markdown",
   "metadata": {
    "collapsed": true
   },
   "source": [
    "<div class=warn>\n",
    "\n",
    "<b> Task 4</b><br>\n",
    "\n",
    "<ol>\n",
    "<li> Calculate the total energies of Indeno[1,2,3-cd]fluoranthene, Dibenzo[cd,jk]pyrene, Indeno[1,2,3-cd]pyrene. Which molecule is more stable? </li>\n",
    "<li> Calculate the cations and anions of the three molecules. Which cation and which anion is more stable? Use the energy levels and wave functions to explain the stability trend.</li>\n",
    "<li> For the three molecules, find out which carbon atom is most easily attacked by (A) a nucleophililic reaction agent and (B) an electrophilic reaction agent.</li>\n",
    "\n",
    "</ol>\n",
    "\n",
    "</div>"
   ]
  },
  {
   "cell_type": "code",
   "execution_count": null,
   "metadata": {
    "collapsed": true
   },
   "outputs": [],
   "source": []
  },
  {
   "cell_type": "code",
   "execution_count": null,
   "metadata": {
    "collapsed": true
   },
   "outputs": [],
   "source": []
  },
  {
   "cell_type": "code",
   "execution_count": null,
   "metadata": {
    "collapsed": true
   },
   "outputs": [],
   "source": []
  },
  {
   "cell_type": "code",
   "execution_count": null,
   "metadata": {
    "collapsed": true
   },
   "outputs": [],
   "source": []
  },
  {
   "cell_type": "code",
   "execution_count": null,
   "metadata": {
    "collapsed": true
   },
   "outputs": [],
   "source": []
  },
  {
   "cell_type": "code",
   "execution_count": null,
   "metadata": {
    "collapsed": true
   },
   "outputs": [],
   "source": []
  }
 ],
 "metadata": {
  "kernelspec": {
   "display_name": "Python 3",
   "language": "python",
   "name": "python3"
  },
  "language_info": {
   "codemirror_mode": {
    "name": "ipython",
    "version": 3
   },
   "file_extension": ".py",
   "mimetype": "text/x-python",
   "name": "python",
   "nbconvert_exporter": "python",
   "pygments_lexer": "ipython3",
   "version": "3.6.3"
  }
 },
 "nbformat": 4,
 "nbformat_minor": 2
}
