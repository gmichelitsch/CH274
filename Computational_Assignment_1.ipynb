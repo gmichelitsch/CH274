{
 "cells": [
  {
   "cell_type": "markdown",
   "metadata": {},
   "source": [
    "# CH274: Computational Assignment No. 1: \n",
    "## Stability and Reactivity of polyaromatic hydrocarbons (PAHs)"
   ]
  },
  {
   "cell_type": "markdown",
   "metadata": {},
   "source": [
    "\n",
    "In this assignment, we are looking at 20 different PAH molecules.\n",
    "\n",
    "You are asked to do the following:\n",
    "* **TASK 1** Calculate the total energies of all molecules, plot the energies against the molecule names or ordered molecule numbers, and identify the most stable and least stable molecule.\n",
    "\n",
    "* **TASK 2** Calculate the electron affinity of all molecules as \n",
    "$$ E_a = E(\\text{anion}) - E(\\text{neutral})$$ \n",
    "and plot $E_a$ against the molecule names or molecule numbers, and identify the molecules with the highest and the lowest $E_a$.\n",
    "\n",
    "* **TASK 3** Calculate the ionisation potential of all molecules as \n",
    "$$ IP = E(\\text{cation}) - E(\\text{neutral})$$ \n",
    "and plot $IP$ against the molecule names or molecule numbers, and identify the molecules with the highest and the lowest $IP$.\n",
    "\n",
    "* **TASK 4** Calculate the electronegativity of all molecules as \n",
    "$$ EN = (E_a + IP)/2$$ \n",
    "and plot $EN$ against the molecule names or molecule numbers, and identify the molecules with the highest and the lowest $EN$. Explain how your findings relate to the total energy?\n",
    "\n",
    "* **TASK 5** For each molecule, identify the atom with the most negative (q_minus) and the most positive (q_plus) net partial charge. Plot q_minus against $IP$ and q_plus against $E_a$ of the 20 molecules. Is there a trend? If so, why?\n",
    "\n",
    "* **TASK 6** For each molecule, calculate the average bond number. Plot the average bond number against the total energies of the 20 molecules. Do you see a trend? What does this mean? Which molecule contains the atom with the lowest bond number?\n",
    "\n",
    "* **TASK 7** Which molecule is most likely to be attacked by an electrophile? Which atom in this molecule is most likely to be attacked?\n",
    "\n",
    "* **TASK 8** Which molecule is most likely to be attacked by a nucleophile? Which atom in this molecule is most likely to be attacked?\n",
    "\n",
    "* **TASK 9** Which molecule is most likely to be attacked by a radical? Which atom in this molecule is most likely to be attacked?\n",
    "\n",
    "\n",
    "**SUBMISSION** \n",
    "Each of the tasks is repeated below and it is clearly marked in which cells you should enter code and in which cells you should enter comments. At the end, you should submit a notebook that:\n",
    "* is complete\n",
    "* has functioning code, which can be executed from beginning to end\n",
    "* x and y axes of the plots should be labeled\n",
    "* when executed, the notebook generates all the requested data, plots, etc.\n",
    "* the notebook should make good use of structured code (for-loops, if-statements, etc.)\n"
   ]
  },
  {
   "cell_type": "code",
   "execution_count": null,
   "metadata": {
    "collapsed": true
   },
   "outputs": [],
   "source": [
    "from rdkit import Chem\n",
    "import rdkit.Chem.Draw\n",
    "from rdkit.Chem import AllChem\n",
    "from IPython.display import SVG, display\n",
    "from PAH_data import generate_dataset, matprint, mol_with_atom_index, draw_MO\n",
    "import matplotlib.pyplot as plt\n",
    "import numpy as np\n",
    "import scipy as sp\n",
    "import shmo"
   ]
  },
  {
   "cell_type": "markdown",
   "metadata": {},
   "source": [
    "**ATTENTION** The following cell will generate your dataset of molecules. You have to insert your student id number. On the basis of this, the function will generate a personalised set of 20 molecules with 24 sp2-hybridised carbon atoms each."
   ]
  },
  {
   "cell_type": "code",
   "execution_count": null,
   "metadata": {
    "collapsed": true
   },
   "outputs": [],
   "source": [
    "###PLEASE INSERT YOUR STUDENT ID (only numbers here)\n",
    "my_student_id = <INSERT ID HERE>\n",
    "\n",
    "molecule_data, mols, legend = generate_dataset(myid=my_student_id, n_molecules=20, n_carbon_atoms=24)\n",
    "\n",
    "#Visualises the molecules\n",
    "display(SVG(Chem.Draw.MolsToGridImage(mols, useSVG=True, legends=legend, subImgSize=(300,300))))"
   ]
  },
  {
   "cell_type": "code",
   "execution_count": null,
   "metadata": {
    "collapsed": true
   },
   "outputs": [],
   "source": [
    "####legend is a list of molecule names\n",
    "molecule_names = legend\n",
    "####mols is a list of rdkit_molecule objects for visualisation purposes\n",
    "#You can access them individually with\n",
    "draw_MO(mols[0])\n",
    "#with indices\n",
    "#draw_MO(mol_with_atom_index(mols[0]))\n",
    "\n",
    "####lets collect all connectivity matrices\n",
    "connectivity_matrices = []\n",
    "for m in molecule_data:\n",
    "    connectivity_matrices.append(m['conmat'])\n",
    "    \n",
    "matprint(connectivity_matrices[0])"
   ]
  },
  {
   "cell_type": "markdown",
   "metadata": {
    "collapsed": true
   },
   "source": [
    "### Task 1: \n",
    "Calculate the total energies of all molecules, plot the energies against the molecule names or ordered numbers, and identify the most stable and least stable molecule. (Note: Use code to identify highest and lowest molecules, don't do it manually)\n"
   ]
  },
  {
   "cell_type": "code",
   "execution_count": null,
   "metadata": {
    "collapsed": true
   },
   "outputs": [],
   "source": [
    "#INSERT CODE HERE"
   ]
  },
  {
   "cell_type": "code",
   "execution_count": null,
   "metadata": {
    "collapsed": true
   },
   "outputs": [],
   "source": [
    "#INSERT CODE HERE"
   ]
  },
  {
   "cell_type": "code",
   "execution_count": null,
   "metadata": {
    "collapsed": true
   },
   "outputs": [],
   "source": [
    "#INSERT CODE HERE"
   ]
  },
  {
   "cell_type": "code",
   "execution_count": null,
   "metadata": {
    "collapsed": true
   },
   "outputs": [],
   "source": [
    "#INSERT CODE HERE"
   ]
  },
  {
   "cell_type": "markdown",
   "metadata": {},
   "source": [
    "### Task 2:\n",
    "Calculate the electron affinity of all molecules as \n",
    "$$ E_a = E(\\text{anion}) - E(\\text{neutral})$$ \n",
    "and plot $E_a$ against the molecule names or molecule numbers, and identify the molecules with the highest and the lowest $E_a$."
   ]
  },
  {
   "cell_type": "code",
   "execution_count": null,
   "metadata": {
    "collapsed": true
   },
   "outputs": [],
   "source": [
    "#INSERT CODE HERE"
   ]
  },
  {
   "cell_type": "code",
   "execution_count": null,
   "metadata": {
    "collapsed": true
   },
   "outputs": [],
   "source": [
    "#INSERT CODE HERE"
   ]
  },
  {
   "cell_type": "code",
   "execution_count": null,
   "metadata": {
    "collapsed": true
   },
   "outputs": [],
   "source": [
    "#INSERT CODE HERE"
   ]
  },
  {
   "cell_type": "markdown",
   "metadata": {},
   "source": [
    "### Task 3:\n",
    "Calculate the ionisation potential of all molecules as \n",
    "$$ IP = E(\\text{cation}) - E(\\text{neutral})$$ \n",
    "and plot $IP$ against the molecule names or molecule numbers, and identify the molecules with the highest and the lowest $IP$.\n"
   ]
  },
  {
   "cell_type": "code",
   "execution_count": null,
   "metadata": {
    "collapsed": true
   },
   "outputs": [],
   "source": [
    "#INSERT CODE HERE"
   ]
  },
  {
   "cell_type": "code",
   "execution_count": null,
   "metadata": {
    "collapsed": true
   },
   "outputs": [],
   "source": [
    "#INSERT CODE HERE"
   ]
  },
  {
   "cell_type": "code",
   "execution_count": null,
   "metadata": {
    "collapsed": true
   },
   "outputs": [],
   "source": [
    "#INSERT CODE HERE"
   ]
  },
  {
   "cell_type": "markdown",
   "metadata": {},
   "source": [
    "### Task 4:\n",
    "Calculate the electronegativity of all molecules as \n",
    "$$ EN = (E_a + IP)/2$$ \n",
    "and plot $EN$ against the molecule names or molecule numbers, and identify the molecules with the highest and the lowest $EN$. Explain how your findings relate to the total energy?"
   ]
  },
  {
   "cell_type": "code",
   "execution_count": null,
   "metadata": {
    "collapsed": true
   },
   "outputs": [],
   "source": [
    "#INSERT CODE HERE"
   ]
  },
  {
   "cell_type": "code",
   "execution_count": null,
   "metadata": {
    "collapsed": true
   },
   "outputs": [],
   "source": [
    "#INSERT CODE HERE"
   ]
  },
  {
   "cell_type": "markdown",
   "metadata": {},
   "source": [
    "**YOUR ANSWER HERE** \n",
    "\n"
   ]
  },
  {
   "cell_type": "markdown",
   "metadata": {},
   "source": [
    "### Task 5\n",
    "For each molecule, identify the atom with the most negative (q_minus) and the most positive (q_plus) net partial charge. \n",
    "Visualise the molecules with the partial charges drawn at the sites of the atoms.\n",
    "Plot q_minus and q_plus against $IE$ and against $E_a$ of the 20 molecules. Is there a correlation of q_minus and q_plus with $IE$ or $E_a$? If so, can you explain why?\n",
    "\n"
   ]
  },
  {
   "cell_type": "code",
   "execution_count": null,
   "metadata": {
    "collapsed": true
   },
   "outputs": [],
   "source": [
    "#INSERT CODE HERE"
   ]
  },
  {
   "cell_type": "code",
   "execution_count": null,
   "metadata": {
    "collapsed": true,
    "slideshow": {
     "slide_type": "slide"
    }
   },
   "outputs": [],
   "source": [
    "#INSERT CODE HERE"
   ]
  },
  {
   "cell_type": "markdown",
   "metadata": {},
   "source": [
    "**YOUR ANSWER HERE** \n",
    "\n",
    "\n"
   ]
  },
  {
   "cell_type": "markdown",
   "metadata": {},
   "source": [
    "### Task 6\n",
    "For each molecule, calculate the average bond number. Plot the average bond number against the total energies of the 20 molecules. Do you see a trend? What does this mean? Which molecule contains the atom with the lowest bond number?\n",
    "\n"
   ]
  },
  {
   "cell_type": "code",
   "execution_count": null,
   "metadata": {
    "collapsed": true
   },
   "outputs": [],
   "source": [
    "#INSERT CODE HERE"
   ]
  },
  {
   "cell_type": "code",
   "execution_count": null,
   "metadata": {
    "collapsed": true,
    "scrolled": true
   },
   "outputs": [],
   "source": [
    "#INSERT CODE HERE"
   ]
  },
  {
   "cell_type": "markdown",
   "metadata": {},
   "source": [
    "**YOUR ANSWER HERE** \n",
    "\n"
   ]
  },
  {
   "cell_type": "markdown",
   "metadata": {},
   "source": [
    "### Task 7\n",
    "Which molecule is most likely to be attacked by an electrophile? Which atom in this molecule is most likely to be attacked?\n",
    "\n"
   ]
  },
  {
   "cell_type": "code",
   "execution_count": null,
   "metadata": {
    "collapsed": true
   },
   "outputs": [],
   "source": [
    "#INSERT CODE HERE\n"
   ]
  },
  {
   "cell_type": "markdown",
   "metadata": {},
   "source": [
    "**YOUR ANSWER HERE** \n",
    "\n"
   ]
  },
  {
   "cell_type": "markdown",
   "metadata": {},
   "source": [
    "### Task 8\n",
    "Which molecule is most likely to be attacked by a nucleophile? Which atom in this molecule is most likely to be attacked?\n",
    "\n"
   ]
  },
  {
   "cell_type": "code",
   "execution_count": null,
   "metadata": {
    "collapsed": true
   },
   "outputs": [],
   "source": [
    "#INSERT CODE HERE"
   ]
  },
  {
   "cell_type": "markdown",
   "metadata": {},
   "source": [
    "**YOUR ANSWER HERE** \n",
    "\n"
   ]
  },
  {
   "cell_type": "markdown",
   "metadata": {},
   "source": [
    "### Task 9\n",
    "Which molecule is most likely to be attacked by a radical? Which atom in this molecule is most likely to be attacked?"
   ]
  },
  {
   "cell_type": "code",
   "execution_count": null,
   "metadata": {
    "collapsed": true
   },
   "outputs": [],
   "source": [
    "#INSERT CODE HERE"
   ]
  },
  {
   "cell_type": "code",
   "execution_count": null,
   "metadata": {
    "collapsed": true,
    "scrolled": true
   },
   "outputs": [],
   "source": [
    "#INSERT CODE HERE"
   ]
  },
  {
   "cell_type": "markdown",
   "metadata": {},
   "source": [
    "**YOUR ANSWER HERE** \n",
    "\n"
   ]
  }
 ],
 "metadata": {
  "kernelspec": {
   "display_name": "Python 3",
   "language": "python",
   "name": "python3"
  },
  "language_info": {
   "codemirror_mode": {
    "name": "ipython",
    "version": 3
   },
   "file_extension": ".py",
   "mimetype": "text/x-python",
   "name": "python",
   "nbconvert_exporter": "python",
   "pygments_lexer": "ipython3",
   "version": "3.6.3"
  }
 },
 "nbformat": 4,
 "nbformat_minor": 2
}
