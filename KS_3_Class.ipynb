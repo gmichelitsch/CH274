{
 "cells": [
  {
   "cell_type": "code",
   "execution_count": 1,
   "metadata": {},
   "outputs": [
    {
     "data": {
      "text/html": [
       "<script>\n",
       "code_show=true; \n",
       "function code_toggle() {\n",
       "    if (code_show){\n",
       "        $('div.cell.code_cell.rendered.selected div.input').hide();\n",
       "    } else {\n",
       "        $('div.cell.code_cell.rendered.selected div.input').show();\n",
       "    }\n",
       "    code_show = !code_show\n",
       "} \n",
       "$( document ).ready(code_toggle);\n",
       "</script>\n",
       "Some hidden code... to show/hide this cell's raw code input, click (or double click if stubborn!) <a href=\"javascript:code_toggle()\">here</a>."
      ],
      "text/plain": [
       "<IPython.core.display.HTML object>"
      ]
     },
     "metadata": {},
     "output_type": "display_data"
    },
    {
     "data": {
      "text/html": [
       "<style>\n",
       "div.warn {    \n",
       "    background-color: #b3b3ff;\n",
       "    border-color: #0000b3;\n",
       "    border-left: 5px solid #0000b3;\n",
       "    padding: 0.5em;\n",
       "    }\n",
       " </style>\n"
      ],
      "text/plain": [
       "<IPython.core.display.HTML object>"
      ]
     },
     "execution_count": 1,
     "metadata": {},
     "output_type": "execute_result"
    }
   ],
   "source": [
    "from IPython.display import HTML\n",
    "from IPython.display import display\n",
    "\n",
    "# Taken from https://stackoverflow.com/questions/31517194/how-to-hide-one-specific-cell-input-or-output-in-ipython-notebook\n",
    "tag = HTML('''<script>\n",
    "code_show=true; \n",
    "function code_toggle() {\n",
    "    if (code_show){\n",
    "        $('div.cell.code_cell.rendered.selected div.input').hide();\n",
    "    } else {\n",
    "        $('div.cell.code_cell.rendered.selected div.input').show();\n",
    "    }\n",
    "    code_show = !code_show\n",
    "} \n",
    "$( document ).ready(code_toggle);\n",
    "</script>\n",
    "Some hidden code... to show/hide this cell's raw code input, click (or double click if stubborn!) <a href=\"javascript:code_toggle()\">here</a>.''')\n",
    "display(tag)\n",
    "\n",
    "############### Write code below ##################\n",
    "from IPython.core.display import HTML\n",
    "def css_styling():\n",
    "    styles = open(\"./STUFF/colors.css\", \"r\").read()\n",
    "    return HTML(styles)\n",
    "css_styling()"
   ]
  },
  {
   "cell_type": "code",
   "execution_count": null,
   "metadata": {
    "collapsed": true
   },
   "outputs": [],
   "source": []
  },
  {
   "cell_type": "markdown",
   "metadata": {},
   "source": [
    "<div class=warn>\n",
    "These blue boxes contain instructions for you to follow, or stuff for you to do\n",
    "<h2>How to access this Jupyter notebook</h2>\n",
    "\n",
    "* <b>Step 1</b>: Open a web browser, go to [this page](https://warwick.ac.uk/fac/sci/chemistry/research/maurer/maurergroup/software/iatl_strategic_project/), scroll down, download the Login App (the Windows exacutable if using ITS machines) and double click on the executable (usually ended up into the Download folder) <br>\n",
    "* <b>Step 2</b>: The Notebook Launcher pops up: select the CH274 module and fill in the boxes using your SCRTP username and password <br>\n",
    "* <b>Step 3</b>: Open the Jupyter notebook you are interested in, e.g. KS_3_Class.ipynb <br>\n",
    "* <b>Step 4</b>: Make a copy of the orginal notebook (which is read only). In the toolbar on top of the notebook: File - Make a Copy <br>\n",
    "* <b>Step 5</b>: You're all set! <br><br>\n",
    "<b> Remember: </b> You can access this notebook at home at any time by going through the same steps on e.g. your laptop - all the changes you have made will be saved and synced!<br>\n",
    "<div/>"
   ]
  },
  {
   "cell_type": "markdown",
   "metadata": {},
   "source": [
    "# CH274: Key Skills 3\n",
    "## Functions, Code Design, and Linear Algebra\n",
    "\n",
    "In this session, we are going to look at some advanced features of the Python programming language, such as:\n",
    "* How to write functions\n",
    "* Methods to design a program with reusable code structures (aka functions)\n",
    "* How to perform linear algebra operations with the numpy and scipy libraries\n",
    "* How to not reinvent the wheel (using existing functions and libraries)\n",
    "\n",
    "We will do this by writing a code that will solve a quantum mechanical problem: the particle in a box."
   ]
  },
  {
   "cell_type": "markdown",
   "metadata": {},
   "source": [
    "## Quick Recap from Key Skills 1 and Key Skills 2 (CH273)\n",
    "\n",
    "\n",
    "* you've learned about the basics of Python, variables, strings, printing\n",
    "\n",
    "\n"
   ]
  },
  {
   "cell_type": "code",
   "execution_count": 2,
   "metadata": {},
   "outputs": [
    {
     "name": "stdout",
     "output_type": "stream",
     "text": [
      "float     integer    string     complex number\n",
      "(3.0, ' | ', 3, ' | ', '12', ' | ', (1+2j))\n"
     ]
    }
   ],
   "source": [
    "a = 1.0 + 2.0\n",
    "b = 1 + 2\n",
    "c = '1' + '2'\n",
    "d = 1.0 + 2.0j # this is a complex number with a real part (1.0) and an imaginary part (2.0j)\n",
    "print('float     integer    string     complex number')\n",
    "print(a, ' | ', b,' | ', c,' | ', d)"
   ]
  },
  {
   "cell_type": "markdown",
   "metadata": {},
   "source": [
    "* you've learned how to use numpy to define arrays and lists of numbers and to read in files\n",
    "\n"
   ]
  },
  {
   "cell_type": "code",
   "execution_count": 3,
   "metadata": {},
   "outputs": [
    {
     "name": "stdout",
     "output_type": "stream",
     "text": [
      "('This is an array', array([ 1,  2,  3,  4,  5,  6,  7,  8,  9, 10]))\n",
      "array enable element-wise multiplications\n",
      "x                                     x*x\n",
      "(array([ 1,  2,  3,  4,  5,  6,  7,  8,  9, 10]), array([  1,   4,   9,  16,  25,  36,  49,  64,  81, 100]))\n",
      "[[   1.    1.]\n",
      " [   2.    4.]\n",
      " [   3.    9.]\n",
      " [   4.   16.]\n",
      " [   5.   25.]\n",
      " [   6.   36.]\n",
      " [   7.   49.]\n",
      " [   8.   64.]\n",
      " [   9.   81.]\n",
      " [  10.  100.]]\n",
      "('Columns and Rows: ', (10L, 2L))\n",
      "Carving out columns:\n",
      "(array([  1.,   2.,   3.,   4.,   5.,   6.,   7.,   8.,   9.,  10.]), array([   1.,    4.,    9.,   16.,   25.,   36.,   49.,   64.,   81.,  100.]))\n",
      "Carving out rows\n",
      "(array([ 1.,  1.]), array([ 2.,  4.]))\n"
     ]
    }
   ],
   "source": [
    "import numpy as np\n",
    "x = np.array([1,2,3,4,5,6,7,8,9,10])\n",
    "print('This is an array',x)\n",
    "y = x*x # multiplies each value in x with itself and generates a new array\n",
    "print('array enable element-wise multiplications')\n",
    "print('x                                     x*x')\n",
    "print(x, y)\n",
    "data = np.loadtxt('STUFF/test.txt')\n",
    "print(data) #2-dimensional array with 10 rows and 2 columns \n",
    "print('Columns and Rows: ', data.shape)\n",
    "print('Carving out columns:')\n",
    "print(data[:,0],data[:,1])\n",
    "print('Carving out rows')\n",
    "print(data[0,:],data[1,:])"
   ]
  },
  {
   "cell_type": "markdown",
   "metadata": {},
   "source": [
    "* you've learned how to iterate through arrays and lists with for-loops\n",
    "\n"
   ]
  },
  {
   "cell_type": "code",
   "execution_count": 4,
   "metadata": {},
   "outputs": [
    {
     "name": "stdout",
     "output_type": "stream",
     "text": [
      "[  1   4   9  16  25  36  49  64  81 100]\n",
      "[  1   4   9  16  25  36  49  64  81 100]\n"
     ]
    }
   ],
   "source": [
    "index = 0\n",
    "for x_val in x:\n",
    "    y[index] = x_val*x_val\n",
    "    index = index + 1\n",
    "print(y)\n",
    "    \n",
    "#this can also be written in one line\n",
    "y = np.array( [x_val*x_val for x_val in x] )\n",
    "print(y)"
   ]
  },
  {
   "cell_type": "markdown",
   "metadata": {},
   "source": [
    "* you've learned how to do basic plotting"
   ]
  },
  {
   "cell_type": "code",
   "execution_count": 6,
   "metadata": {},
   "outputs": [
    {
     "data": {
      "image/png": "[encoded data removed]",
      "text/plain": [
       "<matplotlib.figure.Figure at 0x84e32e8>"
      ]
     },
     "metadata": {},
     "output_type": "display_data"
    }
   ],
   "source": [
    "%matplotlib notebook \n",
    "%matplotlib inline \n",
    "import matplotlib.pyplot as plt\n",
    "\n",
    "plt.plot(x,y)\n",
    "plt.show()"
   ]
  },
  {
   "cell_type": "markdown",
   "metadata": {},
   "source": [
    "***"
   ]
  },
  {
   "cell_type": "markdown",
   "metadata": {},
   "source": [
    "# The particle in a box in 1D (pib1d)\n",
    "Here's a quick reminder of the particle in a box \n",
    "\n",
    "\n",
    "<div class=\"col-md-12\">\n",
    "                    </div>\n",
    "                    <div class=\"col-md-12\">\n",
    "                    <div class=\"col-md-4\">\n",
    "                        <img src=\"STUFF/tik1d.png\" alt=\"Motivation\">\n",
    "                    </div>\n",
    "                    <div class=\"col-md-8\">\n",
    "                        <p>  Schrödinger equation (SE): $\\hat{H}\\psi = E\\psi $</p>\n",
    "                        <p class=\"\">  \n",
    "                        SE: action of energy operator $\\hat{H}$ defines the energy and wave function $\\psi$  </p>\n",
    "                        <p class=\"\"> $$ \\hat{H} = -\\frac{\\hbar^2}{2m}\\frac{d^2}{dx^2} +V  $$</p>\n",
    "                        <p class=\" margin-top-10\"> boundary conditions: $ \\psi(0) = 0 \\quad\\text{and}\\quad \\psi(L) = 0 $</p>\n",
    "                    </div>\n",
    "                    </div>\n",
    "                    <div class=\"col-md-6\">\n",
    "                        <p> **wave functions**</p> \n",
    "                        <p> $$ \\psi_n(x) = \\sqrt{\\frac{2}{L}}\\sin{\\frac{n\\pi}{L}}  $$  </p>\n",
    "                    </div>\n",
    "                    <div class=\"col-md-6\">\n",
    "                        <p> **energies** </p>\n",
    "                        <p> $$ E_n = \\frac{\\hbar^2\\pi^2}{2m}\\frac{n^2}{L^2}  $$  </p>\n",
    "                    </div>"
   ]
  },
  {
   "cell_type": "markdown",
   "metadata": {
    "collapsed": true
   },
   "source": [
    "Our approach to **design a code** to calculate the wave functions and the energies shall be as follows:\n",
    "\n",
    "(1) First we have to think carefully about what different building blocks we need. Each of these elements or building blocks could potentially be designed to be an independent piece of code that can be called as often as we want (This is what we call a **function**.) Functions allow us to package and reuse code without having to modify it. Look at the cells in the Recap section to see examples of non-reusable code (sometimes called 'spagetti' code) \n",
    "\n",
    "In the example of the pib1d, we need following building blocks\n",
    "* a function that sets up the box along the $x$ axis (let's call this function ```make_xgrid```)\n",
    "* a function that defines the potential and imposes the boundary condition (let's call this function ```potential```)\n",
    "* a function that sets up the Hamiltonian (let's call this ```create_H```)\n",
    "* a function that diagonalises the SE: $\\hat{H}\\psi = E\\psi $ to give us $E$ and $\\psi$ (```diagonalise_H```)\n",
    "* a function that plots $E(x)$ and $\\psi(x)$ (```generate_plots```)\n",
    "\n",
    "\n",
    "\n",
    "(2) Then we need to write and test these 5 functions. **Testing** is essential as it enables us to know which parts of the code operate as intended. Tests that assess the validity of individual functions are oftne called **unit tests**.\n",
    "\n",
    "(3) At the end, when we know that all functions do what they are supposed to do, we write code (can be spagetti code or a function) that executes the functions in the right order. This is typically called the ```main``` or ```program```.\n",
    "\n"
   ]
  },
  {
   "cell_type": "markdown",
   "metadata": {
    "collapsed": true
   },
   "source": [
    "## How do Python functions work?\n",
    "\n",
    "A function has a definition followed by parantheses, which contain the function arguments. Functions typically also have a return value. See following example:"
   ]
  },
  {
   "cell_type": "code",
   "execution_count": 7,
   "metadata": {
    "collapsed": true
   },
   "outputs": [],
   "source": [
    "#Let's import some important packages before we start.\n",
    "import numpy\n",
    "#it's nice to abbreviate packages we use a lot, so\n",
    "import numpy as np\n",
    "import matplotlib.pyplot as plt\n",
    "import scipy as sp"
   ]
  },
  {
   "cell_type": "code",
   "execution_count": 9,
   "metadata": {
    "collapsed": true
   },
   "outputs": [],
   "source": [
    "def make_xgrid(start, stop, N):\n",
    "    #note the intendation\n",
    "    \"\"\"\n",
    "    This is the help description of the function. \n",
    "    It serves to explain what the function does and what its arguments should be and its return value.\n",
    "    \n",
    "    This function has three arguments:\n",
    "    \n",
    "    start is a real number which specifies the left boundary of the x axis grid\n",
    "    stop is a real number which specifies the right boundary of the x axis grid\n",
    "    N is an integer number which specifies the number of grid points we need for our x axis between 0 and L\n",
    "    \n",
    "    The return value of the function is a numpy array, which contains the x axis values.\n",
    "    \n",
    "    \"\"\"\n",
    "    \n",
    "    #The numpy function linspace allows us to generate a numpy array which contains N values from 0 to L\n",
    "    #This array constitutes our x axis\n",
    "    x = np.linspace(start,stop,N)\n",
    "    \n",
    "    #now we simply return the x axis. The return statement ends the function\n",
    "    return x\n",
    "    "
   ]
  },
  {
   "cell_type": "markdown",
   "metadata": {
    "collapsed": true
   },
   "source": [
    "<div class=warn>\n",
    "\n",
    "<p>**Task 1** The help string can be accessed by placing a question mark behind the function ```func?```. **Give it a try!** </p>\n",
    "\n",
    "<p>**Task 2** Let's call the function by issuing ```x = make_xgrid(start, stop, N)```. We want the box to go from 0 to 5, so the grid should have some space to the left and right. Generate an x grid from -1 to 6 with N=200 grid points and print it to screen. </p>\n",
    "</div>"
   ]
  },
  {
   "cell_type": "code",
   "execution_count": 17,
   "metadata": {
    "collapsed": true
   },
   "outputs": [],
   "source": [
    "#TASK 1 <insert code here>\n"
   ]
  },
  {
   "cell_type": "code",
   "execution_count": 18,
   "metadata": {},
   "outputs": [
    {
     "name": "stdout",
     "output_type": "stream",
     "text": [
      "[-1.         -0.96482412 -0.92964824 -0.89447236 -0.85929648 -0.8241206\n",
      " -0.78894472 -0.75376884 -0.71859296 -0.68341709 -0.64824121 -0.61306533\n",
      " -0.57788945 -0.54271357 -0.50753769 -0.47236181 -0.43718593 -0.40201005\n",
      " -0.36683417 -0.33165829 -0.29648241 -0.26130653 -0.22613065 -0.19095477\n",
      " -0.15577889 -0.12060302 -0.08542714 -0.05025126 -0.01507538  0.0201005\n",
      "  0.05527638  0.09045226  0.12562814  0.16080402  0.1959799   0.23115578\n",
      "  0.26633166  0.30150754  0.33668342  0.3718593   0.40703518  0.44221106\n",
      "  0.47738693  0.51256281  0.54773869  0.58291457  0.61809045  0.65326633\n",
      "  0.68844221  0.72361809  0.75879397  0.79396985  0.82914573  0.86432161\n",
      "  0.89949749  0.93467337  0.96984925  1.00502513  1.04020101  1.07537688\n",
      "  1.11055276  1.14572864  1.18090452  1.2160804   1.25125628  1.28643216\n",
      "  1.32160804  1.35678392  1.3919598   1.42713568  1.46231156  1.49748744\n",
      "  1.53266332  1.5678392   1.60301508  1.63819095  1.67336683  1.70854271\n",
      "  1.74371859  1.77889447  1.81407035  1.84924623  1.88442211  1.91959799\n",
      "  1.95477387  1.98994975  2.02512563  2.06030151  2.09547739  2.13065327\n",
      "  2.16582915  2.20100503  2.2361809   2.27135678  2.30653266  2.34170854\n",
      "  2.37688442  2.4120603   2.44723618  2.48241206  2.51758794  2.55276382\n",
      "  2.5879397   2.62311558  2.65829146  2.69346734  2.72864322  2.7638191\n",
      "  2.79899497  2.83417085  2.86934673  2.90452261  2.93969849  2.97487437\n",
      "  3.01005025  3.04522613  3.08040201  3.11557789  3.15075377  3.18592965\n",
      "  3.22110553  3.25628141  3.29145729  3.32663317  3.36180905  3.39698492\n",
      "  3.4321608   3.46733668  3.50251256  3.53768844  3.57286432  3.6080402\n",
      "  3.64321608  3.67839196  3.71356784  3.74874372  3.7839196   3.81909548\n",
      "  3.85427136  3.88944724  3.92462312  3.95979899  3.99497487  4.03015075\n",
      "  4.06532663  4.10050251  4.13567839  4.17085427  4.20603015  4.24120603\n",
      "  4.27638191  4.31155779  4.34673367  4.38190955  4.41708543  4.45226131\n",
      "  4.48743719  4.52261307  4.55778894  4.59296482  4.6281407   4.66331658\n",
      "  4.69849246  4.73366834  4.76884422  4.8040201   4.83919598  4.87437186\n",
      "  4.90954774  4.94472362  4.9798995   5.01507538  5.05025126  5.08542714\n",
      "  5.12060302  5.15577889  5.19095477  5.22613065  5.26130653  5.29648241\n",
      "  5.33165829  5.36683417  5.40201005  5.43718593  5.47236181  5.50753769\n",
      "  5.54271357  5.57788945  5.61306533  5.64824121  5.68341709  5.71859296\n",
      "  5.75376884  5.78894472  5.8241206   5.85929648  5.89447236  5.92964824\n",
      "  5.96482412  6.        ]\n"
     ]
    }
   ],
   "source": [
    "#TASK 2 <insert code here>\n",
    "x = make_xgrid(-1,6,200)\n",
    "print(x)"
   ]
  },
  {
   "cell_type": "markdown",
   "metadata": {
    "collapsed": true
   },
   "source": [
    "#### Potential \n",
    "Let's work on the ```potential``` function next! This function needs to calculate the values of the potential well along the x axis grid. This is simply 0 between 0 and L and a very large number outside of the box."
   ]
  },
  {
   "cell_type": "code",
   "execution_count": 38,
   "metadata": {
    "collapsed": true
   },
   "outputs": [],
   "source": [
    "def potential(x, box_l=0.0, box_r=5.0, height=100000.0):\n",
    "    \"\"\"\n",
    "    This function calculates the potential numpy array for a given numpy array of x axis values\n",
    "    \n",
    "    argument:\n",
    "    x np.array : x axis grid\n",
    "    box_l float :  left boundary value of the box\n",
    "    box_r float :  right boundary value of the box\n",
    "    \n",
    "    return value:\n",
    "    pot np.array\n",
    "    \"\"\"\n",
    "    \n",
    "    #the concept of infinity doesn't exist in computers, \n",
    "    #so we will assign the value height to any point outside the range [box_l,box_r]\n",
    "    \n",
    "    #first, let's generate a potential array which has the same dimension as x, but zeros instead\n",
    "    pot = np.zeros_like(x)     #isn't numpy great?\n",
    "    \n",
    "    for i, xvalue in enumerate(x): #we loop through all x values\n",
    "        #enumerate is really nice. \n",
    "        #It allows us to loop through an array and, for each value, gives us an index i and the actual value xvalue\n",
    "        if (xvalue<box_l):\n",
    "            pot[i] = height\n",
    "        elif (xvalue> box_l and xvalue < box_r):\n",
    "            pot[i] = 0.0\n",
    "        elif (xvalue>box_r):\n",
    "            pot[i] = height\n",
    "        else:\n",
    "            #This part of the if-else structure and is a fail-safe. \n",
    "            #ALl possible values are covered by the above clauses, so this one should never be reached. \n",
    "            #If it is reached, we want the code to through the Python version of a hissy fit - a ValueError.\n",
    "            #This would lead to a controlled end of the code with this error message on display.\n",
    "            raise ValueError(\"COMPUTER SAYS NO. This point should never be reached.\")\n",
    "            \n",
    "    return pot\n",
    "    "
   ]
  },
  {
   "cell_type": "markdown",
   "metadata": {},
   "source": [
    "<div class=warn>\n",
    "Note that in  ```potential```, the box_l and box_r arguments have values assigned to them. This is called a **default value** and makes the two values **optional arguments**. If we issue the function ```potential``` without box_l or box_r, it will still work, but it will assume their values are 0 and 5, respectively.\n",
    "\n",
    "<p> **Task 3** Test the potential function by calling it with the above defined x array once with and once without athe box_l and box_r values of 0 and 5 assigned to it. Confirm that the results are identical by plotting pot vs. x! </p>\n",
    "\n",
    "</div>\n"
   ]
  },
  {
   "cell_type": "code",
   "execution_count": 39,
   "metadata": {},
   "outputs": [
    {
     "name": "stdout",
     "output_type": "stream",
     "text": [
      "[ 100000.  100000.  100000.  100000.  100000.  100000.  100000.  100000.\n",
      "  100000.  100000.  100000.  100000.  100000.  100000.  100000.  100000.\n",
      "  100000.  100000.  100000.  100000.  100000.  100000.  100000.  100000.\n",
      "  100000.  100000.  100000.  100000.  100000.       0.       0.       0.\n",
      "       0.       0.       0.       0.       0.       0.       0.       0.\n",
      "       0.       0.       0.       0.       0.       0.       0.       0.\n",
      "       0.       0.       0.       0.       0.       0.       0.       0.\n",
      "       0.       0.       0.       0.       0.       0.       0.       0.\n",
      "       0.       0.       0.       0.       0.       0.       0.       0.\n",
      "       0.       0.       0.       0.       0.       0.       0.       0.\n",
      "       0.       0.       0.       0.       0.       0.       0.       0.\n",
      "       0.       0.       0.       0.       0.       0.       0.       0.\n",
      "       0.       0.       0.       0.       0.       0.       0.       0.\n",
      "       0.       0.       0.       0.       0.       0.       0.       0.\n",
      "       0.       0.       0.       0.       0.       0.       0.       0.\n",
      "       0.       0.       0.       0.       0.       0.       0.       0.\n",
      "       0.       0.       0.       0.       0.       0.       0.       0.\n",
      "       0.       0.       0.       0.       0.       0.       0.       0.\n",
      "       0.       0.       0.       0.       0.       0.       0.       0.\n",
      "       0.       0.       0.       0.       0.       0.       0.       0.\n",
      "       0.       0.       0.       0.       0.       0.       0.       0.\n",
      "       0.       0.       0.  100000.  100000.  100000.  100000.  100000.\n",
      "  100000.  100000.  100000.  100000.  100000.  100000.  100000.  100000.\n",
      "  100000.  100000.  100000.  100000.  100000.  100000.  100000.  100000.\n",
      "  100000.  100000.  100000.  100000.  100000.  100000.  100000.  100000.]\n",
      "[ 100000.  100000.  100000.  100000.  100000.  100000.  100000.  100000.\n",
      "  100000.  100000.  100000.  100000.  100000.  100000.  100000.  100000.\n",
      "  100000.  100000.  100000.  100000.  100000.  100000.  100000.  100000.\n",
      "  100000.  100000.  100000.  100000.  100000.       0.       0.       0.\n",
      "       0.       0.       0.       0.       0.       0.       0.       0.\n",
      "       0.       0.       0.       0.       0.       0.       0.       0.\n",
      "       0.       0.       0.       0.       0.       0.       0.       0.\n",
      "       0.       0.       0.       0.       0.       0.       0.       0.\n",
      "       0.       0.       0.       0.       0.       0.       0.       0.\n",
      "       0.       0.       0.       0.       0.       0.       0.       0.\n",
      "       0.       0.       0.       0.       0.       0.       0.       0.\n",
      "       0.       0.       0.       0.       0.       0.       0.       0.\n",
      "       0.       0.       0.       0.       0.       0.       0.       0.\n",
      "       0.       0.       0.       0.       0.       0.       0.       0.\n",
      "       0.       0.       0.       0.       0.       0.       0.       0.\n",
      "       0.       0.       0.       0.       0.       0.       0.       0.\n",
      "       0.       0.       0.       0.       0.       0.       0.       0.\n",
      "       0.       0.       0.       0.       0.       0.       0.       0.\n",
      "       0.       0.       0.       0.       0.       0.       0.       0.\n",
      "       0.       0.       0.       0.       0.       0.       0.       0.\n",
      "       0.       0.       0.       0.       0.       0.       0.       0.\n",
      "       0.       0.       0.  100000.  100000.  100000.  100000.  100000.\n",
      "  100000.  100000.  100000.  100000.  100000.  100000.  100000.  100000.\n",
      "  100000.  100000.  100000.  100000.  100000.  100000.  100000.  100000.\n",
      "  100000.  100000.  100000.  100000.  100000.  100000.  100000.  100000.]\n"
     ]
    },
    {
     "data": {
      "text/plain": [
       "[<matplotlib.lines.Line2D at 0xb6b2630>]"
      ]
     },
     "execution_count": 39,
     "metadata": {},
     "output_type": "execute_result"
    },
    {
     "data": {
      "image/png": "[encoded data removed]",
      "text/plain": [
       "<matplotlib.figure.Figure at 0xac90240>"
      ]
     },
     "metadata": {},
     "output_type": "display_data"
    }
   ],
   "source": [
    "#TASK 3 <insert code here>\n",
    "pot1 = potential(x)\n",
    "print(pot1)\n",
    "pot2 = potential(x,0,5)\n",
    "print(pot2)\n",
    "\n",
    "plt.plot(x,pot1)\n",
    "plt.plot(x,pot2)\n"
   ]
  },
  {
   "cell_type": "markdown",
   "metadata": {},
   "source": [
    "## Computational Linear Algebra: Scipy and Numpy are your friends\n"
   ]
  },
  {
   "cell_type": "markdown",
   "metadata": {
    "collapsed": true
   },
   "source": [
    "Alright, the next thing on our list requires some heavier maths, namely the functions ```create_H``` and ```diagonalise_H```.\n",
    "\n",
    "The function ```create_H``` is supposed to create the Hamiltonian of the pib1d:\n",
    "\\begin{equation}\n",
    "\\hat{H} = -\\frac{\\hbar^2}{2m}\\frac{d^2}{dx^2} +V\n",
    "\\end{equation}\n",
    "\n",
    "We need to create the Hamiltonian in the basis representation that we have chosen, which is the discrete x axis grid. In this representation, the Hamiltonian is an N-by-N matrix, where N is the number of grid points.\n",
    "\n",
    "We can calculate the potential with our ```potential``` function, but we are missing the kinetic energy contribution. Herefore, we need to calculate a numerical second derivative $d^2/dx^2$ (Laplace operator) with respect to $x$. This is where the numpy matrix routines and the ready-to-use scipy algebra operations will come in very handy.\n",
    "\n"
   ]
  },
  {
   "cell_type": "markdown",
   "metadata": {},
   "source": [
    "There are some Python packages, which are absolutely essential to scientific computing. These include numpy, scipy, and matplotlib:\n",
    "<div class=\"col-md-12\">\n",
    "<div class=\"col-md-4\">\n",
    "<a href=\"https://docs.scipy.org/doc/numpy/user/quickstart.html\"> <img src=\"STUFF/numpy.png\"> </a>\n",
    "</div>\n",
    "<div class=\"col-md-4\">\n",
    "<a href=\"https://docs.scipy.org/doc/scipy/reference/\"> <img src=\"STUFF/scipy.png\"> </a>\n",
    "</div>\n",
    "<div class=\"col-md-4\">\n",
    "<a href=\"https://matplotlib.org/tutorials/index.html\"> <img src=\"STUFF/matplotlib.png\"></a>\n",
    "</div></div>\n",
    "Click on the images to explore some of their capabilities!\n",
    "\n",
    "<p> These packages have been designed, so that we do not have to **re-invent the wheel** every time we code something. ```numpy``` enables us to perform complex matrix and vector operations. ```scipy``` allows us to do integration, differentiation, interpolation, linear algebra, you name it! </p>\n",
    "<br>\n",
    "<p> ```scipy``` for example, has a function that allows us to construct  a numerical Laplace operator, called <a href=\"https://docs.scipy.org/doc/scipy/reference/generated/scipy.ndimage.laplace.html\"> ```scipy.ndimage.laplace```. </a> We can use this to build the kinetic energy operator. (**Rule No. 1 of coding: Always try to see if somebody else has solved the problem already!**</p>\n",
    "\n",
    "\n",
    "\n"
   ]
  },
  {
   "cell_type": "code",
   "execution_count": 40,
   "metadata": {
    "collapsed": true
   },
   "outputs": [],
   "source": [
    "def create_H(x, pot):\n",
    "    \"\"\"\n",
    "    This function creates a Hamiltonian.\n",
    "    It takes the x axis grid and the potential grid and returns the Hamiltonian matrix.\n",
    "    \"\"\"\n",
    "    \n",
    "    #We perform our calculations in atomic units, so hbar=1 and our particle has the mass 1\n",
    "    hbar = 1\n",
    "    m = 1\n",
    "    #distance between grid points\n",
    "    dx = x[1]-x[0]\n",
    "    \n",
    "    ###kinetic energy T\n",
    "    import scipy.ndimage\n",
    "    #This is the second derivative\n",
    "    L = scipy.ndimage.laplace(np.eye(len(x)), mode='wrap')/(2.0*dx*dx)\n",
    "    #Here we add all the constants\n",
    "    T= -(1./2.)*((hbar**2)/m)*L\n",
    "    \n",
    "    #We build the hamiltonian by adding the potential energy to the matrix diagonal\n",
    "    V = np.diag(pot)   #np.diag takes a list of numbers and puts it onto the diagonal; the offdiagonals are 0\n",
    "    \n",
    "    H = T+V\n",
    "    return H\n",
    "    "
   ]
  },
  {
   "cell_type": "markdown",
   "metadata": {
    "collapsed": true
   },
   "source": [
    "<div class=warn>\n",
    "<p> **Task 4** Test the create_H function by calling it with the x grid and the potential we have defined earlier. Use the plotting routine below to visualize the magnitude of the matrix elements. What is the structure of the matrix? Does it remind you of somethign you've seen in the lecture? </p>\n",
    "\n",
    "</div>\n"
   ]
  },
  {
   "cell_type": "code",
   "execution_count": 41,
   "metadata": {},
   "outputs": [
    {
     "data": {
      "image/png": "[encoded data removed]",
      "text/plain": [
       "<matplotlib.figure.Figure at 0xb6b9898>"
      ]
     },
     "metadata": {},
     "output_type": "display_data"
    }
   ],
   "source": [
    "#TASK 4\n",
    "H = create_H(x,pot1)\n",
    "#<insert H calculation code here>\n",
    "\n",
    "\n",
    "plt.imshow(H[:20,:20],vmin=-50, vmax=100);\n",
    "plt.xlabel('bla')\n",
    "plt.colorbar()\n",
    "plt.show()"
   ]
  },
  {
   "cell_type": "markdown",
   "metadata": {},
   "source": [
    "Now that we have the Hamiltonian, we 'just' need to diagonalise it. Here, again, scipy is of great help. It provides us with the <a href=\"https://docs.scipy.org/doc/scipy/reference/generated/scipy.linalg.eigh.html\">```scipy.linalg.eigh``` </a> function, which calculates the eigenvalues ($E$) and eigenvectors ($\\psi$) of a symmetric matrix (H)."
   ]
  },
  {
   "cell_type": "code",
   "execution_count": 42,
   "metadata": {
    "collapsed": true
   },
   "outputs": [],
   "source": [
    "def diagonalise_H(H):\n",
    "    \"\"\"\n",
    "    A 'wrapper function' for the eigh function. \n",
    "    We call functions 'wrappers' when they do little more but encapsulating an existing function.\n",
    "    \n",
    "    The function returns the eigenvalues and the matrix of wave function coefficients.\n",
    "    \n",
    "    \"\"\"\n",
    "    import scipy.linalg as la\n",
    "    E, psi = la.eigh(H)\n",
    "    return E, psi"
   ]
  },
  {
   "cell_type": "markdown",
   "metadata": {},
   "source": [
    "<div class=warn>\n",
    "<p> **Task 5** Test the diagonalise_H function by calling it with the H matrix we built before. \n",
    "Print the eigenvalues and try to see if they make sense, when compared to:\n",
    "    $$ E_n = \\frac{\\hbar^2\\pi^2}{2m}\\frac{n^2}{L^2} $$\n",
    "</div>\n"
   ]
  },
  {
   "cell_type": "code",
   "execution_count": 43,
   "metadata": {},
   "outputs": [
    {
     "data": {
      "text/plain": [
       "<matplotlib.text.Text at 0x98023c8>"
      ]
     },
     "execution_count": 43,
     "metadata": {},
     "output_type": "execute_result"
    },
    {
     "data": {
      "image/png": "[encoded data removed]",
      "text/plain": [
       "<matplotlib.figure.Figure at 0xb28eb70>"
      ]
     },
     "metadata": {},
     "output_type": "display_data"
    }
   ],
   "source": [
    "#TASK 5\n",
    "E, psi = diagonalise_H(H)\n",
    "\n",
    "#Use these functions to plot the energy\n",
    "plt.plot(np.ones(len(E)),E,lw=0.0, marker='_',ms=30)\n",
    "plt.ylim(0,10)\n",
    "plt.ylabel('Energy in Hartree')"
   ]
  },
  {
   "cell_type": "markdown",
   "metadata": {},
   "source": [
    "Looks like we just solved the quantum mechanical particle in a box problem. Now we need a fancy visualisation function!"
   ]
  },
  {
   "cell_type": "markdown",
   "metadata": {},
   "source": [
    "## We need a plotting function\n",
    "\n",
    "The following function is quite complicated and you don't need to understand it in detail for now. You'll learn more about plotting in the fourth key skills lecture\n"
   ]
  },
  {
   "cell_type": "code",
   "execution_count": 72,
   "metadata": {},
   "outputs": [
    {
     "data": {
      "text/html": [
       "<script>\n",
       "code_show=true; \n",
       "function code_toggle() {\n",
       "    if (code_show){\n",
       "        $('div.cell.code_cell.rendered.selected div.input').hide();\n",
       "    } else {\n",
       "        $('div.cell.code_cell.rendered.selected div.input').show();\n",
       "    }\n",
       "    code_show = !code_show\n",
       "} \n",
       "$( document ).ready(code_toggle);\n",
       "</script>\n",
       "Some hidden code... to show/hide this cell's raw code input, click (or double click if stubborn!) <a href=\"javascript:code_toggle()\">here</a>."
      ],
      "text/plain": [
       "<IPython.core.display.HTML object>"
      ]
     },
     "metadata": {},
     "output_type": "display_data"
    }
   ],
   "source": [
    "#### %matplotlib notebook \n",
    "%matplotlib inline \n",
    "import matplotlib.pyplot as plt\n",
    "from ipywidgets import interact, interactive, fixed, interact_manual\n",
    "\n",
    "#def gen_plot_pib1d(x, pot, E, psi):\n",
    "    \n",
    "def plot_pib1d(x, pot, E, psi, n=0):\n",
    "        \"\"\"\n",
    "        plots the energies, the wave function and the probability density with interactive handles.\n",
    "        \"\"\"\n",
    "\n",
    "        n=n-1\n",
    "        import matplotlib.gridspec as gridspec\n",
    "        plt.figure(figsize=(11, 8), dpi= 80, facecolor='w', edgecolor='k') # figsize determines the actual size of the figure\n",
    "        gs1 = gridspec.GridSpec(2, 3)\n",
    "        gs1.update(left=0.05, right=0.90, wspace=0.35,hspace=0.25)\n",
    "        ax1 = plt.subplot(gs1[: ,0])\n",
    "        ax2 = plt.subplot(gs1[0, 1:])\n",
    "        ax3 = plt.subplot(gs1[1, 1:])\n",
    "\n",
    "\n",
    "        ax1.plot(x, pot, color='gray')\n",
    "        ax1.plot(np.ones(len(E)), E, lw=0.0, marker='_',ms=4000, color='blue')\n",
    "        ax1.plot(1, E[n], lw=0.0, marker='_',ms=4000, color='red')\n",
    "        ax1.set_ylim(-1,21)\n",
    "        ax2.plot(x, psi[:,n])  \n",
    "        ax3.plot(x, psi[:,n]*psi[:,n])\n",
    "\n",
    "        #figure out boundaries\n",
    "        start=0; stop=0\n",
    "        for i, p in enumerate(pot):\n",
    "            if (p>-0.001 and p<0.001):\n",
    "                start=x[i-1]\n",
    "                break\n",
    "        for i, p in enumerate(pot):\n",
    "            if (p>-0.001 and p<0.001):\n",
    "                stop=x[i+1]\n",
    "\n",
    "        ax2.axvline(start, color='gray')\n",
    "        ax2.axvline(stop, color='gray')  \n",
    "        ax3.axvline(start, color='gray')\n",
    "        ax3.axvline(stop, color='gray')\n",
    "        ax3.axhline(0.0,color='gray')\n",
    "\n",
    "        #Labeling of x and y axes\n",
    "        ax1.set_xlabel('x',fontsize=14)\n",
    "        ax1.set_ylabel('Energy [eV]',fontsize=14)\n",
    "        ax2.set_ylabel(r'wave function $\\psi(x)$',fontsize=14)\n",
    "        ax3.set_ylabel(r'density $|\\psi|^2$(x)',fontsize=14)\n",
    "        ax2.set_xlabel(r'x',fontsize=14)\n",
    "        ax3.set_xlabel(r'x',fontsize=14)\n",
    "\n",
    "        #Show the final result\n",
    "        plt.show()\n",
    "        return plot_pib1d\n",
    "    \n",
    "# Taken from https://stackoverflow.com/questions/31517194/how-to-hide-one-specific-cell-input-or-output-in-ipython-notebook\n",
    "tag = HTML('''<script>\n",
    "code_show=true; \n",
    "function code_toggle() {\n",
    "    if (code_show){\n",
    "        $('div.cell.code_cell.rendered.selected div.input').hide();\n",
    "    } else {\n",
    "        $('div.cell.code_cell.rendered.selected div.input').show();\n",
    "    }\n",
    "    code_show = !code_show\n",
    "} \n",
    "$( document ).ready(code_toggle);\n",
    "</script>\n",
    "Some hidden code... to show/hide this cell's raw code input, click (or double click if stubborn!) <a href=\"javascript:code_toggle()\">here</a>.''')\n",
    "display(tag)\n",
    "\n",
    "interactive_plot = interactive(plot_pib1d,x=fixed(x),pot=fixed(pot1),E=fixed(E),psi=fixed(psi),n=range(1,21))"
   ]
  },
  {
   "cell_type": "code",
   "execution_count": null,
   "metadata": {
    "collapsed": true
   },
   "outputs": [],
   "source": [
    "interactive_plot"
   ]
  },
  {
   "cell_type": "markdown",
   "metadata": {},
   "source": [
    "<div class=warn>\n",
    "<p> **Task 6** Play around with the visualisation! Verify that your functions produce the right physics. You should look out for the following features:\n",
    "<p> (A) Do the wave functions show the right number of nodal planes? </p>\n",
    "<p> (B) Do the energy levels follow the $n^2$ behavior? </p>\n",
    "</div>"
   ]
  },
  {
   "cell_type": "code",
   "execution_count": 73,
   "metadata": {},
   "outputs": [
    {
     "data": {
      "application/vnd.jupyter.widget-view+json": {
       "model_id": "cc07c91fedd144bda20fc64ba81955fc"
      }
     },
     "metadata": {},
     "output_type": "display_data"
    }
   ],
   "source": [
    "#TASK 6 EXECUTE THIS CELL\n",
    "interactive_plot"
   ]
  },
  {
   "cell_type": "markdown",
   "metadata": {},
   "source": [
    "## Putting it all together - the `main program`"
   ]
  },
  {
   "cell_type": "markdown",
   "metadata": {
    "collapsed": true
   },
   "source": [
    "Now we have all the ingredients we need to build a stand-alone program that performs these operations. We simply generate a ```pib1d``` function which takes arguments and then executes the functions we have generated above in the right order. Some of the sub-function arguments depend on each other and don't need to be set by the user, for example if the box goes from 0 to 5, we can just force the x axis grid to always extend by 1 to the left and to the right. (This is what we call **user interface design**. We don't bother users with too many choices.)\n"
   ]
  },
  {
   "cell_type": "code",
   "execution_count": 81,
   "metadata": {},
   "outputs": [],
   "source": [
    "def pib1d(N, box_l, box_r, height=100000.0):\n",
    "    \"\"\"\n",
    "    calculates and visualises the energies and wave functions of the 1d particle in a box\n",
    "    \n",
    "    This program takes the number of grid points and the start and end point of the box as arguments and \n",
    "    returns a visualisation.\n",
    "    \"\"\"\n",
    "    \n",
    "    x = make_xgrid(box_l-1.0,box_r+1.0,N)\n",
    "    pot = potential(x,box_l, box_r, height)\n",
    "    H = create_H(x,pot)\n",
    "    E, psi = diagonalise_H(H)\n",
    "    plot_pib1d = gen_plot_pib1d(x, pot, E, psi)\n",
    "    interact(plot_pib1d,x=fixed(x),pot=fixed(pot),E=fixed(E),psi=fixed(psi),n=range(1,21))   \n",
    "    \n",
    "    #If the function doesn't have a return value, we simply return the logical value true when everything ran smoothly to the end\n",
    "    return True"
   ]
  },
  {
   "cell_type": "code",
   "execution_count": 82,
   "metadata": {},
   "outputs": [
    {
     "data": {
      "application/vnd.jupyter.widget-view+json": {
       "model_id": "0492bc3545094b509b4075fd76983ea4"
      }
     },
     "metadata": {},
     "output_type": "display_data"
    }
   ],
   "source": [
    "#Let's give it a test run\n",
    "\n",
    "#Number of grid points\n",
    "N = 200\n",
    "box_l = 0.0\n",
    "box_r = 5.0\n",
    "height = 100000.0\n",
    "pib1d(N,box_l,box_r, height)"
   ]
  },
  {
   "cell_type": "markdown",
   "metadata": {
    "collapsed": true
   },
   "source": [
    "## Let's play with it!"
   ]
  },
  {
   "cell_type": "markdown",
   "metadata": {
    "collapsed": true
   },
   "source": [
    "<div class=warn>\n",
    "**Tasks 7**  \n",
    "* What happens to the energies when you change the box size?\n",
    "* What happens when we reduce the height of the box to 25.0? Look at the density at the box edges! (The wave function is tunneling)\n",
    "<div/>"
   ]
  },
  {
   "cell_type": "code",
   "execution_count": 85,
   "metadata": {},
   "outputs": [
    {
     "data": {
      "application/vnd.jupyter.widget-view+json": {
       "model_id": "e35b6fd2af2744418ee08332f7c9cc74"
      }
     },
     "metadata": {},
     "output_type": "display_data"
    }
   ],
   "source": [
    "#TASK\n",
    "N = #<INSERT VALUE>\n",
    "box_l = #<INSERT VALUE>\n",
    "box_r = #<INSERT VALUE>\n",
    "height = #<INSERT VALUE>\n",
    "pib1d(N,box_l,box_r, height)"
   ]
  },
  {
   "cell_type": "markdown",
   "metadata": {},
   "source": [
    "## The power of reusable code - beyond the particle in a box"
   ]
  },
  {
   "cell_type": "markdown",
   "metadata": {
    "collapsed": true
   },
   "source": [
    "Because we wrote our code in such a general and reusable way, we can use it for other problems beyond the particle in a box. FOr example, we can simply switch the potential function to something else and describe that. Below, I supply a potential function for a harmonic potential and I changed a single line in the main code (```HO1D```) to calculate the **quantum mechanic harmonic oscillator**"
   ]
  },
  {
   "cell_type": "code",
   "execution_count": 89,
   "metadata": {},
   "outputs": [],
   "source": [
    "#potential function\n",
    "def harmonic_potential(x, x0=2.5, k=10.):\n",
    "\n",
    "    return 0.5*k*(x-x0)*(x-x0)\n",
    "\n",
    "\n",
    "#new main program where we replaced the potential\n",
    "def HO1D(N,box_l,box_r, k=10.0):\n",
    "        \n",
    "    x = make_xgrid(box_l-1.0,box_r+1.0,N)\n",
    "    ######ONLY THIS LINE IS DIFFERENT\n",
    "    x0 = (box_l+box_r)/2\n",
    "    pot = harmonic_potential(x, x0, k)\n",
    "    ######END OF DIFFERENCE##########\n",
    "    H = create_H(x,pot)\n",
    "    E, psi = diagonalise_H(H)\n",
    "    plot_pib1d = gen_plot_pib1d(x, pot, E, psi)\n",
    "    interact(plot_pib1d,x=fixed(x),pot=fixed(pot),E=fixed(E),psi=fixed(psi),n=range(1,21))   \n",
    "    \n",
    "    return True"
   ]
  },
  {
   "cell_type": "code",
   "execution_count": 90,
   "metadata": {},
   "outputs": [
    {
     "data": {
      "application/vnd.jupyter.widget-view+json": {
       "model_id": "68391c6935fc454ea1aead713d7531d2"
      }
     },
     "metadata": {},
     "output_type": "display_data"
    },
    {
     "data": {
      "text/plain": [
       "True"
      ]
     },
     "execution_count": 90,
     "metadata": {},
     "output_type": "execute_result"
    }
   ],
   "source": [
    "#Number of grid points\n",
    "N = 200\n",
    "box_l = 0.0\n",
    "box_r = 5.0\n",
    "height = 10.0\n",
    "HO1D(N,box_l,box_r, height)"
   ]
  },
  {
   "cell_type": "markdown",
   "metadata": {},
   "source": [
    "<div class=warn>\n",
    "## Tasks\n",
    "* You can design your own potential functions to play around with this. For example, a box with a kink in the middle, or the Coulomb potential for a hydrogen atom in 1D.<br>\n",
    "<div/>"
   ]
  }
 ],
 "metadata": {
  "kernelspec": {
   "display_name": "Python 2",
   "language": "python",
   "name": "python2"
  },
  "language_info": {
   "codemirror_mode": {
    "name": "ipython",
    "version": 2
   },
   "file_extension": ".py",
   "mimetype": "text/x-python",
   "name": "python",
   "nbconvert_exporter": "python",
   "pygments_lexer": "ipython2",
   "version": "2.7.13"
  }
 },
 "nbformat": 4,
 "nbformat_minor": 2
}
