{
 "cells": [
  {
   "cell_type": "code",
   "execution_count": 1,
   "metadata": {},
   "outputs": [
    {
     "data": {
      "text/html": [
       "<script>\n",
       "code_show=true; \n",
       "function code_toggle() {\n",
       "    if (code_show){\n",
       "        $('div.cell.code_cell.rendered.selected div.input').hide();\n",
       "    } else {\n",
       "        $('div.cell.code_cell.rendered.selected div.input').show();\n",
       "    }\n",
       "    code_show = !code_show\n",
       "} \n",
       "$( document ).ready(code_toggle);\n",
       "</script>\n",
       "Some hidden code... to show/hide this cell's raw code input, click (or double click if stubborn!) <a href=\"javascript:code_toggle()\">here</a>."
      ],
      "text/plain": [
       "<IPython.core.display.HTML object>"
      ]
     },
     "metadata": {},
     "output_type": "display_data"
    },
    {
     "data": {
      "text/html": [
       "<style>\n",
       "div.warn {    \n",
       "    background-color: #b3b3ff;\n",
       "    border-color: #0000b3;\n",
       "    border-left: 5px solid #0000b3;\n",
       "    padding: 0.5em;\n",
       "    }\n",
       " </style>\n"
      ],
      "text/plain": [
       "<IPython.core.display.HTML object>"
      ]
     },
     "execution_count": 1,
     "metadata": {},
     "output_type": "execute_result"
    }
   ],
   "source": [
    "from IPython.display import HTML\n",
    "from IPython.display import display\n",
    "\n",
    "# Taken from https://stackoverflow.com/questions/31517194/how-to-hide-one-specific-cell-input-or-output-in-ipython-notebook\n",
    "tag = HTML('''<script>\n",
    "code_show=true; \n",
    "function code_toggle() {\n",
    "    if (code_show){\n",
    "        $('div.cell.code_cell.rendered.selected div.input').hide();\n",
    "    } else {\n",
    "        $('div.cell.code_cell.rendered.selected div.input').show();\n",
    "    }\n",
    "    code_show = !code_show\n",
    "} \n",
    "$( document ).ready(code_toggle);\n",
    "</script>\n",
    "Some hidden code... to show/hide this cell's raw code input, click (or double click if stubborn!) <a href=\"javascript:code_toggle()\">here</a>.''')\n",
    "display(tag)\n",
    "\n",
    "############### Write code below ##################\n",
    "from IPython.core.display import HTML\n",
    "def css_styling():\n",
    "    styles = open(\"./STUFF/colors.css\", \"r\").read()\n",
    "    return HTML(styles)\n",
    "css_styling()"
   ]
  },
  {
   "cell_type": "code",
   "execution_count": null,
   "metadata": {
    "collapsed": true
   },
   "outputs": [],
   "source": []
  },
  {
   "cell_type": "markdown",
   "metadata": {},
   "source": [
    "<div class=warn>\n",
    "These blue boxes contain instructions for you to follow, or stuff for you to do\n",
    "<h2>How to access this Jupyter notebook</h2>\n",
    "\n",
    "* <b>Step 1</b>: Open a web browser, go to [this page](https://warwick.ac.uk/fac/sci/chemistry/research/maurer/maurergroup/software/iatl_strategic_project/), scroll down, download the Login App (the Windows exacutable if using ITS machines) and double click on the executable (usually ended up into the Download folder) <br>\n",
    "* <b>Step 2</b>: The Notebook Launcher pops up: select the CH274 module and fill in the boxes using your SCRTP username and password <br>\n",
    "* <b>Step 3</b>: Open the Jupyter notebook you are interested in, e.g. KS_3_Class.ipynb <br>\n",
    "* <b>Step 4</b>: Make a copy of the orginal notebook (which is read only). In the toolbar on top of the notebook: File - Make a Copy <br>\n",
    "* <b>Step 5</b>: You're all set! <br><br>\n",
    "<b> Remember: </b> You can access this notebook at home at any time by going through the same steps on e.g. your laptop - all the changes you have made will be saved and synced!<br>\n",
    "<div/>"
   ]
  },
  {
   "cell_type": "markdown",
   "metadata": {},
   "source": [
    "# CH274: Key Skills 3\n",
    "## Functions, Code Design, and Linear Algebra\n",
    "\n",
    "In this session, we are going to look at some more advanced features of the Python programming language, such as:\n",
    "* How to write functions\n",
    "* Methods to design a program with reusable code structures (aka functions)\n",
    "* How to perform linear algebra operations with the numpy and scipy libraries\n",
    "* How to not reinvent the wheel (using existing functions and libraries)\n",
    "\n",
    "We will do this by writing a code that will solve a quantum mechanical problem: the particle in a box."
   ]
  },
  {
   "cell_type": "markdown",
   "metadata": {},
   "source": [
    "## Quick Recap from Key Skills 1 and Key Skills 2 (CH273)\n",
    "\n",
    "\n",
    "* you've learned about the basics of phyton, variables, strings, printing\n",
    "\n",
    "\n"
   ]
  },
  {
   "cell_type": "code",
   "execution_count": 2,
   "metadata": {},
   "outputs": [
    {
     "name": "stdout",
     "output_type": "stream",
     "text": [
      "float     integer    string     complex number\n",
      "3.0  |  3  |  12  |  (1+2j)\n"
     ]
    }
   ],
   "source": [
    "a = 1.0 + 2.0\n",
    "b = 1 + 2\n",
    "c = '1' + '2'\n",
    "d = 1.0 + 2.0j # this is a complex number with a real part (1.0) and an imaginary part (2.0j)\n",
    "print('float     integer    string     complex number')\n",
    "print(a, ' | ', b,' | ', c,' | ', d)"
   ]
  },
  {
   "cell_type": "markdown",
   "metadata": {},
   "source": [
    "* you've learned how to use numpy to define arrays and lists of numbers and to read in files\n",
    "\n"
   ]
  },
  {
   "cell_type": "code",
   "execution_count": 11,
   "metadata": {},
   "outputs": [
    {
     "name": "stdout",
     "output_type": "stream",
     "text": [
      "This is an array [ 1  2  3  4  5  6  7  8  9 10]\n",
      "array enable element-wise multiplications\n",
      "x                                     x*x\n",
      "[ 1  2  3  4  5  6  7  8  9 10] [  1   4   9  16  25  36  49  64  81 100]\n",
      "[[   1.    1.]\n",
      " [   2.    4.]\n",
      " [   3.    9.]\n",
      " [   4.   16.]\n",
      " [   5.   25.]\n",
      " [   6.   36.]\n",
      " [   7.   49.]\n",
      " [   8.   64.]\n",
      " [   9.   81.]\n",
      " [  10.  100.]]\n",
      "Columns and Rows:  (10, 2)\n",
      "Carving out columns:\n",
      "[  1.   2.   3.   4.   5.   6.   7.   8.   9.  10.] [   1.    4.    9.   16.   25.   36.   49.   64.   81.  100.]\n",
      "Carving out rows\n",
      "[ 1.  1.] [ 2.  4.]\n"
     ]
    }
   ],
   "source": [
    "import numpy as np\n",
    "x = np.array([1,2,3,4,5,6,7,8,9,10])\n",
    "print('This is an array',x)\n",
    "y = x*x # multiplies each value in x with itself and generates a new array\n",
    "print('array enable element-wise multiplications')\n",
    "print('x                                     x*x')\n",
    "print(x, y)\n",
    "data = np.loadtxt('STUFF/test.txt')\n",
    "print(data) #2-dimensional array with 10 rows and 2 columns \n",
    "print('Columns and Rows: ', data.shape)\n",
    "print('Carving out columns:')\n",
    "print(data[:,0],data[:,1])\n",
    "print('Carving out rows')\n",
    "print(data[0,:],data[1,:])"
   ]
  },
  {
   "cell_type": "markdown",
   "metadata": {},
   "source": [
    "* you've learned how to iterate through arrays and lists with for-loops\n",
    "\n"
   ]
  },
  {
   "cell_type": "code",
   "execution_count": 15,
   "metadata": {},
   "outputs": [
    {
     "name": "stdout",
     "output_type": "stream",
     "text": [
      "[  1   4   9  16  25  36  49  64  81 100]\n",
      "[  1   4   9  16  25  36  49  64  81 100]\n"
     ]
    }
   ],
   "source": [
    "index = 0\n",
    "for x_val in x:\n",
    "    y[index] = x_val*x_val\n",
    "    index = index + 1\n",
    "print(y)\n",
    "    \n",
    "#this can also be written in one line\n",
    "y = np.array( [x_val*x_val for x_val in x] )\n",
    "print(y)"
   ]
  },
  {
   "cell_type": "markdown",
   "metadata": {},
   "source": [
    "* you've learned how to do basic plotting"
   ]
  },
  {
   "cell_type": "code",
   "execution_count": 13,
   "metadata": {},
   "outputs": [
    {
     "data": {
      "image/png": "[encoded data removed]",
      "text/plain": [
       "<matplotlib.figure.Figure at 0x1b3d4a171d0>"
      ]
     },
     "metadata": {},
     "output_type": "display_data"
    }
   ],
   "source": [
    "%matplotlib notebook \n",
    "%matplotlib inline \n",
    "import matplotlib.pyplot as plt\n",
    "\n",
    "plt.plot(x,y)\n",
    "plt.show()"
   ]
  },
  {
   "cell_type": "markdown",
   "metadata": {},
   "source": [
    "***"
   ]
  },
  {
   "cell_type": "markdown",
   "metadata": {},
   "source": [
    "# The particle in a box in 1D (pib1d)\n",
    "Here's a quick reminder of the particle in a box \n",
    "\n",
    "\n",
    "<div class=\"col-md-12\">\n",
    "                    </div>\n",
    "                    <div class=\"col-md-12\">\n",
    "                    <div class=\"col-md-4\">\n",
    "                        <img src=\"STUFF/tik1d.png\" alt=\"Motivation\">\n",
    "                    </div>\n",
    "                    <div class=\"col-md-8\">\n",
    "                        <p>  Schrödinger equation (SE): $\\hat{H}\\psi = E\\psi $</p>\n",
    "                        <p class=\"\">  \n",
    "                        SE: action of energy operator $\\hat{H}$ defines the energy and wave function $\\psi$  </p>\n",
    "                        <p class=\"\"> $$ \\hat{H} = -\\frac{\\hbar^2}{2m}\\frac{d^2}{dx^2} +V  $$</p>\n",
    "                        <p class=\" margin-top-10\"> boundary conditions: $ \\psi(0) = 0 \\quad\\text{and}\\quad \\psi(L) = 0 $</p>\n",
    "                    </div>\n",
    "                    </div>\n",
    "                    <div class=\"col-md-6\">\n",
    "                        <p> wave functions</p> \n",
    "                        <p> $$ \\psi_n(x) = \\sqrt{\\frac{2}{L}}\\sin{\\frac{n\\pi}{L}}  $$  </p>\n",
    "                    </div>\n",
    "                    <div class=\"col-md-6\">\n",
    "                        <p> energies </p>\n",
    "                        <p> $$ E_n = \\frac{\\hbar^2\\pi^2}{2m}\\frac{n^2}{L^2}  $$  </p>\n",
    "                    </div>"
   ]
  },
  {
   "cell_type": "markdown",
   "metadata": {
    "collapsed": true
   },
   "source": [
    "Our approach to **design a code** to calculate the wave functions and the energies shall be as follows:\n",
    "\n",
    "(1) First we have to think carefully about what different building blocks we need. Each of these elements or building blocks could potentially be designed to be an independent piece of code that can be called as often as we want (This is what we call a **function**.) Functions allow us to package and reuse code without having to modify it. Look at the cells in the Recap section to see examples of non-reusable code (sometimes called 'spagetti' code) \n",
    "\n",
    "In the example of the pib1d, we need following building blocks\n",
    "* a function that sets up the box along the $x$ axis (let's call this function ```make_xgrid```)\n",
    "* a function that defines the potential and imposes the boundary condition (let's call this function ```potential```)\n",
    "* a function that sets up the Hamiltonian (let's call this ```create_hamiltonian```)\n",
    "* a function that diagonalises the SE: $\\hat{H}\\psi = E\\psi $ to give us $E$ and $\\psi$ (```diagonalise_H```)\n",
    "* a function that plots $E(x)$ and $\\psi(x)$ (```generate_plots```)\n",
    "\n",
    "\n",
    "\n",
    "(2) Then we need to write and test these 5 functions. **Testing** is essential as it enables us to know which parts of the code operate as intended.\n",
    "\n",
    "(3) At the end, when we know that all functions do what they are supposed to do, we write code (can be spagetti code or a function) that executes the functions in the right order. This is typically called the ```main``` or ```program```.\n",
    "\n"
   ]
  },
  {
   "cell_type": "markdown",
   "metadata": {
    "collapsed": true
   },
   "source": [
    "## How do Python functions work?\n",
    "\n"
   ]
  },
  {
   "cell_type": "code",
   "execution_count": null,
   "metadata": {
    "collapsed": true
   },
   "outputs": [],
   "source": []
  },
  {
   "cell_type": "code",
   "execution_count": null,
   "metadata": {
    "collapsed": true
   },
   "outputs": [],
   "source": [
    "def make_xgrid"
   ]
  },
  {
   "cell_type": "code",
   "execution_count": null,
   "metadata": {
    "collapsed": true
   },
   "outputs": [],
   "source": []
  },
  {
   "cell_type": "code",
   "execution_count": null,
   "metadata": {
    "collapsed": true
   },
   "outputs": [],
   "source": []
  },
  {
   "cell_type": "code",
   "execution_count": null,
   "metadata": {
    "collapsed": true
   },
   "outputs": [],
   "source": []
  },
  {
   "cell_type": "markdown",
   "metadata": {},
   "source": [
    "## Computational Linear Algebra: Scipy and Numpy are your friends\n"
   ]
  },
  {
   "cell_type": "code",
   "execution_count": null,
   "metadata": {
    "collapsed": true
   },
   "outputs": [],
   "source": []
  },
  {
   "cell_type": "code",
   "execution_count": null,
   "metadata": {
    "collapsed": true
   },
   "outputs": [],
   "source": []
  },
  {
   "cell_type": "code",
   "execution_count": null,
   "metadata": {
    "collapsed": true
   },
   "outputs": [],
   "source": []
  },
  {
   "cell_type": "markdown",
   "metadata": {},
   "source": [
    "## We need a plotting function"
   ]
  },
  {
   "cell_type": "markdown",
   "metadata": {},
   "source": []
  },
  {
   "cell_type": "code",
   "execution_count": null,
   "metadata": {
    "collapsed": true
   },
   "outputs": [],
   "source": [
    "# let's have a look...\n",
    "%matplotlib notebook \n",
    "%matplotlib inline \n",
    "import matplotlib.pyplot as plt\n",
    "\n",
    "\n",
    "plt.figure(figsize=(8, 4), dpi= 80, facecolor='w', edgecolor='k') # figsize determine the actual size of the figure\n",
    "\n",
    "plt.plot(energy_levels[:,0], energy_levels[:,1], linewidth=2.5)\n",
    "plt.plot(energy_levels[:,0], energy_levels[:,1], 'o', markerfacecolor='orange', markersize=12, markeredgecolor='blue', \n",
    "         linewidth=2.5)\n",
    "\n",
    "# Labeling of x and y axes\n",
    "plt.xlabel('Energy level n.',fontsize=14)\n",
    "plt.ylabel('Energy [eV]',fontsize=14)\n",
    "\n",
    "axes = plt.gca()\n",
    "axes.set_xlim([1,n_levels+1])\n",
    "#axes.set_ylim([ymin,ymax])\n",
    "\n",
    "plt.tick_params(axis='both', which='major', labelsize=14)\n",
    "plt.tick_params(axis='both', which='minor', labelsize=14)\n",
    "\n",
    "# Show the final result\n",
    "plt.show()"
   ]
  },
  {
   "cell_type": "markdown",
   "metadata": {},
   "source": [
    "## Putting it all together - the `main program`"
   ]
  },
  {
   "cell_type": "code",
   "execution_count": null,
   "metadata": {
    "collapsed": true
   },
   "outputs": [],
   "source": []
  },
  {
   "cell_type": "code",
   "execution_count": null,
   "metadata": {
    "collapsed": true
   },
   "outputs": [],
   "source": []
  },
  {
   "cell_type": "markdown",
   "metadata": {
    "collapsed": true
   },
   "source": [
    "## Let's play with it!"
   ]
  },
  {
   "cell_type": "code",
   "execution_count": null,
   "metadata": {
    "collapsed": true
   },
   "outputs": [],
   "source": []
  },
  {
   "cell_type": "code",
   "execution_count": null,
   "metadata": {
    "collapsed": true
   },
   "outputs": [],
   "source": []
  },
  {
   "cell_type": "code",
   "execution_count": null,
   "metadata": {
    "collapsed": true
   },
   "outputs": [],
   "source": []
  },
  {
   "cell_type": "markdown",
   "metadata": {},
   "source": [
    "## The power of reusable code - beyond the particle in a box"
   ]
  },
  {
   "cell_type": "code",
   "execution_count": null,
   "metadata": {
    "collapsed": true
   },
   "outputs": [],
   "source": []
  },
  {
   "cell_type": "markdown",
   "metadata": {},
   "source": [
    "<div class=warn>\n",
    "## Tasks\n",
    "* Write down (in a Markdown cell) the expression for the electronic partition function of NO keeping into account the electronic ground state and the first excited state<br>\n",
    "* Plot the value of the electronic partition function of NO as a function of temperature (best visualised if the temperature is rescaled in units of $k_BT/\\Delta E$)<br>\n",
    "* What values do you expect the electronic partition function of NO will assume at (a.) T=0 K and (b.) in the limit of incredibly high temperatures? Why?<br>\n",
    "* Calculate the actual value of the the electronic partition function of NO at (a.) T=0 K and (b.) 10000 K. Does it make sense?\n",
    "<div/>"
   ]
  },
  {
   "cell_type": "code",
   "execution_count": null,
   "metadata": {
    "collapsed": true
   },
   "outputs": [],
   "source": []
  }
 ],
 "metadata": {
  "kernelspec": {
   "display_name": "Python 3",
   "language": "python",
   "name": "python3"
  },
  "language_info": {
   "codemirror_mode": {
    "name": "ipython",
    "version": 3
   },
   "file_extension": ".py",
   "mimetype": "text/x-python",
   "name": "python",
   "nbconvert_exporter": "python",
   "pygments_lexer": "ipython3",
   "version": "3.6.3"
  }
 },
 "nbformat": 4,
 "nbformat_minor": 2
}
